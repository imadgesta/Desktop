{
 "cells": [
  {
   "cell_type": "code",
   "execution_count": 1,
   "id": "434b4c93-142d-45aa-9f1d-f05622fc35cc",
   "metadata": {},
   "outputs": [],
   "source": [
    "#import turtle\n",
    "#t = turtle.Turtle()\n",
    "\n",
    "#t.forward(100)    # вперёд\n",
    "#t.penup()        # pen up -поднять перо\n",
    "#t.forward(100)\n",
    "#t.pendown()       # pen down - опкстить перо\n",
    "\n",
    "#turtle.done()"
   ]
  },
  {
   "cell_type": "markdown",
   "id": "11ef177e-2dbc-4142-bbd2-3f4279556b8b",
   "metadata": {},
   "source": [
    "# перемещаемся по координатам"
   ]
  },
  {
   "cell_type": "code",
   "execution_count": 1,
   "id": "755e6c79-d3bf-4cec-8ccf-05e7a2a35675",
   "metadata": {},
   "outputs": [],
   "source": [
    "#import turtle\n",
    "#t = turtle.Turtle()\n",
    "\n",
    "#t.penup()        # pen up -поднять перо\n",
    "#t.goto(-200, -200)\n",
    "#t.pendown()       # pen down - опкстить перо\n",
    "\n",
    "#turtle.done()"
   ]
  },
  {
   "cell_type": "markdown",
   "id": "2a9abf6b-2151-4adc-b838-04b8f1c7c956",
   "metadata": {},
   "source": [
    "# рисуем цветной круг"
   ]
  },
  {
   "cell_type": "code",
   "execution_count": 1,
   "id": "f4d21f45-281a-4c30-b7d0-342eb291a6fe",
   "metadata": {},
   "outputs": [],
   "source": [
    "#import turtle\n",
    "#t = turtle.Turtle()\n",
    "\n",
    "#t.circle(50)          # рисуем круг\n",
    "\n",
    "#turtle.done()"
   ]
  },
  {
   "cell_type": "markdown",
   "id": "2cd74d31-57e2-4028-885e-1d02ff1c7936",
   "metadata": {},
   "source": [
    "# цветной круг"
   ]
  },
  {
   "cell_type": "code",
   "execution_count": 1,
   "id": "a368a7c0-c4ad-4b21-8437-90c1db786710",
   "metadata": {},
   "outputs": [],
   "source": [
    "#import turtle\n",
    "#t = turtle.Turtle()\n",
    "\n",
    "#t.begin_fill()        # to fill - заливать,наполнять\n",
    "#t.circle(50)          # рисуем круг\n",
    "#t.fillcolor('red')    # красный цвет\n",
    "#t.end_fill()\n",
    "\n",
    "#turtle.done()"
   ]
  },
  {
   "cell_type": "markdown",
   "id": "841fdddc-79a4-46db-b4f9-f461214b0f9b",
   "metadata": {},
   "source": [
    "# рисуем круг случайного цвета"
   ]
  },
  {
   "cell_type": "code",
   "execution_count": 1,
   "id": "aa2132aa-ab95-4505-a4e2-4911c4f2eb02",
   "metadata": {},
   "outputs": [],
   "source": [
    "#import turtle\n",
    "t = turtle.Turtle()\n",
    "\n",
    "t.screen.colormode(255)   #\n",
    "t.begin_fill()            # to fill - заливать,наполнять\n",
    "t.circle(50)              # рисуем круг\n",
    "t.fillcolor(0, 0, 0)      # R G B - нет цветов, ЧЁРНЫЙ круг\n",
    "t.end_fill()\n",
    "\n",
    "turtle.done()"
   ]
  },
  {
   "cell_type": "code",
   "execution_count": 1,
   "id": "e7c964a0-b925-4282-b59a-66da19709cc4",
   "metadata": {},
   "outputs": [],
   "source": [
    "#import turtle\n",
    "t = turtle.Turtle()\n",
    "\n",
    "t.screen.colormode(255)   #\n",
    "t.begin_fill()            # to fill - заливать,наполнять\n",
    "t.circle(50)              # рисуем круг\n",
    "t.fillcolor(255, 0, 0)      # R G B - R255-красный круг\n",
    "t.end_fill()\n",
    "\n",
    "turtle.done()"
   ]
  },
  {
   "cell_type": "code",
   "execution_count": 1,
   "id": "1e4a79d7-1d2b-452a-aefc-6934c3e7b893",
   "metadata": {},
   "outputs": [],
   "source": [
    "#import turtle\n",
    "t = turtle.Turtle()\n",
    "\n",
    "t.screen.colormode(255)   #\n",
    "t.begin_fill()            # to fill - заливать,наполнять\n",
    "t.circle(50)              # рисуем круг\n",
    "t.fillcolor(0, 255, 0)      # R G B - G255-ЗЕЛЁНЫЙ круг\n",
    "t.end_fill()\n",
    "\n",
    "turtle.done()"
   ]
  },
  {
   "cell_type": "code",
   "execution_count": 1,
   "id": "9d916a4c-bd77-489d-b573-db2eb228da10",
   "metadata": {},
   "outputs": [],
   "source": [
    "#import turtle\n",
    "t = turtle.Turtle()\n",
    "\n",
    "t.screen.colormode(255)   #\n",
    "t.begin_fill()            # to fill - заливать,наполнять\n",
    "t.circle(50)              # рисуем круг\n",
    "t.fillcolor(0, 0, 255)      # R G B - B255-ГОЛУБОЙ круг\n",
    "t.end_fill()\n",
    "\n",
    "turtle.done()"
   ]
  },
  {
   "cell_type": "code",
   "execution_count": null,
   "id": "ff8ce571-5592-46e1-a7b0-a9b51a689c95",
   "metadata": {},
   "outputs": [],
   "source": []
  },
  {
   "cell_type": "code",
   "execution_count": null,
   "id": "0cfdc005-ef56-42b5-8d4a-8dc6702a1766",
   "metadata": {},
   "outputs": [],
   "source": []
  }
 ],
 "metadata": {
  "kernelspec": {
   "display_name": "Python 3 (ipykernel)",
   "language": "python",
   "name": "python3"
  },
  "language_info": {
   "codemirror_mode": {
    "name": "ipython",
    "version": 3
   },
   "file_extension": ".py",
   "mimetype": "text/x-python",
   "name": "python",
   "nbconvert_exporter": "python",
   "pygments_lexer": "ipython3",
   "version": "3.11.5"
  }
 },
 "nbformat": 4,
 "nbformat_minor": 5
}
