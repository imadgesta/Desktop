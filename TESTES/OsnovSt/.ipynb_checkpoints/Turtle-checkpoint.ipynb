{
 "cells": [
  {
   "cell_type": "code",
   "execution_count": 4,
   "id": "047f1d50-f5a4-433d-9c6e-cd9910cb1e53",
   "metadata": {},
   "outputs": [],
   "source": [
    "# turtle.right(90)      # Поворот направо на 90 градусов\n",
    "# turtle.forward(100)   # Движение вперед на 100 шагов (пикселей)\n",
    "# turtle.left(90)       # Поворот налево на 90 градусов\n",
    "# turtle.backward(100)  # Движение назад на 100 шагов"
   ]
  },
  {
   "cell_type": "markdown",
   "id": "15432471-bfa2-41c5-b6b5-8dc5e140f606",
   "metadata": {},
   "source": [
    "# квадрат"
   ]
  },
  {
   "cell_type": "code",
   "execution_count": 1,
   "id": "3c59bbbb-7aca-476d-bbfb-4cf3839397c0",
   "metadata": {},
   "outputs": [],
   "source": [
    "# import turtle\n",
    "# t = turtle.Turtle()\n",
    "# t.forward(100)\n",
    "# t.left(90)\n",
    "# t.forward(100)\n",
    "# t.forward(100)\n",
    "# t.left(90)\n",
    "# t.forward(100)\n",
    "# t.left(90)\n",
    "# turtle.done()   # не закрывать окно программы"
   ]
  },
  {
   "cell_type": "markdown",
   "id": "a9cb1c6b-ca84-4aeb-b845-de8675758339",
   "metadata": {},
   "source": [
    "# Циклы"
   ]
  },
  {
   "cell_type": "code",
   "execution_count": 1,
   "id": "bc9dc1f8-c7c5-49af-8da7-4078286acfc0",
   "metadata": {},
   "outputs": [],
   "source": [
    "#import turtle\n",
    "#t = turtle.Turtle()\n",
    "\n",
    "#for i in range(0, 4):  # i-to itereyter(повторять)\n",
    "#    t.forward(100)     # range-ряд,линия,диапазон\n",
    "#    t.left(90)         # 4 раза выполнить 2 действия\n",
    "\n",
    "#turtle.done()"
   ]
  },
  {
   "cell_type": "markdown",
   "id": "6e52b807-46fb-4d76-bfeb-6fdd1a87e5ac",
   "metadata": {},
   "source": [
    "# function - функции"
   ]
  },
  {
   "cell_type": "markdown",
   "id": "aa6c3d24-ce5b-482e-b94d-9cb9d067365e",
   "metadata": {},
   "source": [
    "#### Функции\r",
    "\r\n",
    "функции для чего нужны функции чтоб24\r\n",
    "повторять какие-то однотипные дейст6:2\r\n",
    "6:30\r\n",
    "а также с разными парами\r\n",
    "6:32\r\n",
    "соответственно в зависимосттого\r\n",
    "6:34\r\n",
    "какие параметры мы передаункция\r\n",
    "6:36\r\n",
    "может вести себя по ру мы уже\r\n",
    "6:38\r\n",
    "использовали две фу Черепашки\r\n",
    "6:41\r\n",
    "продвинуться вперёд и путь налево в\r\n",
    "6:45\r\n",
    "языках прогрования помимо\r\n",
    "6:47\r\n",
    "встроенныкций или функций\r\n",
    "6:49\r\n",
    "подключаемых мо можно писать свои\r\n",
    "6:52\r\n",
    "Давайте попр это сделать напише56\r\n",
    "функцию нарисовать\r\n",
    "7:10\r\n",
    "квад в скобочках у нас будет\r\n",
    "7:14\r\n",
    "параметр ый будет принимать функция\r\n",
    "7:18\r\n",
    "здесь нужно ещё написать двоеточие"
   ]
  },
  {
   "cell_type": "code",
   "execution_count": 1,
   "id": "3b2a83fb-c98e-40d7-8763-836b0179cdf1",
   "metadata": {},
   "outputs": [],
   "source": [
    "#import turtle\n",
    "#t = turtle.Turtle()\n",
    "        # def - to define 'определять,описывать'                        \n",
    "#def draw_square(side):      # side - сторона квадрата\n",
    "#    for i in range(0, 4):  \n",
    "#        t.forward(side)     # передаём side в forward\n",
    "#        t.left(90)          \n",
    "\n",
    "#draw_square(50)\n",
    "#draw_square(100)\n",
    "#draw_square(200)\n",
    "#draw_square(300)\n",
    "\n",
    "#turtle.done()"
   ]
  },
  {
   "cell_type": "code",
   "execution_count": null,
   "id": "d299a796-762e-47e8-9eff-5120447c2a73",
   "metadata": {},
   "outputs": [],
   "source": []
  }
 ],
 "metadata": {
  "kernelspec": {
   "display_name": "Python 3 (ipykernel)",
   "language": "python",
   "name": "python3"
  },
  "language_info": {
   "codemirror_mode": {
    "name": "ipython",
    "version": 3
   },
   "file_extension": ".py",
   "mimetype": "text/x-python",
   "name": "python",
   "nbconvert_exporter": "python",
   "pygments_lexer": "ipython3",
   "version": "3.11.5"
  }
 },
 "nbformat": 4,
 "nbformat_minor": 5
}
