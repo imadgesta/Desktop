{
 "cells": [
  {
   "cell_type": "markdown",
   "id": "16397245-6efd-4ee9-acd9-a18f380b6fbf",
   "metadata": {},
   "source": [
    "# list comprehension - генераторы списков"
   ]
  },
  {
   "cell_type": "code",
   "execution_count": 1,
   "id": "3e2d2652-e9b6-4ee2-9e44-9e54e001434d",
   "metadata": {},
   "outputs": [],
   "source": [
    "# [выражение for val in коллекция]"
   ]
  },
  {
   "cell_type": "code",
   "execution_count": 6,
   "id": "4db043ad-4db8-4821-9d8d-2c2158f622c8",
   "metadata": {},
   "outputs": [],
   "source": [
    "a = []"
   ]
  },
  {
   "cell_type": "code",
   "execution_count": 7,
   "id": "9b1db459-d3ed-466c-bfb5-65abc0a9641d",
   "metadata": {},
   "outputs": [],
   "source": [
    "a = [0 for i in range(7)]"
   ]
  },
  {
   "cell_type": "code",
   "execution_count": 8,
   "id": "4177dd42-4760-46f8-9b5d-0d1bf08f7a48",
   "metadata": {},
   "outputs": [
    {
     "data": {
      "text/plain": [
       "[0, 0, 0, 0, 0, 0, 0]"
      ]
     },
     "execution_count": 8,
     "metadata": {},
     "output_type": "execute_result"
    }
   ],
   "source": [
    "a"
   ]
  },
  {
   "cell_type": "code",
   "execution_count": 9,
   "id": "e744df83-e499-4b8f-bfe9-748f884b14f2",
   "metadata": {},
   "outputs": [],
   "source": [
    "a = [i for i in range(10)]"
   ]
  },
  {
   "cell_type": "code",
   "execution_count": 10,
   "id": "ee9c7bed-e0ea-4e85-9fb1-00625e529dfc",
   "metadata": {},
   "outputs": [
    {
     "data": {
      "text/plain": [
       "[0, 1, 2, 3, 4, 5, 6, 7, 8, 9]"
      ]
     },
     "execution_count": 10,
     "metadata": {},
     "output_type": "execute_result"
    }
   ],
   "source": [
    "a"
   ]
  },
  {
   "cell_type": "code",
   "execution_count": 11,
   "id": "6ede3ec8-ec53-4b07-902b-153754a62178",
   "metadata": {},
   "outputs": [],
   "source": [
    "a = [i**2 for i in range(10)] # кв. переменной"
   ]
  },
  {
   "cell_type": "code",
   "execution_count": 12,
   "id": "258cba92-7546-45b8-8575-8191cb9b89a6",
   "metadata": {},
   "outputs": [
    {
     "data": {
      "text/plain": [
       "[0, 1, 4, 9, 16, 25, 36, 49, 64, 81]"
      ]
     },
     "execution_count": 12,
     "metadata": {},
     "output_type": "execute_result"
    }
   ],
   "source": [
    "a"
   ]
  },
  {
   "cell_type": "code",
   "execution_count": 13,
   "id": "3a968c1d-a9ed-4eca-a148-4f98cd11b85e",
   "metadata": {},
   "outputs": [],
   "source": [
    "a = [i%4 for i in range(1,15)] # остатки этих чисел дел. на 4"
   ]
  },
  {
   "cell_type": "code",
   "execution_count": 14,
   "id": "d4cfc70f-50d0-4341-84c6-7806305e34a2",
   "metadata": {},
   "outputs": [
    {
     "data": {
      "text/plain": [
       "[1, 2, 3, 0, 1, 2, 3, 0, 1, 2, 3, 0, 1, 2]"
      ]
     },
     "execution_count": 14,
     "metadata": {},
     "output_type": "execute_result"
    }
   ],
   "source": [
    "a"
   ]
  },
  {
   "cell_type": "code",
   "execution_count": 15,
   "id": "9531adef-d07a-41cf-aeda-6939a7b242a8",
   "metadata": {},
   "outputs": [],
   "source": [
    "a = [i for i in 'hello']"
   ]
  },
  {
   "cell_type": "code",
   "execution_count": 16,
   "id": "c2138ab7-6d29-4f9a-87d4-7326ad617cd9",
   "metadata": {},
   "outputs": [
    {
     "data": {
      "text/plain": [
       "['h', 'e', 'l', 'l', 'o']"
      ]
     },
     "execution_count": 16,
     "metadata": {},
     "output_type": "execute_result"
    }
   ],
   "source": [
    "a"
   ]
  },
  {
   "cell_type": "code",
   "execution_count": 18,
   "id": "6bc0af9e-a9f9-4920-8e0d-b6497bd119d6",
   "metadata": {},
   "outputs": [
    {
     "data": {
      "text/plain": [
       "['hhhhh', 'eeeee', 'lllll', 'lllll', 'ooooo']"
      ]
     },
     "execution_count": 18,
     "metadata": {},
     "output_type": "execute_result"
    }
   ],
   "source": [
    "a = [i*5 for i in 'hello']\n",
    "a"
   ]
  },
  {
   "cell_type": "code",
   "execution_count": 19,
   "id": "6d6a6cff-6c6d-4487-9952-9ce9e4c12ae9",
   "metadata": {},
   "outputs": [
    {
     "data": {
      "text/plain": [
       "[104, 101, 108, 108, 111]"
      ]
     },
     "execution_count": 19,
     "metadata": {},
     "output_type": "execute_result"
    }
   ],
   "source": [
    "a = [ord(i) for i in 'hello'] # ord - находит код символа в ASCII\n",
    "a"
   ]
  },
  {
   "cell_type": "code",
   "execution_count": null,
   "id": "ac7d942f-e4eb-4f54-a675-03e742c20387",
   "metadata": {},
   "outputs": [],
   "source": []
  }
 ],
 "metadata": {
  "kernelspec": {
   "display_name": "Python 3 (ipykernel)",
   "language": "python",
   "name": "python3"
  },
  "language_info": {
   "codemirror_mode": {
    "name": "ipython",
    "version": 3
   },
   "file_extension": ".py",
   "mimetype": "text/x-python",
   "name": "python",
   "nbconvert_exporter": "python",
   "pygments_lexer": "ipython3",
   "version": "3.11.5"
  }
 },
 "nbformat": 4,
 "nbformat_minor": 5
}
