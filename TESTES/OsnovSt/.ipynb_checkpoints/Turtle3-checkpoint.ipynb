{
 "cells": [
  {
   "cell_type": "markdown",
   "id": "951e4c30-5218-4e42-820a-d7d2b0e63824",
   "metadata": {},
   "source": [
    "# подключаем библ. и создаём фон"
   ]
  },
  {
   "cell_type": "code",
   "execution_count": 3,
   "id": "2aff2f7f-e511-48e1-a3c3-c877dd5ec4b8",
   "metadata": {},
   "outputs": [],
   "source": [
    "import pygame, random\n",
    "from superwires import games, color\n",
    "\n",
    "def main():\n",
    "    games.init(screen_width = 1280, screen_height = 720, fps = 60)\n",
    "    games.screen.background = games.load_image(\"back2.jpg\", transparent = False)\n",
    "    games.screen.mainloop()\n",
    "\n",
    "main()"
   ]
  },
  {
   "cell_type": "markdown",
   "id": "14a41f53-334d-43fb-bab6-c5c6b7abfd8a",
   "metadata": {},
   "source": [
    "# добавляем героя"
   ]
  },
  {
   "cell_type": "code",
   "execution_count": null,
   "id": "c814671b-22d9-4875-a8fc-4864811d856a",
   "metadata": {},
   "outputs": [],
   "source": [
    "import pygame, random\n",
    "from superwires import games, color\n",
    "\n",
    "class Hero(games.Sprite):\n",
    "    pass\n",
    "\n",
    "def main():\n",
    "    games.init(screen_width = 1280, screen_height = 720, fps = 60)\n",
    "    games.screen.background = games.load_image(\"back2.jpg\", transparent = False)\n",
    "    musk = Hero(image=games.load_image(\"hero.png\")),\n",
    "    \n",
    "    games.screen.mainloop()\n",
    "\n",
    "main()"
   ]
  }
 ],
 "metadata": {
  "kernelspec": {
   "display_name": "Python 3 (ipykernel)",
   "language": "python",
   "name": "python3"
  },
  "language_info": {
   "codemirror_mode": {
    "name": "ipython",
    "version": 3
   },
   "file_extension": ".py",
   "mimetype": "text/x-python",
   "name": "python",
   "nbconvert_exporter": "python",
   "pygments_lexer": "ipython3",
   "version": "3.11.5"
  }
 },
 "nbformat": 4,
 "nbformat_minor": 5
}
