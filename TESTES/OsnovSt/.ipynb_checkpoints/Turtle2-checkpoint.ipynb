{
 "cells": [
  {
   "cell_type": "code",
   "execution_count": 2,
   "id": "c5b398c6-3473-4f69-ad86-98c291963507",
   "metadata": {},
   "outputs": [],
   "source": [
    "#import turtle\n",
    "#import random\n",
    "t = turtle.Turtle()\n",
    "t.screen.colormode(255)\n",
    "\n",
    "def draw_circle():\n",
    "    t.penup()\n",
    "    t.goto(random.randint(-300, 300), random.randint(-300, 300))\n",
    "    t.begin_fill()\n",
    "    t.circle(30)\n",
    "    t.fillcolor(random.randint(0, 255), random.randint(0, 255), random.randint(0, 255))\n",
    "    t.end_fill()\n",
    "\n",
    "for i in range(0, 99):\n",
    "    draw_circle()"
   ]
  },
  {
   "cell_type": "code",
   "execution_count": null,
   "id": "1979b78d-1046-4dec-8e4c-279def9d694a",
   "metadata": {},
   "outputs": [],
   "source": []
  }
 ],
 "metadata": {
  "kernelspec": {
   "display_name": "Python 3 (ipykernel)",
   "language": "python",
   "name": "python3"
  },
  "language_info": {
   "codemirror_mode": {
    "name": "ipython",
    "version": 3
   },
   "file_extension": ".py",
   "mimetype": "text/x-python",
   "name": "python",
   "nbconvert_exporter": "python",
   "pygments_lexer": "ipython3",
   "version": "3.11.5"
  }
 },
 "nbformat": 4,
 "nbformat_minor": 5
}
