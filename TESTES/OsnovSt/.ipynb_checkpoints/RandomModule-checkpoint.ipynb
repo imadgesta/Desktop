{
 "cells": [
  {
   "cell_type": "markdown",
   "id": "6398abe7-be82-4a26-bfcc-a2a6a4a1d415",
   "metadata": {},
   "source": [
    "# 'случайные' числа-random,randint,randrange"
   ]
  },
  {
   "cell_type": "code",
   "execution_count": 2,
   "id": "a3be87f0-a6a5-472a-959a-09c8d054059c",
   "metadata": {},
   "outputs": [],
   "source": [
    "#from random import random  # 1 module, 2 function"
   ]
  },
  {
   "cell_type": "code",
   "execution_count": 4,
   "id": "a5606b82-b07a-41c4-9019-40d28aecd992",
   "metadata": {},
   "outputs": [
    {
     "data": {
      "text/plain": [
       "0.8511583139934544"
      ]
     },
     "execution_count": 4,
     "metadata": {},
     "output_type": "execute_result"
    }
   ],
   "source": [
    "random() # возвращает случайное число от 0 до 1"
   ]
  },
  {
   "cell_type": "code",
   "execution_count": 5,
   "id": "00143534-dee6-40ff-943f-47bbcf158ef4",
   "metadata": {},
   "outputs": [
    {
     "data": {
      "text/plain": [
       "0.44901418136757243"
      ]
     },
     "execution_count": 5,
     "metadata": {},
     "output_type": "execute_result"
    }
   ],
   "source": [
    "random()"
   ]
  },
  {
   "cell_type": "code",
   "execution_count": 6,
   "id": "421ef4fe-3f54-4ab6-8a75-94f56d43caf7",
   "metadata": {},
   "outputs": [
    {
     "name": "stdout",
     "output_type": "stream",
     "text": [
      "Help on built-in function random:\n",
      "\n",
      "random() method of random.Random instance\n",
      "    random() -> x in the interval [0, 1).\n",
      "\n"
     ]
    }
   ],
   "source": [
    "help(random)"
   ]
  },
  {
   "cell_type": "code",
   "execution_count": 25,
   "id": "f9258000-8e48-4953-ade3-31c712c08217",
   "metadata": {},
   "outputs": [
    {
     "ename": "SyntaxError",
     "evalue": "invalid decimal literal (2043787039.py, line 15)",
     "output_type": "error",
     "traceback": [
      "\u001b[1;36m  Cell \u001b[1;32mIn[25], line 15\u001b[1;36m\u001b[0m\n\u001b[1;33m    print(*%.16f* % a)\u001b[0m\n\u001b[1;37m              ^\u001b[0m\n\u001b[1;31mSyntaxError\u001b[0m\u001b[1;31m:\u001b[0m invalid decimal literal\n"
     ]
    }
   ],
   "source": [
    "from random import random\n",
    "\n",
    "a = 0.1\n",
    "b = 0.9\n",
    "i = 0\n",
    "\n",
    "whil i < 10_000:\n",
    "    n = random()\n",
    "    if n < a:\n",
    "        a = n\n",
    "    elif n > b:\n",
    "        b = n\n",
    "    i += 1\n",
    "\n",
    "print(*%.16f* % a)\n",
    "print(b)"
   ]
  },
  {
   "cell_type": "code",
   "execution_count": 12,
   "id": "a1cd18ed-48a0-4872-9aa7-51db2b1e867b",
   "metadata": {},
   "outputs": [
    {
     "data": {
      "text/plain": [
       "0.3212543405129754"
      ]
     },
     "execution_count": 12,
     "metadata": {},
     "output_type": "execute_result"
    }
   ],
   "source": [
    "random()"
   ]
  },
  {
   "cell_type": "code",
   "execution_count": 13,
   "id": "8689f282-f26f-418c-ba06-4d9abf7fa0a7",
   "metadata": {},
   "outputs": [
    {
     "data": {
      "text/plain": [
       "8.3272095088942"
      ]
     },
     "execution_count": 13,
     "metadata": {},
     "output_type": "execute_result"
    }
   ],
   "source": [
    "random() * 10"
   ]
  },
  {
   "cell_type": "code",
   "execution_count": 14,
   "id": "2f071806-bff3-44c3-9897-e873569d5a9b",
   "metadata": {},
   "outputs": [
    {
     "data": {
      "text/plain": [
       "3.3305888964113395"
      ]
     },
     "execution_count": 14,
     "metadata": {},
     "output_type": "execute_result"
    }
   ],
   "source": [
    "random() * 10"
   ]
  },
  {
   "cell_type": "code",
   "execution_count": 15,
   "id": "ef914fea-e240-4ff5-91ec-6b3c8895270c",
   "metadata": {},
   "outputs": [
    {
     "data": {
      "text/plain": [
       "8.011214305436114"
      ]
     },
     "execution_count": 15,
     "metadata": {},
     "output_type": "execute_result"
    }
   ],
   "source": [
    "random() * 10"
   ]
  },
  {
   "cell_type": "code",
   "execution_count": 17,
   "id": "66da6413-8ba5-440f-84df-49d62140c184",
   "metadata": {},
   "outputs": [
    {
     "data": {
      "text/plain": [
       "3.269447519824901"
      ]
     },
     "execution_count": 17,
     "metadata": {},
     "output_type": "execute_result"
    }
   ],
   "source": [
    "random() * 10"
   ]
  },
  {
   "cell_type": "code",
   "execution_count": 18,
   "id": "93709d4f-9124-49f3-b730-ede5e2c77c9c",
   "metadata": {},
   "outputs": [
    {
     "data": {
      "text/plain": [
       "5.0966207873784715"
      ]
     },
     "execution_count": 18,
     "metadata": {},
     "output_type": "execute_result"
    }
   ],
   "source": [
    "random() * 10"
   ]
  },
  {
   "cell_type": "code",
   "execution_count": 19,
   "id": "fceef6f3-8fa2-4d65-a80a-afcb9db6d201",
   "metadata": {},
   "outputs": [
    {
     "data": {
      "text/plain": [
       "0.1238210436771392"
      ]
     },
     "execution_count": 19,
     "metadata": {},
     "output_type": "execute_result"
    }
   ],
   "source": [
    "random() * (10 - 6) # случайное число от 0 до 4"
   ]
  },
  {
   "cell_type": "code",
   "execution_count": 20,
   "id": "60947f83-bdf0-47bc-a838-370614ac8879",
   "metadata": {},
   "outputs": [
    {
     "data": {
      "text/plain": [
       "7.894957626510729"
      ]
     },
     "execution_count": 20,
     "metadata": {},
     "output_type": "execute_result"
    }
   ],
   "source": [
    "random() * (10 - 6) + 6 # от 4 до 6"
   ]
  },
  {
   "cell_type": "code",
   "execution_count": 21,
   "id": "cc7010ab-1f7a-48ea-95ab-c806a7fe39c3",
   "metadata": {},
   "outputs": [
    {
     "data": {
      "text/plain": [
       "6.874452968179677"
      ]
     },
     "execution_count": 21,
     "metadata": {},
     "output_type": "execute_result"
    }
   ],
   "source": [
    "random() * (10 - 6) + 6 # от 4 до 6"
   ]
  },
  {
   "cell_type": "code",
   "execution_count": null,
   "id": "08399f54-1395-4e01-b5a6-f9c0d877ac3b",
   "metadata": {},
   "outputs": [],
   "source": []
  },
  {
   "cell_type": "code",
   "execution_count": 22,
   "id": "6900ec98-a9aa-4a46-b18b-65e54dab9f5d",
   "metadata": {},
   "outputs": [
    {
     "data": {
      "text/plain": [
       "7.986354963364555"
      ]
     },
     "execution_count": 22,
     "metadata": {},
     "output_type": "execute_result"
    }
   ],
   "source": [
    "random() * (10 - 6) + 6 # от 4 до 6"
   ]
  },
  {
   "cell_type": "code",
   "execution_count": null,
   "id": "8f98713e-6c19-4bb0-8e58-edbc995707e1",
   "metadata": {},
   "outputs": [],
   "source": []
  },
  {
   "cell_type": "code",
   "execution_count": 23,
   "id": "5c996008-deb8-4ab4-9a08-c012e7d88ab3",
   "metadata": {},
   "outputs": [
    {
     "data": {
      "text/plain": [
       "-0.08505813253542227"
      ]
     },
     "execution_count": 23,
     "metadata": {},
     "output_type": "execute_result"
    }
   ],
   "source": [
    "random() * (2 - -2) + -2 # от -2 до 2"
   ]
  },
  {
   "cell_type": "code",
   "execution_count": 24,
   "id": "2ad043b8-118a-4fb4-a7f9-b7a2eca4d43f",
   "metadata": {},
   "outputs": [
    {
     "data": {
      "text/plain": [
       "1.246601609735344"
      ]
     },
     "execution_count": 24,
     "metadata": {},
     "output_type": "execute_result"
    }
   ],
   "source": [
    "random() * (2 - -2) + -2 # от -2 до 2"
   ]
  },
  {
   "cell_type": "code",
   "execution_count": null,
   "id": "7a2eb9f2-407c-469c-b9fc-bfb7c09ff242",
   "metadata": {},
   "outputs": [],
   "source": []
  }
 ],
 "metadata": {
  "kernelspec": {
   "display_name": "Python 3 (ipykernel)",
   "language": "python",
   "name": "python3"
  },
  "language_info": {
   "codemirror_mode": {
    "name": "ipython",
    "version": 3
   },
   "file_extension": ".py",
   "mimetype": "text/x-python",
   "name": "python",
   "nbconvert_exporter": "python",
   "pygments_lexer": "ipython3",
   "version": "3.11.5"
  }
 },
 "nbformat": 4,
 "nbformat_minor": 5
}
