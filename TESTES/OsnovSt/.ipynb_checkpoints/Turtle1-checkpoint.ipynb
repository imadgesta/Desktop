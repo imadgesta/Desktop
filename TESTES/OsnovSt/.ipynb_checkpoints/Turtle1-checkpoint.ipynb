{
 "cells": [
  {
   "cell_type": "code",
   "execution_count": 1,
   "id": "8c888d12-204c-450b-b611-11a50be705a5",
   "metadata": {},
   "outputs": [
    {
     "name": "stdout",
     "output_type": "stream",
     "text": [
      "3\n"
     ]
    }
   ],
   "source": [
    "#import random\n",
    "print(random.randint(0, 10))   # rand int - случайное число"
   ]
  },
  {
   "cell_type": "code",
   "execution_count": 2,
   "id": "3dab3298-f5f1-4427-9422-acf1857e8d86",
   "metadata": {},
   "outputs": [
    {
     "name": "stdout",
     "output_type": "stream",
     "text": [
      "4\n"
     ]
    }
   ],
   "source": [
    "#import random\n",
    "print(random.randint(0, 10))  # случайные числа от 0 до 10 не включительно"
   ]
  },
  {
   "cell_type": "code",
   "execution_count": 3,
   "id": "505e135a-1220-4aca-ba4b-f11880c2944c",
   "metadata": {},
   "outputs": [
    {
     "name": "stdout",
     "output_type": "stream",
     "text": [
      "4\n"
     ]
    }
   ],
   "source": [
    "#import random\n",
    "print(random.randint(0, 10))"
   ]
  },
  {
   "cell_type": "code",
   "execution_count": 4,
   "id": "b9ee18d0-1217-4f07-b55e-f0276cc08041",
   "metadata": {},
   "outputs": [
    {
     "name": "stdout",
     "output_type": "stream",
     "text": [
      "2\n"
     ]
    }
   ],
   "source": [
    "#import random\n",
    "print(random.randint(0, 10))"
   ]
  },
  {
   "cell_type": "code",
   "execution_count": null,
   "id": "d968c3df-a41f-4b0a-8780-ed123d4adfd6",
   "metadata": {},
   "outputs": [],
   "source": []
  }
 ],
 "metadata": {
  "kernelspec": {
   "display_name": "Python 3 (ipykernel)",
   "language": "python",
   "name": "python3"
  },
  "language_info": {
   "codemirror_mode": {
    "name": "ipython",
    "version": 3
   },
   "file_extension": ".py",
   "mimetype": "text/x-python",
   "name": "python",
   "nbconvert_exporter": "python",
   "pygments_lexer": "ipython3",
   "version": "3.11.5"
  }
 },
 "nbformat": 4,
 "nbformat_minor": 5
}
