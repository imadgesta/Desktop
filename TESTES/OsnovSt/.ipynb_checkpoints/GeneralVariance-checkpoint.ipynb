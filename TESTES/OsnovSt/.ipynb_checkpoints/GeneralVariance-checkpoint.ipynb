{
 "cells": [
  {
   "cell_type": "markdown",
   "id": "402c3ccd-d3a0-474f-8be3-cba98d65bb75",
   "metadata": {
    "tags": []
   },
   "source": [
    "# Дисперсия генеральной совокупности"
   ]
  },
  {
   "cell_type": "code",
   "execution_count": 1,
   "id": "bf58c2e3-0625-412d-9aa8-886de42baa2d",
   "metadata": {
    "tags": []
   },
   "outputs": [
    {
     "name": "stdout",
     "output_type": "stream",
     "text": [
      "181.875\n",
      "179.5\n",
      "181.875\n",
      "182.609375\n",
      "182.609375\n",
      "208.69642857142858\n",
      "208.69642857142858\n",
      "13.513303630126869\n",
      "13.513303630126869\n"
     ]
    }
   ],
   "source": [
    "import statistics\n",
    "import math\n",
    "\n",
    "h = [165, 205, 175, 184, 194, 172, 167, 193]\n",
    "\n",
    "# Среднее\n",
    "h_avg = statistics.mean(h)\n",
    "\n",
    "# Дисперсия генеральной совокупности\n",
    "def find_general_variance(x):\n",
    "    variance = 0\n",
    "    for i in x:\n",
    "        variance += (i - h_avg) ** 2\n",
    "    return variance / len(x)\n",
    "\n",
    "# Дисперсия выборки\n",
    "def find_sample_variance(x):\n",
    "    variance = 0\n",
    "    for i in x:\n",
    "        variance += (i - h_avg) ** 2\n",
    "    return variance / (len(x) -1)\n",
    "\n",
    "# Среднее значение\n",
    "print(statistics.mean(h))\n",
    "print(statistics.median(h))\n",
    "print(statistics.fmean(h))\n",
    "\n",
    "# Дисперсия генеральной совокупности\n",
    "print(find_general_variance(h))\n",
    "print(statistics.pvariance(h))\n",
    "#\n",
    "# # Дисперсия выборки\n",
    "print(find_sample_variance(h))\n",
    "print(statistics.variance(h))\n",
    "\n",
    "# Стандартное отклонение от генеральной совокупности\n",
    "print(math.sqrt(find_general_variance(h)))\n",
    "print(statistics.pstdev(h))"
   ]
  },
  {
   "cell_type": "code",
   "execution_count": null,
   "id": "e576891e-af8f-4a48-9118-a2aa0e565c4a",
   "metadata": {},
   "outputs": [],
   "source": [
    "# Простая случайная выборка(simple random sample)\n",
    "# Стратифицированная выборка(stratified sample)\n",
    "# Групповая выборка        (cluster sample)"
   ]
  },
  {
   "cell_type": "markdown",
   "id": "685b29d2-6290-47e4-a8a7-9f85ca59cb94",
   "metadata": {
    "tags": []
   },
   "source": [
    "# Описательная статистика"
   ]
  },
  {
   "cell_type": "code",
   "execution_count": null,
   "id": "aa6ce1de-d67e-4a3e-baae-996692368813",
   "metadata": {},
   "outputs": [],
   "source": [
    "Предположим X - это некоторые переменные, и мы можем посмотреть как часто значение для переменной встречается на определённом промежутке. Например в диапазоне от 8 до 10 значение наших количественных переменных X встречается более 30 раз. На промежутке от 6 до 8 уже только 10 при этом если мы посмотрим на форму такого распределения\n",
    ",то можем сказать что у нас симметричное распределение некоторых количественных переменных. Потому что большинство всех наблюдений  оказались как бы в центре нашего распределения и чем дальше мы отклоняемся\n",
    "либо вправо или влево, от середины, тем реже встречается значениях нашего признака(Рисунок 1,график под цифрой - 1)\n",
    "Рисунок - 1\n",
    "\n",
    "Теперь на 2-ом графике вы можете увидеть пример, явного выраженной асимметрии, в этом случае большинство всех наблюдений оказались зажаты в левой части гистограммы, в самом начале, и чем более высокое значение принимает примеренная X, тем реже встречаются такие высокие наблюдения (рисунок 2)\n",
    "\n",
    "Рисунок - 2\n",
    "\n",
    "И довольно любопытная гистограмма представлена на рисунке 3\n",
    "Мы здесь видим два любопытных диапазона в котором переменная x встречается чаше чем в других промежутках(рисунок 3)\n",
    "\n",
    "Рисунок 3\n",
    "\n",
    "В принципе для того чтобы исследовать распределения некоторой переменной мы познакомимся двумя типа описательной статистики.\n",
    "1 типа: меры центральной тенденции и позволяет нам ответить на вопрос: На сколько в принципе высокие значения принимает наша переменная? \n",
    "Если вы посмотрите на гистограмму 1 и 2 то легко заметить что в первом случае большинство наблюдений нашей переменой имеет более высокие значение чем во втором случае.\n",
    " Наша гистограмма находится как бы правее по оси X  при этом диапазон на котором могут возникать наши наблюдения более широкие во втором случае, и когда мы будем говорить про изменчивость нашего признака\n",
    "про вариативность используется меры изменчивости. Вот именно с этими двумя типами мы познакомимся последующих степов ( рисунок 4\n",
    "\n",
    "Рисунок - 4"
   ]
  },
  {
   "cell_type": "code",
   "execution_count": null,
   "id": "ddb71bd6-a0ff-4c78-bc73-2d44391928b3",
   "metadata": {},
   "outputs": [],
   "source": [
    "# Гистограмма частот"
   ]
  },
  {
   "cell_type": "markdown",
   "id": "7f0b02bf-5059-4ea3-a1e7-a8d5dd4cb3cd",
   "metadata": {
    "tags": []
   },
   "source": [
    "# Меры центральной тенденции"
   ]
  },
  {
   "cell_type": "code",
   "execution_count": null,
   "id": "8063d2af-dd27-4862-886c-132eec3a6b6f",
   "metadata": {},
   "outputs": [],
   "source": [
    "#  Мode(мода)-значение измеряемого признака,которое встречаетсямаксимально часто.\n",
    "#  Median(медиана)-значение признака элемента, который делит упорядоченное множество элементов выборки пополам.\n",
    "# Среднее значение(mean,среднее арифметическое)сумма всех значений измеренного признака,делённая на кол-во измеренных значений."
   ]
  },
  {
   "cell_type": "code",
   "execution_count": 8,
   "id": "ae778626-57fb-4d5e-b910-6b0d7cfba2ae",
   "metadata": {
    "tags": []
   },
   "outputs": [
    {
     "name": "stdin",
     "output_type": "stream",
     "text": [
      " 12\n"
     ]
    },
    {
     "name": "stdout",
     "output_type": "stream",
     "text": [
      "[183, 184]\n"
     ]
    }
   ],
   "source": [
    "#import random\n",
    "\n",
    "#def moda(height_test_subject):\n",
    "    \n",
    "    # подсчет часто встречающихся чисел в списке\n",
    "    repeating_numbers = [(i, height_test_subject.count(i)) for i in height_test_subject]\n",
    "    \n",
    "    # сортировка по второму элементу кортежа, выводим при этом только уникальные\n",
    "    new_repeating_numbers = sorted(set(repeating_numbers), key=lambda x: x[1])\n",
    "    \n",
    "    # максимальное значение в списке\n",
    "    max_number = new_repeating_numbers[-1]\n",
    "    \n",
    "    # сравнение с максимальным значением\n",
    "#    return sorted([num[0] for num in new_repeating_numbers if num[1] == max_number[1]])\n",
    "\n",
    "# создаем список из случайных цифр в диапазоне от 161 до 185 включительно (рост испытуемых)\n",
    "n = int(input()) # кол-во испытуемых\n",
    "height_test_subject = [random.randint(161, 185) for _ in range(n)]\n",
    "print(moda(height_test_subject))"
   ]
  },
  {
   "cell_type": "code",
   "execution_count": null,
   "id": "529dd960-3d27-4a5b-8a71-8ea286b06f4f",
   "metadata": {},
   "outputs": [],
   "source": [
    "# Вычисление моды с помощью Python (без NumPy):\n",
    "\n",
    "#def find_moda(numbers):\n",
    "    num_set=set(numbers)\n",
    "    counter=0\n",
    "    for i in num_set:\n",
    "        if numbers.count(i)>=counter:\n",
    "            counter=numbers.count(i)\n",
    "            moda=i\n",
    "    return moda"
   ]
  },
  {
   "cell_type": "code",
   "execution_count": 2,
   "id": "39ee00dd-ff2a-4094-9cc7-c6c9f6ac0258",
   "metadata": {
    "tags": []
   },
   "outputs": [
    {
     "name": "stdout",
     "output_type": "stream",
     "text": [
      "ModeResult(mode=172, count=4)\n"
     ]
    }
   ],
   "source": [
    "#from scipy import stats\n",
    "#import numpy as np\n",
    "a = np.array([185,175,170,169,171,172,175,157,170,172,167,173,168,167,166,\n",
    "              167,169,172,177,178,165,161,179,159,164,178,172,170,173,171])\n",
    "\n",
    "m = stats.mode(a)\n",
    "print(m)"
   ]
  },
  {
   "cell_type": "code",
   "execution_count": 3,
   "id": "4b1ef772-95bd-40d0-95bd-191786b07ab8",
   "metadata": {
    "tags": []
   },
   "outputs": [
    {
     "data": {
      "image/png": "[encoded data removed]",
      "text/plain": [
       "<Figure size 640x480 with 1 Axes>"
      ]
     },
     "metadata": {},
     "output_type": "display_data"
    }
   ],
   "source": [
    "#import matplotlib.pyplot as plt\n",
    "#import numpy as np\n",
    "#import pandas as pd\n",
    "\n",
    "\n",
    "data = [185, 175, 170, 169, 171, 175, 157, 170, 172, 172, 172, 172, 167, 173, 168, 167, 166, 167, 169, 177, 178, 165, \n",
    "        161, 179, 159, 164, 178, 170, 173, 171]\n",
    "\n",
    "# Считаем моду/моды\n",
    "series = pd.Series(data)\n",
    "modes = list(series.mode())\n",
    "\n",
    "# Создаем оси\n",
    "count = series.value_counts()\n",
    "x_points = np.array(count.keys())\n",
    "y_points = np.array(count)\n",
    "\n",
    "# Создаем plot\n",
    "fig, ax = plt.subplots()\n",
    "\n",
    "# Наводим красоту\n",
    "ax.bar(x_points, y_points, width=0.5)\n",
    "ax.set_ylim(0, 6)\n",
    "ax.set_xlabel('Height')\n",
    "ax.set_ylabel('Count')\n",
    "\n",
    "# На каждой итерации цикла добавляется аннотация к моде. Указываю координаты текста, цвет и поворот.\n",
    "for mode in modes:\n",
    "    y = count[mode]\n",
    "    ax.annotate('mode', xy=(mode, y), xycoords='data', xytext=(mode - 0.5, y + 0.2), rotation=90,\n",
    "                color='red')\n",
    "plt.show()"
   ]
  },
  {
   "cell_type": "code",
   "execution_count": 4,
   "id": "e8a64121-c06c-4edc-99a6-de8c0bfc7038",
   "metadata": {
    "tags": []
   },
   "outputs": [
    {
     "name": "stdout",
     "output_type": "stream",
     "text": [
      "172\n",
      "ModeResult(mode=172, count=4)\n",
      "0    172\n",
      "dtype: int64\n"
     ]
    }
   ],
   "source": [
    "#import pandas as pd\n",
    "#import statistics\n",
    "#from scipy import stats\n",
    "\n",
    "data = [185,175,170,169,171,172,175,157,170,172,167,173,168,167,166,\n",
    "              167,169,172,177,178,165,161,179,159,164,178,172,170,173,171]\n",
    "df = pd.Series(data)\n",
    "print(statistics.mode(data))\n",
    "print(stats.mode(data))\n",
    "print(df.mode())"
   ]
  },
  {
   "cell_type": "code",
   "execution_count": 6,
   "id": "66f1939c-20c3-4959-bd26-1e9339b3e590",
   "metadata": {
    "tags": []
   },
   "outputs": [
    {
     "name": "stdout",
     "output_type": "stream",
     "text": [
      "170\n",
      "ModeResult(mode=167, count=3)\n",
      "0    167\n",
      "1    170\n",
      "2    172\n",
      "dtype: int64\n"
     ]
    }
   ],
   "source": [
    "#import pandas as pd\n",
    "#import statistics\n",
    "#from scipy import stats\n",
    "\n",
    "data = [185,175,170,169,171,175,157,170,172,167,173,168,167,166,\n",
    "              167,169,172,177,178,165,161,179,159,164,178,172,170,173,171]\n",
    "df = pd.Series(data)\n",
    "print(statistics.mode(data))\n",
    "print(stats.mode(data))\n",
    "print(df.mode())"
   ]
  },
  {
   "cell_type": "code",
   "execution_count": 5,
   "id": "528956fe-16ed-4e49-a679-0c1767764191",
   "metadata": {
    "tags": []
   },
   "outputs": [
    {
     "name": "stdout",
     "output_type": "stream",
     "text": [
      "Так считает statistics, мода =  172\n",
      "Так считает scipy, мода =  ModeResult(mode=172, count=4)\n",
      "Так считает pandas, мода =  0    172\n",
      "dtype: int64\n"
     ]
    }
   ],
   "source": [
    "data1 = [185,175,170,169,171,175,157,170,172,167,173,168,167,166,\n",
    "              167,169,172,177,178,165,161,179,159,164,178,172,170,173,171]\n",
    "df1 = pd.Series(data1)\n",
    "print('Так считает statistics, мода = ', statistics.mode(data))\n",
    "print('Так считает scipy, мода = ', stats.mode(data))\n",
    "print('Так считает pandas, мода = ',df.mode())"
   ]
  },
  {
   "cell_type": "code",
   "execution_count": 9,
   "id": "6bbb969f-ff6e-4053-8dd7-744651349ad8",
   "metadata": {
    "tags": []
   },
   "outputs": [
    {
     "data": {
      "image/png": "[encoded data removed]",
      "text/plain": [
       "<Figure size 640x480 with 1 Axes>"
      ]
     },
     "metadata": {},
     "output_type": "display_data"
    }
   ],
   "source": [
    "#import matplotlib.pyplot as plt #1\n",
    "#import seaborn as sns\n",
    "hights = [157,159,161,164,165,166,167,167,167,168,169,169,170,170,170,171,171,172,172,172,172,173,173,175,175,177,178,178,179,185]\n",
    "a = sns.histplot(hights)\n",
    "plt.show()"
   ]
  },
  {
   "cell_type": "markdown",
   "id": "277e68d0-04fa-41d9-8d6d-54d2f50e36e8",
   "metadata": {
    "tags": []
   },
   "source": [
    "# Median"
   ]
  },
  {
   "cell_type": "code",
   "execution_count": 10,
   "id": "b2cc988c-9ef4-4617-9987-87253a614847",
   "metadata": {
    "tags": []
   },
   "outputs": [
    {
     "name": "stdout",
     "output_type": "stream",
     "text": [
      "170.5\n"
     ]
    }
   ],
   "source": [
    "#import numpy as np\n",
    "\n",
    "a = np.array([185,175,170,169,171,172,175,157,170,172,167,173,168,167,166,\n",
    "\n",
    "              167,169,172,177,178,165,161,179,159,164,178,172,170,173,171])\n",
    "m = np.median(a)\n",
    "print(m)"
   ]
  },
  {
   "cell_type": "code",
   "execution_count": 11,
   "id": "5ffb6ed0-0b6a-4ead-8d84-3c42afc4dec1",
   "metadata": {
    "tags": []
   },
   "outputs": [
    {
     "data": {
      "image/png": "[encoded data removed]",
      "text/plain": [
       "<Figure size 640x480 with 1 Axes>"
      ]
     },
     "metadata": {},
     "output_type": "display_data"
    }
   ],
   "source": [
    "#import matplotlib.pyplot as plt\n",
    "\n",
    "#import statistics\n",
    "\n",
    " \n",
    "\n",
    "# Define an array of values\n",
    "\n",
    "values = np.array([185,175,170,169,171,172,175,157,170,172,167,173,168,167,166,167,169,172,177,178,165,161,179,159,164,178,172,170,173,171])\n",
    "\n",
    " \n",
    "\n",
    "# Calculate the median\n",
    "\n",
    "median = statistics.median(values)\n",
    "\n",
    " \n",
    "\n",
    "# Plot the histogram\n",
    "\n",
    "plt.hist(values, bins=4)\n",
    "\n",
    " \n",
    "\n",
    "# Add a vertical line at the median value\n",
    "\n",
    "plt.axvline(median, color='r', linestyle='dashed', linewidth=2)\n",
    "\n",
    " \n",
    "\n",
    "# Show the plot\n",
    "\n",
    "plt.show()"
   ]
  },
  {
   "cell_type": "code",
   "execution_count": 12,
   "id": "9a0f04b9-2de2-4590-97aa-7af0f397aae2",
   "metadata": {
    "tags": []
   },
   "outputs": [
    {
     "name": "stdout",
     "output_type": "stream",
     "text": [
      "252.5\n"
     ]
    }
   ],
   "source": [
    "#import random\n",
    "\n",
    "#def median(data):\n",
    "    # Сортируем данные\n",
    "    sorted_data = sorted(data)\n",
    "    \n",
    "    # Вычисляем медиану\n",
    "    length_data = len(sorted_data)\n",
    "\n",
    "    if length_data % 2 == 0:\n",
    "        return sorted_data[length_data // 2 - 1] + sorted_data[length_data // 2] / 2\n",
    "    else:\n",
    "        return sorted_data[length_data // 2]\n",
    "\n",
    "# создаем список из случайных чисел в диапазоне от 161 до 185 включительно (рост испытуемых)\n",
    "N = random.randint(1, 30) # кол-во испытуемых\n",
    "my_list = [random.randint(161, 185) for _ in range(N)]\n",
    "print(median(my_list))"
   ]
  },
  {
   "cell_type": "markdown",
   "id": "fe1a8a31-79bb-45ef-be34-3698a1d83514",
   "metadata": {
    "tags": []
   },
   "source": [
    "# Среднее значение(mean,среднее арифметическое)"
   ]
  },
  {
   "cell_type": "code",
   "execution_count": null,
   "id": "4f88ba5e-b5c0-4345-99f2-748a479034bd",
   "metadata": {},
   "outputs": [],
   "source": []
  },
  {
   "cell_type": "code",
   "execution_count": 13,
   "id": "293b0480-324c-40ec-b2d8-c168055b98e4",
   "metadata": {
    "tags": []
   },
   "outputs": [
    {
     "name": "stdout",
     "output_type": "stream",
     "text": [
      "ModeResult(mode=172, count=4)\n",
      "170.5\n",
      "170.4\n"
     ]
    }
   ],
   "source": [
    "#from scipy import stats\n",
    "#import numpy as np\n",
    "\n",
    "a = np.array([185, 175, 170, 169, 171, 175, 157, 172, 170, 172, 167, 173, 168, 167, 166,\n",
    "              167, 169, 172, 177, 178, 165, 161, 179, 159, 164, 178, 172, 170, 173, 171])\n",
    "# как искать медиану\n",
    "m = stats.mode(a)\n",
    "print(m)\n",
    "# как искать моду\n",
    "m = np.median(a)\n",
    "print(m)\n",
    "# как искать среднее значение\n",
    "m = np.mean(a)\n",
    "print(m)"
   ]
  },
  {
   "cell_type": "code",
   "execution_count": 14,
   "id": "f7e923a7-adba-4646-af96-19a402446f59",
   "metadata": {
    "tags": []
   },
   "outputs": [
    {
     "name": "stdout",
     "output_type": "stream",
     "text": [
      "170.4\n"
     ]
    }
   ],
   "source": [
    "#import pandas as ps\n",
    "\n",
    "# Выборка\n",
    "sample = [185, 175, 170, 169, 171, 175, 157, 172, 170, 172, 167, 173, 168, 167, 166,\n",
    "          167, 169, 172, 177, 178, 165, 161, 179, 159, 164, 178, 172, 170, 173, 171]\n",
    "\n",
    "# Создаем колонку\n",
    "sr = ps.Series(sample)\n",
    "\n",
    "# Вычисляем среднее значение\n",
    "print(sr.mean()) # 170.5"
   ]
  },
  {
   "cell_type": "code",
   "execution_count": 15,
   "id": "e79feae4-6991-4a4b-bd53-e2536fa386ec",
   "metadata": {
    "tags": []
   },
   "outputs": [
    {
     "data": {
      "image/png": "[encoded data removed]",
      "text/plain": [
       "<Figure size 640x480 with 1 Axes>"
      ]
     },
     "metadata": {},
     "output_type": "display_data"
    }
   ],
   "source": [
    "#import matplotlib.pyplot as plt\n",
    "\n",
    "#import numpy as np\n",
    "\n",
    " \n",
    "\n",
    "# Define an array of values\n",
    "\n",
    "values = np.array([185, 175, 170, 169, 171, 175, 157, 172, 170, 172, 167, 173, 168, 167, 166, 167, 169, 172, 177, 178, 165, 161, 179, 159, 164, 178, 172, 170, 173, 171])\n",
    "\n",
    " \n",
    "\n",
    "# Calculate the mean\n",
    "\n",
    "mean = np.mean(values)\n",
    "\n",
    " \n",
    "\n",
    "# Plot the histogram\n",
    "\n",
    "plt.hist(values, bins=4)\n",
    "\n",
    " \n",
    "\n",
    "# Add a vertical line at the mean value\n",
    "\n",
    "plt.axvline(mean, color='r', linestyle='dashed', linewidth=2)\n",
    "\n",
    " \n",
    "\n",
    "# Show the plot\n",
    "\n",
    "plt.show()"
   ]
  },
  {
   "cell_type": "code",
   "execution_count": 16,
   "id": "b01993d8-fb4f-4a01-9c78-04e1ec8914ef",
   "metadata": {
    "tags": []
   },
   "outputs": [
    {
     "name": "stdout",
     "output_type": "stream",
     "text": [
      "170.4\n"
     ]
    }
   ],
   "source": [
    "a_list = [185, 175, 170, 169, 171, 175, 157, 172, 170, 172, 167, 173, 168, 167, 166, 167, 169, 172, 177, 178, 165, 161, 179, 159, 164, 178, 172, 170, 173, 171]\n",
    "\n",
    "summary = 0\n",
    "\n",
    "for i in a_list:\n",
    "    \n",
    "    summary = i + summary\n",
    "\n",
    "avg = summary / len (a_list)\n",
    "\n",
    "print (avg)"
   ]
  },
  {
   "cell_type": "code",
   "execution_count": null,
   "id": "b9a336c4-d73f-4a43-b30a-15bbd8eb5eed",
   "metadata": {},
   "outputs": [],
   "source": [
    "# Меры изменчивости"
   ]
  },
  {
   "cell_type": "code",
   "execution_count": null,
   "id": "1efc84f2-7c6e-426c-8724-83507b876dc2",
   "metadata": {},
   "outputs": [],
   "source": [
    "Среднее (mean)\n",
    "\n",
    "Cумма всех значений, деленная на количество значений. Синоним: среднее арифметическое.\n",
    "\n",
    "Формула средней арифметической величины:\n",
    "\n",
    " \n",
    "\n",
    " \n",
    "\n",
    "Среднее усеченное (trimmed mean)\n",
    "\n",
    "Среднее число всех значений после отбрасывания фиксированного числа предельных значений.\n",
    "\n",
    "Разновидностью среднего является среднее усечëнное, которое вычисляется путем отбрасывания фиксированного числа сортированных значений с каждого конца последовательности и затем взятия среднего арифметического оставшихся значений. Если представить сфортированные значения как \n",
    "�\n",
    "1\n",
    ",\n",
    "�\n",
    "2\n",
    ",\n",
    ".\n",
    ".\n",
    ".\n",
    ",\n",
    "�\n",
    "�\n",
    "x \n",
    "1\n",
    "​\n",
    " ,x \n",
    "2\n",
    "​\n",
    " ,...,x \n",
    "n\n",
    "​\n",
    "  , где:\n",
    "\n",
    "�\n",
    "1\n",
    "x \n",
    "1\n",
    "​\n",
    " — самое маленькое значение\n",
    "\n",
    "�\n",
    "2\n",
    "x \n",
    "2\n",
    "​\n",
    "  — самое большое,\n",
    "\n",
    "то формула для вычисления усеченного среднего с пропуском p самых малых и самых больших значений будет следующей:\n",
    "\n",
    " \n",
    "\n",
    "Среднее усеченное устраняет влияние предельных значений.\n",
    "\n",
    "Например, в международных состязаниях по прыжкам в воду верхние и нижние баллы пяти судей отбрасываются, и итоговым баллом является среднеарифметический балл трех оставшихся судей [Wikipedia-2016]. Такой подход не дает одному судье манипулировать баллом, возможно, чтобы оказать содействие спортсмену из своей страны. Усеченные средние получили широкое распространение и во многих случаях предпочтительны вместо обычного среднего\n",
    "\n",
    "Например, усечение нижних и верхних 10% данных (общепринятый выбор) обеспечит защиту от выбросов во всех, кроме самых малых, наборах данных. Среднее усеченное может считаться компромиссом между медианой и средним: оно устойчиво к предельным значениям в данных, но использует больше данных для вычисления оценки центрального положения.\n",
    "\n",
    "Синоним: обрезанное среднее.\n",
    "\n",
    "Среднее взвешенное (weighted mean)\n",
    "\n",
    "Сумма произведений всех значений на их веса, деленная на сумму весов.\n",
    "\n",
    "Еще один вид среднего значения — это среднее взвешенное, которое вычисляется путем умножения каждого значения данных \n",
    "�\n",
    "�\n",
    "x \n",
    "i\n",
    "​\n",
    "  на свой вес \n",
    "�\n",
    "�\n",
    "w \n",
    "i\n",
    "​\n",
    " ния их суммы на сумму весов.\n",
    "\n",
    "Формула среднего взвешенного выглядит так:\n",
    "\n",
    " \n",
    "\n",
    "Существует два главных побудительных мотива для использования среднего взвешенного:\n",
    "\n",
    "Некоторые значения внутренне более переменчивы, чем другие, и сильно переменчивым наблюдениям придается более низкий вес.\n",
    "\n",
    "Собранные данные не одинаково представляют разные группы, которые мы заинтересованы измерить.\n",
    "\n",
    "Например, если мы берем среднее данных, поступающих от многочисленных датчиков, и один из датчиков менее точен, тогда вес данных от этого датчика можно понизить.\n",
    "\n",
    "Например, в зависимости от того, каким образом проводится онлайновый эксперимент, у нас может не быть набора данных, который точно отражает все группы в базе пользователей. Для того чтобы это исправить, можно придать более высокий вес значениям из тех групп, которые были представлены недостаточно.\n",
    "\n",
    "Синоним: среднее арифметическое взвешенное.\n",
    "\n",
    "Мода\n",
    "\n",
    "Значение измеряемого признака, которое встречается максимально часто.\n",
    "\n",
    "Медиана\n",
    "\n",
    "Значение признака, которое делит упорядоченное множество данных пополам, \n",
    "а если их к-во четное, то берется среднее арифметическое двух элементов посередине.\n",
    "\n",
    "По сравнению со средним, в котором используются абсолютно все наблюдения, \n",
    "медиана зависит только от значений в центре данных. \n",
    "Хотя это может выглядеть как недостаток, поскольку среднее значение \n",
    "намного более чувствительно к данным, существует много примеров, \n",
    "в которых медиана является лучшим метрическим показателем \n",
    "центрального положения. \n",
    "Скажем, мы хотим взглянуть на типичные доходы домохозяйств в округах \n",
    "вокруг озера Вашингтон в Сиэтле. \n",
    "При сравнении округа Медина с округом Уиндермир использование среднего значения\n",
    "дало бы совершенно разные результаты, потому что в Медине живет Билл Гейтс. \n",
    "Если же мы станем использовать медиану, то уже не будет иметь значения, \n",
    "насколько богатым является Билл Гейтс — позиция срединного наблюдения \n",
    "останется той же.\n",
    "\n",
    "Синоним: 50-й процентиль.\n",
    "\n",
    "Медиана взвешенная (weighted median)\n",
    "\n",
    "Такое значение, при котором половина суммы весов находится выше и \n",
    "ниже сортированных данных.\n",
    "\n",
    "По тем же самым причинам, по которым используется среднее взвешенное, \n",
    "можно вычислить и медиану взвешенную. \n",
    "Как и с медианой, мы сначала выполняем сортировку данных, несмотря на то, \n",
    "что с каждым значением данных связан вес. \n",
    "В отличие от срединного числа медиана взвешенная — это такое значение, \n",
    "в котором сумма весов равна для нижней и верхней половин сортированного списка. Как и медиана, взвешенная медиана устойчива к выбросам.\n",
    "\n",
    "Робастный (robust)\n",
    "\n",
    "Не чувствительный к предельным значениям. (выбросам)\n",
    "\n",
    "Синоним: устойчивый.\n",
    "\n",
    "Выброс (outlier)\n",
    "\n",
    "Значение данных, которое сильно отличается от большинства данных.\n",
    "\n",
    "Выброс как таковой не делает значение данных недопустимым или ошибочным \n",
    "(как в предыдущем примере с Биллом Гейтсом). \n",
    "Однако выбросы часто являются результатом ошибок данных, \n",
    "таких как смешивание данных с разными единицами измерения \n",
    "(километры против метров) или плохие показания датчика. \n",
    "Когда выбросы являются результатом неправильных данных, \n",
    "среднее значение приводит к плохой оценке центрального положения, \n",
    "в то время как медиана будет по-прежнему допустимой. \n",
    "В любом случае выбросы должны быть идентифицированы и \n",
    "обычно заслуживают дальнейшего обследования.\n",
    "\n",
    "Синоним: предельное значение (случай)."
   ]
  },
  {
   "cell_type": "markdown",
   "id": "05b09fc6-93d4-499b-b66b-795423b0dcb6",
   "metadata": {
    "jp-MarkdownHeadingCollapsed": true,
    "tags": []
   },
   "source": [
    "# Свойства среднего"
   ]
  },
  {
   "cell_type": "code",
   "execution_count": null,
   "id": "81bc5e86-9636-46c0-b793-2ab82278bd45",
   "metadata": {
    "tags": []
   },
   "outputs": [],
   "source": [
    "'''Свойства среднего'''\n",
    "\n",
    "#1\n",
    "def M_plus_num(a, b):\n",
    "    '''Если к каждому значению в нашей выборки прибавить определенное число\n",
    "     то и среднее значение увиличится на это число'''\n",
    "    s = [i + b for i in a]\n",
    "\n",
    "    return sum(s) / len(s)\n",
    "\n",
    "#2\n",
    "def multiply(a, b):\n",
    "    '''Если каждое значение в нашей выборки умножим на определенное число\n",
    "     то и среднее значение увиличится в это-же  число раз'''\n",
    "    s = [i * b for i in a]\n",
    "\n",
    "    return sum(s) / len(s)\n",
    "\n",
    "#3\n",
    "def sred(a): #принимаем список выборки\n",
    "    b = sum(a) / len(a) #узнаем среднее значение списка выборки\n",
    "#создаем список отнимае среднее значение из числа и суммируем результат\n",
    "    s = sum([i - b for i in a])\n",
    "\n",
    "    return s\n",
    "\n",
    "x = list(map(int, input('Вводим список выборки: ').split())) #вводим список выборки\n",
    "y = int(input('Воводим число: ')) #число\n",
    "\n",
    "'''Выводим Свойства среднего'''\n",
    "print(M_plas_num(x, y))\n",
    "print(multiply(x, y))\n",
    "print(sred(x))\n"
   ]
  },
  {
   "cell_type": "code",
   "execution_count": null,
   "id": "b55a37c0-9fb0-4d93-9140-779d37a2da1f",
   "metadata": {},
   "outputs": [],
   "source": [
    "from scipy import stats\n",
    "import numpy as np\n",
    "\n",
    "a = np.array([1, 2, 3, 4, 5, 6])\n",
    "\n",
    "# обычное\n",
    "m1 = np.mean(a)\n",
    "# 1\n",
    "b = a + 1\n",
    "m2 = np.mean(b)\n",
    "# 2\n",
    "c = a * 10\n",
    "# 3\n",
    "m3 = np.mean(c)\n",
    "sum_m1 = sum(a - m1)\n",
    "\n",
    "print(m1)\n",
    "print(m2)\n",
    "print(m3)\n",
    "print(sum_m1)"
   ]
  },
  {
   "cell_type": "code",
   "execution_count": null,
   "id": "695b5100-7f94-4710-adb6-3704af4d9137",
   "metadata": {},
   "outputs": [],
   "source": [
    "# Доказательство 3 формулы\n",
    "mean1 = [1, 2, 3, 4, 5, 6, 7, 8, 9, 10]\n",
    "\n",
    "def calc_mean(list):\n",
    "    return sum(list) / len(list)\n",
    "\n",
    "print(calc_mean(mean1))\n",
    "\n",
    "def third_property(list):\n",
    "    sum = 0\n",
    "    mean = calc_mean(list)\n",
    "    for i in list:\n",
    "        sum += i - mean\n",
    "        print(i, ' - ', mean, ' = ', sum)\n",
    "    return sum\n",
    "\n",
    "print(third_property(mean1))"
   ]
  },
  {
   "cell_type": "markdown",
   "id": "2aa6e473-ae0a-4608-8a72-f35387788528",
   "metadata": {
    "tags": []
   },
   "source": [
    "# Меры изменчивости"
   ]
  },
  {
   "cell_type": "code",
   "execution_count": null,
   "id": "2b304820-6ba4-466d-97b0-20ae8d6046e0",
   "metadata": {},
   "outputs": [],
   "source": [
    "Одна из самых простых мер изменчивости - это размах. Которые рассчитывает просто. Это разность между максимальным и минимальным значение нашего распределение.\n",
    "\n",
    "Давайте посмотрим нашу выборку, и заметим что max значение нашего признака ровняется 185, а min значение = 157. Таким образом размах\n",
    "нашего распределения будет не что иное, как разность между Xmax и Xmin значение и будет ровняться 28( Xmax-Xmin) = (185-157=28)\n",
    "не смотря на простату в использования, данная мера обладает определенном недостатком. Оно рассчитывает изменчивость наших данных используя только два крайних значения, и любые изменение\n",
    "одного из крайних значений, будут очень болезненно отражаться на итоговом результате. Опять же вспомним пример с добавлением очень сильно отличающиеся от остальных значения признака опять же добавим \n",
    "31 - го наблюдение равное 3000 и размах изменится очень сильно, хотя говорить о том, что вариативность признака изменилось на столько, на сколько изменится размах будет не совсем корректно.\n",
    "Гораздо интереснее попытаться рассчитать изменчивость данных, используя каждое из значений. Как же это сделать? На  позволит ответить на этот вопрос понятие такие, как дисперсия и среднего квадратическое отклонение."
   ]
  },
  {
   "cell_type": "code",
   "execution_count": 6,
   "id": "d5986c49-22ad-4177-b056-2492ce7ff2b3",
   "metadata": {
    "tags": []
   },
   "outputs": [
    {
     "name": "stdout",
     "output_type": "stream",
     "text": [
      "размах:  28\n",
      "min:  157\n",
      "max:  185\n"
     ]
    }
   ],
   "source": [
    "#from scipy import stats\n",
    "#import numpy as np\n",
    "\n",
    "a = np.array([185, 175, 170, 169, 171, 175, 157, 172, 170, 172, 167, 173, 168, 167, 166,\n",
    "              167, 169, 172, 177, 178, 165, 161, 179, 159, 164, 178, 172, 170, 173, 171])\n",
    "\n",
    "\n",
    "print(\"размах: \", np.ptp(a))\n",
    "print(\"min: \", np.nanmin(a))\n",
    "print(\"max: \", np.nanmax(a))"
   ]
  },
  {
   "cell_type": "code",
   "execution_count": 5,
   "id": "cd6aca22-cb0b-4ce6-b5b2-ab1061d184bf",
   "metadata": {
    "tags": []
   },
   "outputs": [
    {
     "name": "stdin",
     "output_type": "stream",
     "text": [
      " 567\n"
     ]
    },
    {
     "name": "stdout",
     "output_type": "stream",
     "text": [
      "Размах:  0\n"
     ]
    },
    {
     "name": "stdin",
     "output_type": "stream",
     "text": [
      " 126,500\n"
     ]
    },
    {
     "ename": "ValueError",
     "evalue": "invalid literal for int() with base 10: '126,500'",
     "output_type": "error",
     "traceback": [
      "\u001b[1;31m---------------------------------------------------------------------------\u001b[0m",
      "\u001b[1;31mValueError\u001b[0m                                Traceback (most recent call last)",
      "Cell \u001b[1;32mIn[5], line 25\u001b[0m\n\u001b[0;32m     22\u001b[0m     result \u001b[38;5;241m=\u001b[39m sorted_data[end_data] \u001b[38;5;241m-\u001b[39m sorted_data[start_data]  \n\u001b[0;32m     23\u001b[0m     \u001b[38;5;28;01mreturn\u001b[39;00m result\n\u001b[1;32m---> 25\u001b[0m my_list \u001b[38;5;241m=\u001b[39m \u001b[38;5;28mlist\u001b[39m(\u001b[38;5;28mmap\u001b[39m(\u001b[38;5;28mint\u001b[39m, \u001b[38;5;28minput\u001b[39m()\u001b[38;5;241m.\u001b[39msplit())) \n\u001b[0;32m     26\u001b[0m \u001b[38;5;28mprint\u001b[39m(interquartile_range(my_list))\n",
      "\u001b[1;31mValueError\u001b[0m: invalid literal for int() with base 10: '126,500'"
     ]
    }
   ],
   "source": [
    "# range_val(data) - вычисляет размах для переданной выборки data / R = Xmax - Xmin\n",
    "\n",
    "def range_val(data):\n",
    "    R = max(data) - min(data) \n",
    "    return R\n",
    "\n",
    "\n",
    "my_list = list(map(int, input().split()))\n",
    "print('Размах: ', range_val(my_list))\n",
    "#  Однако как и среднее арифметическое эта мера очень чуствительна к выбросам.\n",
    "# И чтобы избежать искажений, мы должны отсечь 25% самых больших и 25% самых маленьких испытуемых и найти размах для оставшихся.\n",
    "\n",
    "# iterquartile_range(data) - вычисляет межквартильный размах для переданной выборки data.\n",
    "\n",
    "def interquartile_range(data):\n",
    "\n",
    "    sorted_data = sorted(data) # сортировка списка\n",
    "    length = len(data) # длина списка \n",
    "\n",
    "    end_data = int(length * 0.75) # 25%        \n",
    "    start_data = int(length * 0.25) # 25% \n",
    "    result = sorted_data[end_data] - sorted_data[start_data]  \n",
    "    return result\n",
    "\n",
    "my_list = list(map(int, input().split())) \n",
    "print(interquartile_range(my_list))"
   ]
  },
  {
   "cell_type": "code",
   "execution_count": null,
   "id": "f34ce987-6312-4a74-9300-88d1aaf6378f",
   "metadata": {},
   "outputs": [],
   "source": [
    "# Дисперсия(variance)-средний квадрат отклонений индивидуальных значений признака от их средней величины."
   ]
  },
  {
   "cell_type": "code",
   "execution_count": 4,
   "id": "72da18aa-ab76-4783-a1c1-847e344f3034",
   "metadata": {
    "tags": []
   },
   "outputs": [
    {
     "name": "stdout",
     "output_type": "stream",
     "text": [
      "34.839999999999996\n",
      "36.04137931034482\n",
      "5.902541825349482\n",
      "6.0034472855472645\n"
     ]
    }
   ],
   "source": [
    "#from scipy import stats\n",
    "#import numpy as np\n",
    "\n",
    "a = np.array([185, 175, 170, 169, 171, 175, 157, 172, 170, 172, 167, 173, 168, 167, 166,\n",
    "              167, 169, 172, 177, 178, 165, 161, 179, 159, 164, 178, 172, 170, 173, 171])\n",
    "\n",
    "#дисперсия\n",
    "print(np.var(a))\n",
    "#дисперсия (N - 1)\n",
    "print(np.var(a, ddof=1))\n",
    "#Среднее квадратичное\n",
    "print(np.std(a))\n",
    "#Среднее квадратичное (N - 1)\n",
    "print(np.std(a, ddof=1))"
   ]
  },
  {
   "cell_type": "markdown",
   "id": "896a3ffe-8f40-4312-91db-6cf02a4c6560",
   "metadata": {
    "tags": []
   },
   "source": [
    "# Getting the version"
   ]
  },
  {
   "cell_type": "code",
   "execution_count": 3,
   "id": "b02fd8dc-3fda-4366-b379-a92a3228e816",
   "metadata": {
    "tags": []
   },
   "outputs": [
    {
     "name": "stdout",
     "output_type": "stream",
     "text": [
      "2.0.3\n"
     ]
    }
   ],
   "source": [
    "# Importing pandas\n",
    "#import pandas as pd\n",
    "\n",
    "# Getting the version\n",
    "print(pd.__version__)\n",
    "\n"
   ]
  },
  {
   "cell_type": "code",
   "execution_count": null,
   "id": "994345c1-7f09-44a9-8cd9-95c245c53c67",
   "metadata": {},
   "outputs": [],
   "source": []
  }
 ],
 "metadata": {
  "kernelspec": {
   "display_name": "Python 3 (ipykernel)",
   "language": "python",
   "name": "python3"
  },
  "language_info": {
   "codemirror_mode": {
    "name": "ipython",
    "version": 3
   },
   "file_extension": ".py",
   "mimetype": "text/x-python",
   "name": "python",
   "nbconvert_exporter": "python",
   "pygments_lexer": "ipython3",
   "version": "3.11.5"
  }
 },
 "nbformat": 4,
 "nbformat_minor": 5
}
