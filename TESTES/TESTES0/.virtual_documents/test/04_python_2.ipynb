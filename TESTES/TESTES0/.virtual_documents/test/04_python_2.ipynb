


(1, 2, 3)


()


(1)


(1,)





t = 1, 2, 3
t





len(t)


t[1]


u = 4, 5
t + u


2 * u





x, y = 1, 2


x


y





x, y = y, x


x


y





s = {0, 1, 0, 5, 5, 1, 0}
s





1 in s, 2 in s, 1 not in s





l = [0, 1, 0, 5, 5, 1, 0]
set(l)


set('абба')





set()





{}





len(s)


for x in s:
    print(x)





{i for i in range(5)}





s2 = s | {2, 5}
s2





s < s2, s > s2, s <= s2, s >= s2





s2 & {1, 2, 3}





s2 - {1,3,5}


s2 ^ {1,3,5}





s2.add(4)
s2


s2.remove(1)
s2





s2 |= {1, 2}
s2





x = set([1, 4, 2, 4, 2, 1, 3, 4])
print(x)

x.add(5)  # добавление элемента
print(x)

x.pop()  # удаление элемента
print(x)

print(x.intersection(set([2, 4, 6, 8])))  # Пересечение
print(x.difference(set([2, 4, 6, 8])))  # Разность
print(x.union(set([2, 4, 6, 8])))  # Объединение
print(x.symmetric_difference(set([2, 4, 6, 8])))  # Симметрическая разность

print(x.issubset(set([2, 4, 6, 8])))  # Является ли подмножеством
print(x.issubset(set(list(range(10)))))

print(x.issuperset(set([2, 4, 6, 8])))  # Является ли надмножеством
print(x.issuperset(set([2, 4])))





d = {'one': 1, 'two': 2, 'three': 3}
d





d['two']


d['four']





'one' in d, 'four' in d





d['one'] =- 1
d


d['four'] = 4
d





len(d)





del d['two']
d





d.get('one'), d.get('five')


d.get('one', 0), d.get('five', 0)





d = {}
d


d['zero'] = 0
d


d['one'] = 1
d





d = {i: i ** 2 for i in range(5)}
d





d = {}
d[0, 0] = 1
d[0, 1] = 0
d[1, 0] = 0
d[1, 1] = -1
d


d[0, 0] + d[1, 1]





d = {'one': 1, 'two': 2, 'three': 3}
for x in d:
    print(x, '  ', d[x])





d.keys(), d.values(), d.items()


for x in sorted(d.keys()):
    print(x, '  ', d[x])


for x, y in d.items():
    print(x, '  ', y)


del x, y





class Employee:
    def __init__(self, name, age):
        self.name = name
        self.age = age

Alex = Employee('Alex', 20)
Amanda = Employee('Amanda', 30)
David = Employee('David', 15)
L = [Alex, Amanda, David]

# Лямбда-выражение было использовано в качестве параметра key 
# вместо отдельного ее определения и затем передачи в функцию sort.
print([item.name for item in L])
L.sort(key=lambda x: x.age) 





l1 = ['blue', 'green', 'red', 'orange']
print(sorted(l1, key=len))





bool(False), bool(True)


bool(None)


bool(0), bool(123)


bool(''), bool(' ')


bool([]), bool([0])


bool(set()), bool({0})


bool({}), bool({0: 0})


bool(0.0)





def f():
    pass


f


pass


type(f)


r = f()
print(r)





def f(x):
    return x + 1


f(1), f(1.0)


f('abc')





def f(x, a=0, b='b'):
    print(x, '  ', a, '  ', b)


f(1.0)


f(1.0, 1)


f(1.0, b='a')


f(1.0, b='a', a=2)


f(a=2, x=2.0)





a = 1


def f():
    a = 2
    return a


f()


a





def f():
    global a
    a = 2
    return a


f()


a





def f(x, l):
    l.append(x)
    return l


l = [1, 2, 3]
f(0, l)


l





def f(x, l=[]):
    l.append(x)
    return l


f(0)


f(1)


f(2)





def f(x, l=None):
    if l is None:
        l = []
    l.append(x)
    return l


f(0)


f(1)


f(2, [0, 1])





def f(x, *l):
    print(x, '  ', l)


f(0)


f(0, 1)


f(0, 1, 2)


f(0, 1, 2, 3)





l=[1, 2]
c=('a', 'b')
f(*l, 0, *c)





(*l, 0, *c)


[*l, 0, *c]


[*l, 3]





def f(x, y, **d):
    print(x, '  ', y, '  ', d)


f(0, 1, foo=2, bar=3)





d={'foo': 2, 'bar': 3}
f(0, 1, **d)


d['x'] = 0
d['y'] = 1
f(**d)





def f(**d):
    return d


f(x=0, y=1, z=2)





d={0: 'a', 1: 'b'}
{**d, 2: 'c'}





d1 = {0: 'a', 1: 'b'}
d2 = {2: 'c', 3: 'd'}
{**d1, **d2}





d2 = {1: 'B', 2: 'C'}
{**d1, 3: 'D', **d2, 3: 'd'}





def f(x, y, *l, **d):
    print(x, '  ', y, '  ', l, '  ', d)


f(0, 1, 2, 3, foo=4, bar=5)





def f0(x):
    return x + 2


def f1(x):
    return 2 * x


l = [f0, f1]
l


x = 2.0
n = 1
l[n](x)





def fib(n):
    '''вычисляет n-е число Фибоначчи'''
    
    assert type(n) is int and n>0
    
    if n <= 2:
        return 1
    
    x, y = 1, 1
    for i in range(n - 2):
        x, y = y, x + y
    
    return y


fib.__doc__


help(fib)





fib?


[fib(n) for n in range(1, 10)]


fib(-1)


fib(2.0)





def sum(a, b):
    return a + b





sum(3, 5)                                                         


sum([1, 0, 5], ['java', 'c++'])


sum('2', '3') 





def sum(a: int, b: int):
    return a + b





def sum(number1, number2) -> int:
    return number1 + number1





x = zip(range(5), range(0, 10, 2))
print(list(x))





x = map(fib, range(1, 10))
print(list(x))





x = list(zip([7, 3, 4, 4, 5, 3, 9], ['a', 'n', 'n', 'a', 'k', 'n', 'a']))

# сначала сортировка по букве по алфавиту, потом сортировка по убыванию по числу 
x = sorted(x, key=lambda element: (element[1], -element[0]))
print(list(x))





from collections import defaultdict

s = [('yellow', 1), ('blue', 2), ('yellow', 3), ('blue', 4), ('red', 1)]
d = defaultdict(list)
for k, v in s:
    d[k].append(v)

sorted(d.items())





from collections import Counter

cnt = Counter(['red', 'blue', 'red', 'green', 'blue', 'blue'])
dict(cnt)





from dataclasses import dataclass

@dataclass
class Coordinate:
    x: int
    y: int
    z: int





from dataclasses import dataclass

@dataclass
class Coordinate:
    x: int
    y: int
    z: int

a = Coordinate(4, 5, 3)
print(a)



