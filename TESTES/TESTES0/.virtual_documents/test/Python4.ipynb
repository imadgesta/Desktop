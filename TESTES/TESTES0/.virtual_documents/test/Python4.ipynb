


a = []
for i in range(5):
    a.append(i)
print(a)





def factorial(n):
    f = 1
    for i in range(1, n+1):
        f *= i
        return f


print(factorial(120))


import numpy as np
import matplotlib.pyplot as plt


x = np.arange(-4,4,0.01)
print(x)


plt.plot(x,x**2)


plt.plot(x,x**2)
plt.plot(x,x**3)





values = [12,55,4,32,14]
colors = ['r','g','b','c','m']
plt.bar(range(0,5),values,color =colors)


values = [12, 55, 4, 32,14]
colors = ['r','g','b','c','m']
explode = [0,0,0.2,0,0]
labels = ['One','Two','Three','Four','Five']
plt.title('Diagram')
plt.pie(values, colors = colors, labels = labels, explode= explode)


import sys


one = two = three = object()
print(sys.getrefcount(one))


import pandas as pd


pd.Series([1, '2', 'h'], index=['a', 'b', 'c'])


pd.Series({'a': 123, 'c': 'h', 'a': 'hello'})


t =pd.Series(range(20))


t[t>10]


s = pd.DataFrame([[1, 2], [3, 4], [5, 6]], index=['a', 'b', 'c'], columns=['n1', 'n2'])


s = pd.DataFrame({'a': [1, 2], 'b': [3, 4], 'c': [5, 6]})


s['a'][0]


week = pd.Series({'Понедельник': 90, 'Вторник': 51, 'Среда': 76, 'Четверг': 39, 'Пятница': 23,})
plt.title('График усталости за неделю')


plt.plot(week)
plt.show()
plt.title('График усталости за неделю')


for countdown in 5, 4, 3, 2, 1, "hey!":
 print(countdown)


spells = [
 "Riddikulus!",
 "Wingardium Leviosa!",
 "Avada Kedavra!",
 "Expecto Patronum!",
 "Nox!",
 "Lumos!",
 ]
print(spells[3])


quotes = {
 "Moe": "A wise guy, huh?",
 "Larry": "Ow!",
 "Curly": "Nyuk nyuk!",
 }
stooge = "Curly"
print(stooge, "says:", quotes[stooge])


1 
2 import json
3 from urllib.request import urlopen
4 
5 print("Let's find an old website.")
6 site = input("Type a website URL: ")
7 era = input("Type a year, month, and day, like 20150613: ")
8 url = "http://archive.org/wayback/available?url=%s&timestamp=%s" % (site, era)
9 response = urlopen(url)
10 contents = response.read()
11 text = contents.decode("utf-8")
12 data = json.loads(text)
13 try:
14 old_site = data["archived_snapshots"]["closest"]["url"]
15 print("Found this copy: ", old_site)
16 print("It should appear in your browser now.")
17 webbrowser.open(old_site)
18 except:
19 print("Sorry, no luck finding", site)


1 import webbrowser
2 import requests
3 
4 print("Let's find an old website.")
5 site = input("Type a website URL: ")
6 era = input("Type a year, month, and day, like 20150613: ")
7 url = "http://archive.org/wayback/available?url=%s&timestamp=%s" % (site, era)
8 response = requests.get(url)
9 data = response.json()
10 try:
11 old_site = data["archived_snapshots"]["closest"]["url"]
12 print("Found this copy: ", old_site)
13 print("It should appear in your browser now.")
14 webbrowser.open(old_site)
15 except:
16 print("Sorry, no luck finding", site)


import this


letters = list("Hello")
print(letters)


s = "python"


type(s)


s.upper()


res = s.upper()


res.lower()





t = ()


type(t)


tuple()


t = (1,2,3,4,5,6,7,8,9,10)


t


t[4] = 44


t2 = tuple(range(50,151, 15))


t2


t + t2


t3 = t + t2


t3





init_dict = {'a': 11, 'b': 21, 'c': 19}
print(init_dict)

init_dict_second = dict(a=11, b=21, c=19)
print(init_dict_second)

init_dict_third = {k: v for k, v in(('a', 11),('b', 21),('c', 19))}
print(init_dict_third)


init_dict = {'a': 11, 'b': 21, 'c': 19}
print(init_dict)

new_values = {'d': 18, 'e': 46, 'f': 29}
print("Adding multiple values to a dict")
init_dict.update(new_values)
print(init_dict)


flowers = "pink primrose,hard-leaved pocket orchid,canterbury bells,sweet pea,english marigold,tiger lily,moon orchid,bird of paradise,monkshood,globe thistle"

print(type(flowers))
print(flowers)


flowers_list = ["pink primrose", "hard-leaved pocket orchid", "canterbury bells", "sweet pea", "english marigold", "tiger lily", "moon orchid", "bird of paradise", "monkshood", "globe thistle"]

print(type(flowers_list))
print(flowers_list)


import pandas as pd
import numpy as np

data = np.array(['A','B','C','D'])
seri = pd.Series(data)
print(seri)


import keyword
keyword.kwlist


>>> int('10', 2) # двоичная


>>> int('10', 8) # восьмеричная


>>> disaster = True
>>> if disaster:
... print("Woe!")
... else:
... print("Whee!")
...
Woe!


pip install pygame



