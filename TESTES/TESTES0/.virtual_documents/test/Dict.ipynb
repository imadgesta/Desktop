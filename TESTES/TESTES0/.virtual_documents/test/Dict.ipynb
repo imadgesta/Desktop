


from operator import itemgetter 

dict = {
    1: "Ahsoka",
    2: "Andor",
    3: "Bad Batch",
    4: "Rogue Squadron",
    5: "Lando",
    6: "The rangers of new republic",
    7: "The Acolyte"
}

keys = list(map(itemgetter(0), dict.items()))
print(keys)


[1, 2, 3, 4, 5, 6, 7]





dict = {
    1: "Ahsoka",
    2: "Andor",
    3: "Bad Batch",
    4: "Rogue Squadron",
    5: "Lando",
    6: "The rangers of new republic",
    7: "The Acolyte"
}

keys = [*dict]
print(keys)





dict = {
    1: "Ahsoka",
    2: "Andor",
    3: "Bad Batch",
    4: "Rogue Squadron",
    5: "Lando",
    6: "The rangers of new republic",
    7: "The Acolyte"
}

list = []
for key in dict.keys():
    list.append(key)
print(list)





dict = {
    1: "Ahsoka",
    2: "Andor",
    3: "Bad Batch",
    4: "Rogue Squadron",
    5: "Lando",
    6: "The rangers of new republic",
    7: "The Acolyte"
}

keys = dict.keys()
print(keys)
print(type(keys))





dict = {
    1: "Ahsoka",
    2: "Andor",
    3: "Bad Batch",
    4: "Rogue Squadron",
    5: "Lando",
    6: "The rangers of new republic",
    7: "The Acolyte"
}

keys = dict.keys()
print(keys)
print(type(keys))

list = list(keys)
print(list)


# Чтобы распечатать ключи словаря в Python, 
#                   вы можете использовать метод dict.keys(), 
#                   чтобы получить все ключи, 
#                 а затем использовать функцию print() для печати этих ключей.



dict = {
  'streaming': 'Netflix',
  'show': 'Shadow and Bone',
  'ratings': 'Good',
  'genre': 'Fantasy '
}

print(dict.keys())





# Метод словаря items() используется для получения всех ключей 
#                                  и связанных с ними значений. 
#                  Мы можем использовать метод items() в цикле for 
#                            и распечатать ключи и значения словаря.



dict = {
  'streaming': 'Netflix',
  'show': 'Shadow and Bone',
  'ratings': 'Good',
  'genre': 'Fantasy '
}

for key, value in dict.items():
  print(key)





dict = {
  'Novel': 'Dune',
  'year': 1965,
  'author': 'Frank Herbert',
  'character': 'Paul Atreides'
}

[print(keys) for keys in dict]





from operator import itemgetter


def HeyList(dictionary):
  return list(map(itemgetter(0), dictionary.items()))


dict = {
  'Novel': 'Dune',
  'year': 1965,
  'author': 'Frank Herbert',
  'character': 'Paul Atreides'
}

print(HeyList(dict))



