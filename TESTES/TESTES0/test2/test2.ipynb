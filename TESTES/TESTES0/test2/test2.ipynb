{
 "cells": [
  {
   "cell_type": "code",
   "execution_count": 2,
   "id": "e0677f69-9048-485f-92a6-fdd49e914d97",
   "metadata": {
    "tags": []
   },
   "outputs": [],
   "source": [
    "import math"
   ]
  },
  {
   "cell_type": "code",
   "execution_count": 4,
   "id": "c21f5d42-003e-4856-9b40-2214cbb30222",
   "metadata": {
    "tags": []
   },
   "outputs": [
    {
     "data": {
      "text/plain": [
       "3.141592653589793"
      ]
     },
     "execution_count": 4,
     "metadata": {},
     "output_type": "execute_result"
    }
   ],
   "source": [
    "math.pi"
   ]
  },
  {
   "cell_type": "code",
   "execution_count": 5,
   "id": "283ab4a4-8bf4-47b9-89a4-3ab3c27fb024",
   "metadata": {
    "tags": []
   },
   "outputs": [
    {
     "data": {
      "text/plain": [
       "2.718281828459045"
      ]
     },
     "execution_count": 5,
     "metadata": {},
     "output_type": "execute_result"
    }
   ],
   "source": [
    "math.e"
   ]
  },
  {
   "cell_type": "code",
   "execution_count": 6,
   "id": "48458346-f7ab-4e6f-8f4d-f8e837fdaa87",
   "metadata": {
    "tags": []
   },
   "outputs": [],
   "source": [
    "# без скобок"
   ]
  },
  {
   "cell_type": "code",
   "execution_count": 7,
   "id": "394c6f80-fa86-4b9b-bc22-e7c5eb9a7639",
   "metadata": {
    "tags": []
   },
   "outputs": [],
   "source": [
    "from math import *"
   ]
  },
  {
   "cell_type": "code",
   "execution_count": 8,
   "id": "6e6c46b5-b065-4418-b300-901ecadc2d67",
   "metadata": {
    "tags": []
   },
   "outputs": [
    {
     "data": {
      "text/plain": [
       "3.141592653589793"
      ]
     },
     "execution_count": 8,
     "metadata": {},
     "output_type": "execute_result"
    }
   ],
   "source": [
    "pi"
   ]
  },
  {
   "cell_type": "code",
   "execution_count": 9,
   "id": "7623ce3f-0c7a-4602-b29e-9f3bda184173",
   "metadata": {
    "tags": []
   },
   "outputs": [
    {
     "data": {
      "text/plain": [
       "2.718281828459045"
      ]
     },
     "execution_count": 9,
     "metadata": {},
     "output_type": "execute_result"
    }
   ],
   "source": [
    "e"
   ]
  },
  {
   "cell_type": "code",
   "execution_count": 10,
   "id": "dc810fa8-2a48-45f3-987b-3c93776758ed",
   "metadata": {
    "tags": []
   },
   "outputs": [],
   "source": [
    "import math as m"
   ]
  },
  {
   "cell_type": "code",
   "execution_count": 12,
   "id": "c73f357f-2ddc-445a-86c6-954248fc6ac6",
   "metadata": {
    "tags": []
   },
   "outputs": [
    {
     "data": {
      "text/plain": [
       "3.141592653589793"
      ]
     },
     "execution_count": 12,
     "metadata": {},
     "output_type": "execute_result"
    }
   ],
   "source": [
    "m.pi"
   ]
  },
  {
   "cell_type": "code",
   "execution_count": 13,
   "id": "7da3119c-1268-418f-8320-105673906bcb",
   "metadata": {
    "tags": []
   },
   "outputs": [
    {
     "data": {
      "text/plain": [
       "2.718281828459045"
      ]
     },
     "execution_count": 13,
     "metadata": {},
     "output_type": "execute_result"
    }
   ],
   "source": [
    "m.e"
   ]
  },
  {
   "cell_type": "code",
   "execution_count": 14,
   "id": "94e688a9-b0cf-4393-9406-7c99251ee6e9",
   "metadata": {
    "tags": []
   },
   "outputs": [
    {
     "data": {
      "text/plain": [
       "2.0"
      ]
     },
     "execution_count": 14,
     "metadata": {},
     "output_type": "execute_result"
    }
   ],
   "source": [
    "m.log10(100)"
   ]
  },
  {
   "cell_type": "markdown",
   "id": "c32b271f-f871-4507-8a0f-89c0f55326d1",
   "metadata": {},
   "source": [
    "# переменные"
   ]
  },
  {
   "cell_type": "code",
   "execution_count": 15,
   "id": "13b34f0b-9b09-448b-b8a1-984f8b2f204f",
   "metadata": {
    "tags": []
   },
   "outputs": [],
   "source": [
    "a = 5"
   ]
  },
  {
   "cell_type": "code",
   "execution_count": 16,
   "id": "22e31103-b60d-4f1e-a31f-64226b8387f3",
   "metadata": {
    "tags": []
   },
   "outputs": [],
   "source": [
    "b = 5.5"
   ]
  },
  {
   "cell_type": "code",
   "execution_count": 17,
   "id": "7a701f6a-7329-4225-b904-5dea162cb565",
   "metadata": {
    "tags": []
   },
   "outputs": [],
   "source": [
    "c = 'string'"
   ]
  },
  {
   "cell_type": "code",
   "execution_count": 18,
   "id": "debe3fb0-e70e-470b-a178-d6fc3e10d5ee",
   "metadata": {
    "tags": []
   },
   "outputs": [],
   "source": [
    "a = 'фигня'"
   ]
  },
  {
   "cell_type": "code",
   "execution_count": 19,
   "id": "150b8207-675c-45db-8508-a08631f9084a",
   "metadata": {
    "tags": []
   },
   "outputs": [
    {
     "data": {
      "text/plain": [
       "'фигня'"
      ]
     },
     "execution_count": 19,
     "metadata": {},
     "output_type": "execute_result"
    }
   ],
   "source": [
    "a"
   ]
  },
  {
   "cell_type": "code",
   "execution_count": 20,
   "id": "7dcdfae0-44b0-4243-aa22-fd0b0f036564",
   "metadata": {
    "tags": []
   },
   "outputs": [
    {
     "data": {
      "text/plain": [
       "5.5"
      ]
     },
     "execution_count": 20,
     "metadata": {},
     "output_type": "execute_result"
    }
   ],
   "source": [
    "b"
   ]
  },
  {
   "cell_type": "code",
   "execution_count": 21,
   "id": "3bb5d600-2e9a-4689-82ad-cb0de7dbde78",
   "metadata": {
    "tags": []
   },
   "outputs": [],
   "source": [
    "b = 'херня'"
   ]
  },
  {
   "cell_type": "code",
   "execution_count": 22,
   "id": "70ea7b1e-ce49-4a02-8d81-3c9d350c957a",
   "metadata": {
    "tags": []
   },
   "outputs": [
    {
     "data": {
      "text/plain": [
       "'херня'"
      ]
     },
     "execution_count": 22,
     "metadata": {},
     "output_type": "execute_result"
    }
   ],
   "source": [
    "b"
   ]
  },
  {
   "cell_type": "code",
   "execution_count": 24,
   "id": "07a70033-1a70-434a-a89b-d12bd7d64201",
   "metadata": {
    "tags": []
   },
   "outputs": [],
   "source": [
    "a = 5"
   ]
  },
  {
   "cell_type": "code",
   "execution_count": 25,
   "id": "06c1eb62-25bc-4820-80e1-e258737c2e81",
   "metadata": {
    "tags": []
   },
   "outputs": [],
   "source": [
    "b = 6"
   ]
  },
  {
   "cell_type": "code",
   "execution_count": 26,
   "id": "5698d731-45a0-4661-ab1a-34000f68bcdc",
   "metadata": {
    "tags": []
   },
   "outputs": [
    {
     "data": {
      "text/plain": [
       "30"
      ]
     },
     "execution_count": 26,
     "metadata": {},
     "output_type": "execute_result"
    }
   ],
   "source": [
    "a * b"
   ]
  },
  {
   "cell_type": "code",
   "execution_count": 27,
   "id": "6bbf3d3b-7e59-4990-ac9f-3dd18c4d6813",
   "metadata": {
    "tags": []
   },
   "outputs": [],
   "source": [
    "a = \"A\""
   ]
  },
  {
   "cell_type": "code",
   "execution_count": 28,
   "id": "9c07a930-461f-4540-a1d4-353b01fd3901",
   "metadata": {
    "tags": []
   },
   "outputs": [
    {
     "data": {
      "text/plain": [
       "'AAAAAA'"
      ]
     },
     "execution_count": 28,
     "metadata": {},
     "output_type": "execute_result"
    }
   ],
   "source": [
    "a * b"
   ]
  },
  {
   "cell_type": "code",
   "execution_count": 29,
   "id": "7595e9a7-e42c-418d-bc25-9c56eb57866e",
   "metadata": {
    "tags": []
   },
   "outputs": [],
   "source": [
    "a = 5\n",
    "b = 6\n",
    "p5 = 404"
   ]
  },
  {
   "cell_type": "code",
   "execution_count": 30,
   "id": "16983976-e667-4471-8219-724d90048baa",
   "metadata": {
    "tags": []
   },
   "outputs": [
    {
     "name": "stdout",
     "output_type": "stream",
     "text": [
      "5 6 404\n"
     ]
    }
   ],
   "source": [
    "print(a,b,p5)"
   ]
  },
  {
   "cell_type": "code",
   "execution_count": 31,
   "id": "74f6d32e-d235-4633-ae3c-3b27b0114994",
   "metadata": {
    "tags": []
   },
   "outputs": [
    {
     "data": {
      "text/plain": [
       "int"
      ]
     },
     "execution_count": 31,
     "metadata": {},
     "output_type": "execute_result"
    }
   ],
   "source": [
    "type(a)"
   ]
  },
  {
   "cell_type": "code",
   "execution_count": 32,
   "id": "399d7b63-6f53-4a00-a1d8-48716e2b7ef1",
   "metadata": {
    "tags": []
   },
   "outputs": [
    {
     "name": "stdin",
     "output_type": "stream",
     "text": [
      " Вася\n"
     ]
    },
    {
     "data": {
      "text/plain": [
       "'Вася'"
      ]
     },
     "execution_count": 32,
     "metadata": {},
     "output_type": "execute_result"
    }
   ],
   "source": [
    "input()"
   ]
  },
  {
   "cell_type": "code",
   "execution_count": 33,
   "id": "d5c434db-fc8f-44bd-b56d-43db3c57d0d8",
   "metadata": {
    "tags": []
   },
   "outputs": [
    {
     "name": "stdin",
     "output_type": "stream",
     "text": [
      "ВВЕДИТЕ ИМЯ Вася\n"
     ]
    },
    {
     "data": {
      "text/plain": [
       "'Вася'"
      ]
     },
     "execution_count": 33,
     "metadata": {},
     "output_type": "execute_result"
    }
   ],
   "source": [
    "input('ВВЕДИТЕ ИМЯ')"
   ]
  },
  {
   "cell_type": "code",
   "execution_count": null,
   "id": "84fee9eb-d382-4b3c-b27d-f18edfa51f8c",
   "metadata": {},
   "outputs": [],
   "source": []
  }
 ],
 "metadata": {
  "kernelspec": {
   "display_name": "Python 3 (ipykernel)",
   "language": "python",
   "name": "python3"
  },
  "language_info": {
   "codemirror_mode": {
    "name": "ipython",
    "version": 3
   },
   "file_extension": ".py",
   "mimetype": "text/x-python",
   "name": "python",
   "nbconvert_exporter": "python",
   "pygments_lexer": "ipython3",
   "version": "3.11.5"
  }
 },
 "nbformat": 4,
 "nbformat_minor": 5
}
