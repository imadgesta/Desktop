{
 "cells": [
  {
   "cell_type": "markdown",
   "id": "7605af92-da64-4730-889d-20d706f124bc",
   "metadata": {},
   "source": [
    "# STRING"
   ]
  },
  {
   "cell_type": "code",
   "execution_count": 1,
   "id": "718d60ab-3418-4479-9870-19f7f6db2125",
   "metadata": {
    "tags": []
   },
   "outputs": [
    {
     "data": {
      "text/plain": [
       "'RD766TO87Y98'"
      ]
     },
     "execution_count": 1,
     "metadata": {},
     "output_type": "execute_result"
    }
   ],
   "source": [
    "'RD766TO87Y98'"
   ]
  },
  {
   "cell_type": "code",
   "execution_count": 2,
   "id": "f227232e-f7f2-4600-a953-5df7d74760d4",
   "metadata": {
    "tags": []
   },
   "outputs": [
    {
     "data": {
      "text/plain": [
       "'67569787979'"
      ]
     },
     "execution_count": 2,
     "metadata": {},
     "output_type": "execute_result"
    }
   ],
   "source": [
    "'67569787979'"
   ]
  },
  {
   "cell_type": "code",
   "execution_count": 3,
   "id": "299bd8e9-c17a-4a49-85e7-774c68ae14d0",
   "metadata": {
    "tags": []
   },
   "outputs": [
    {
     "data": {
      "text/plain": [
       "'8U8U8U?///\\\\\\\\][[[[[P6R6RT]]]]]'"
      ]
     },
     "execution_count": 3,
     "metadata": {},
     "output_type": "execute_result"
    }
   ],
   "source": [
    "\"8U8U8U?///\\\\\\\\][[[[[P6R6RT]]]]]\""
   ]
  },
  {
   "cell_type": "code",
   "execution_count": 4,
   "id": "478976bb-ff37-460e-a302-34daada2d32b",
   "metadata": {
    "tags": []
   },
   "outputs": [
    {
     "data": {
      "text/plain": [
       "'FilippFilippFilippFilippFilippFilippFilippFilippFilippFilippFilippFilippFilippFilippFilippFilippFilippFilippFilippFilippFilippFilippFilippFilippFilippFilippFilippFilippFilippFilippFilippFilippFilippFilippFilippFilippFilippFilippFilippFilippFilippFilippFilippFilippFilippFilippFilippFilippFilippFilipp'"
      ]
     },
     "execution_count": 4,
     "metadata": {},
     "output_type": "execute_result"
    }
   ],
   "source": [
    "S = 'Filipp'\n",
    "S * 50"
   ]
  },
  {
   "cell_type": "code",
   "execution_count": 5,
   "id": "bdf31d9a-6a44-4271-ba21-49e11957f78c",
   "metadata": {
    "tags": []
   },
   "outputs": [],
   "source": [
    "s2 = \"qwer\""
   ]
  },
  {
   "cell_type": "code",
   "execution_count": 6,
   "id": "204e0c06-8098-428f-a34e-a82f2836790d",
   "metadata": {
    "tags": []
   },
   "outputs": [
    {
     "data": {
      "text/plain": [
       "'Filippqwer'"
      ]
     },
     "execution_count": 6,
     "metadata": {},
     "output_type": "execute_result"
    }
   ],
   "source": [
    "S + s2"
   ]
  },
  {
   "cell_type": "code",
   "execution_count": 8,
   "id": "08e2347c-edc0-4871-b5ed-1d0f4f26cba9",
   "metadata": {
    "tags": []
   },
   "outputs": [
    {
     "data": {
      "text/plain": [
       "b'Filipp'"
      ]
     },
     "execution_count": 8,
     "metadata": {},
     "output_type": "execute_result"
    }
   ],
   "source": [
    "S.encode()"
   ]
  },
  {
   "cell_type": "code",
   "execution_count": 9,
   "id": "18d1de65-f3d2-4e39-9278-bbc1afc930e1",
   "metadata": {
    "tags": []
   },
   "outputs": [
    {
     "data": {
      "text/plain": [
       "b'qwer'"
      ]
     },
     "execution_count": 9,
     "metadata": {},
     "output_type": "execute_result"
    }
   ],
   "source": [
    "s2.encode()"
   ]
  },
  {
   "cell_type": "code",
   "execution_count": 17,
   "id": "912d2ed1-a6ee-42c2-ba47-ab7800a16af1",
   "metadata": {
    "tags": []
   },
   "outputs": [],
   "source": [
    "a = 'Filipp'"
   ]
  },
  {
   "cell_type": "code",
   "execution_count": 18,
   "id": "268168c5-9acb-4a77-a432-75b51487373b",
   "metadata": {
    "tags": []
   },
   "outputs": [
    {
     "data": {
      "text/plain": [
       "b'Filipp'"
      ]
     },
     "execution_count": 18,
     "metadata": {},
     "output_type": "execute_result"
    }
   ],
   "source": [
    "a.encode()"
   ]
  },
  {
   "cell_type": "code",
   "execution_count": 19,
   "id": "59bc76fc-1350-4107-b6e3-dd1b0e8a6347",
   "metadata": {
    "tags": []
   },
   "outputs": [
    {
     "name": "stdout",
     "output_type": "stream",
     "text": [
      "фигня\n",
      "херня\n"
     ]
    }
   ],
   "source": [
    "print('фигня')\n",
    "print('херня')"
   ]
  },
  {
   "cell_type": "code",
   "execution_count": null,
   "id": "81c65173-4e99-4dcc-ac7e-e48d57d1cc1a",
   "metadata": {},
   "outputs": [],
   "source": [
    "print('')"
   ]
  },
  {
   "cell_type": "markdown",
   "id": "a20a3684-6adf-476a-be14-a0b68fc0c55a",
   "metadata": {},
   "source": [
    "# SEP"
   ]
  },
  {
   "cell_type": "code",
   "execution_count": 21,
   "id": "644d0ddb-ad36-4424-8ed2-9462f5252c45",
   "metadata": {
    "tags": []
   },
   "outputs": [
    {
     "name": "stdout",
     "output_type": "stream",
     "text": [
      "sdgsdg$25$17.7$False\n"
     ]
    }
   ],
   "source": [
    "print('sdgsdg', 25, 17.7, False, sep='$')"
   ]
  },
  {
   "cell_type": "markdown",
   "id": "2209f34b-7c83-4844-ad90-00055a0429f2",
   "metadata": {},
   "source": [
    "# END"
   ]
  },
  {
   "cell_type": "code",
   "execution_count": 22,
   "id": "32f196ed-27ff-4723-91ca-a2466bf098ca",
   "metadata": {
    "tags": []
   },
   "outputs": [
    {
     "name": "stdout",
     "output_type": "stream",
     "text": [
      "фигня херня\n"
     ]
    }
   ],
   "source": [
    "print('фигня', end=' ')\n",
    "print('херня')"
   ]
  },
  {
   "cell_type": "code",
   "execution_count": 23,
   "id": "6c659f40-4c1f-4f59-ab3b-8e00f59f95c6",
   "metadata": {
    "tags": []
   },
   "outputs": [
    {
     "name": "stdout",
     "output_type": "stream",
     "text": [
      "фигняхерня\n"
     ]
    }
   ],
   "source": [
    "print('фигня', end='')\n",
    "print('херня')"
   ]
  },
  {
   "cell_type": "markdown",
   "id": "8368c702-f7de-4a6a-b0cc-5f97cddcb922",
   "metadata": {
    "tags": []
   },
   "source": [
    "# СРЕЗ"
   ]
  },
  {
   "cell_type": "code",
   "execution_count": 25,
   "id": "16b2136b-8f3c-4183-857a-d50401f6c863",
   "metadata": {
    "tags": []
   },
   "outputs": [],
   "source": [
    "s = \"Hello world\""
   ]
  },
  {
   "cell_type": "code",
   "execution_count": 26,
   "id": "811a2d9a-d0d8-4f3e-841a-8df579d359b1",
   "metadata": {
    "tags": []
   },
   "outputs": [
    {
     "data": {
      "text/plain": [
       "'Hello world'"
      ]
     },
     "execution_count": 26,
     "metadata": {},
     "output_type": "execute_result"
    }
   ],
   "source": [
    "s[:]"
   ]
  },
  {
   "cell_type": "code",
   "execution_count": 27,
   "id": "4765d324-a2c7-4a70-9dd6-8634a373d566",
   "metadata": {
    "tags": []
   },
   "outputs": [
    {
     "data": {
      "text/plain": [
       "'e'"
      ]
     },
     "execution_count": 27,
     "metadata": {},
     "output_type": "execute_result"
    }
   ],
   "source": [
    "s[1]"
   ]
  },
  {
   "cell_type": "code",
   "execution_count": 28,
   "id": "fb8e368e-f791-4531-aec2-fc9bdc93fc74",
   "metadata": {
    "tags": []
   },
   "outputs": [
    {
     "data": {
      "text/plain": [
       "'H'"
      ]
     },
     "execution_count": 28,
     "metadata": {},
     "output_type": "execute_result"
    }
   ],
   "source": [
    "s[0]"
   ]
  },
  {
   "cell_type": "code",
   "execution_count": 29,
   "id": "39bf1f2f-8e4b-48fb-aad6-375b776ff655",
   "metadata": {
    "tags": []
   },
   "outputs": [
    {
     "data": {
      "text/plain": [
       "'w'"
      ]
     },
     "execution_count": 29,
     "metadata": {},
     "output_type": "execute_result"
    }
   ],
   "source": [
    "s[6]"
   ]
  },
  {
   "cell_type": "code",
   "execution_count": 30,
   "id": "df017420-7053-4b4c-b7ef-fb3d527ca920",
   "metadata": {
    "tags": []
   },
   "outputs": [
    {
     "data": {
      "text/plain": [
       "'d'"
      ]
     },
     "execution_count": 30,
     "metadata": {},
     "output_type": "execute_result"
    }
   ],
   "source": [
    "s[-1]"
   ]
  },
  {
   "cell_type": "code",
   "execution_count": 31,
   "id": "75abed9a-55fb-4914-81c7-85eed8a92eb4",
   "metadata": {
    "tags": []
   },
   "outputs": [
    {
     "data": {
      "text/plain": [
       "'llo w'"
      ]
     },
     "execution_count": 31,
     "metadata": {},
     "output_type": "execute_result"
    }
   ],
   "source": [
    "s[2:7]"
   ]
  },
  {
   "cell_type": "code",
   "execution_count": 32,
   "id": "d675a8e1-e9d2-47b7-8d5a-4919a3a8fb22",
   "metadata": {
    "tags": []
   },
   "outputs": [
    {
     "data": {
      "text/plain": [
       "'Hello '"
      ]
     },
     "execution_count": 32,
     "metadata": {},
     "output_type": "execute_result"
    }
   ],
   "source": [
    "s[:6]"
   ]
  },
  {
   "cell_type": "code",
   "execution_count": 33,
   "id": "157209ea-d303-4462-b2d3-386e6ef565e0",
   "metadata": {
    "tags": []
   },
   "outputs": [
    {
     "data": {
      "text/plain": [
       "'world'"
      ]
     },
     "execution_count": 33,
     "metadata": {},
     "output_type": "execute_result"
    }
   ],
   "source": [
    "s[6:]"
   ]
  },
  {
   "cell_type": "code",
   "execution_count": 34,
   "id": "6bbea436-d538-4c90-8df0-2cb12a92ca86",
   "metadata": {
    "tags": []
   },
   "outputs": [
    {
     "data": {
      "text/plain": [
       "'ello'"
      ]
     },
     "execution_count": 34,
     "metadata": {},
     "output_type": "execute_result"
    }
   ],
   "source": [
    "s[1:5]"
   ]
  },
  {
   "cell_type": "code",
   "execution_count": 35,
   "id": "332c6201-b450-4919-a314-9522ee8e4648",
   "metadata": {
    "tags": []
   },
   "outputs": [
    {
     "data": {
      "text/plain": [
       "'el'"
      ]
     },
     "execution_count": 35,
     "metadata": {},
     "output_type": "execute_result"
    }
   ],
   "source": [
    "s[1:5:2]"
   ]
  },
  {
   "cell_type": "code",
   "execution_count": 36,
   "id": "0b80bc2b-695a-4870-a5c0-725f62122577",
   "metadata": {
    "tags": []
   },
   "outputs": [
    {
     "data": {
      "text/plain": [
       "'el ol'"
      ]
     },
     "execution_count": 36,
     "metadata": {},
     "output_type": "execute_result"
    }
   ],
   "source": [
    "s[1:10:2]"
   ]
  },
  {
   "cell_type": "code",
   "execution_count": 37,
   "id": "538e40b3-35c1-43be-ad2f-424a4321a599",
   "metadata": {
    "tags": []
   },
   "outputs": [
    {
     "data": {
      "text/plain": [
       "'Hlwl'"
      ]
     },
     "execution_count": 37,
     "metadata": {},
     "output_type": "execute_result"
    }
   ],
   "source": [
    "s[::3]"
   ]
  },
  {
   "cell_type": "code",
   "execution_count": 38,
   "id": "57abd704-71c4-418a-831c-45785c4ce195",
   "metadata": {
    "tags": []
   },
   "outputs": [
    {
     "data": {
      "text/plain": [
       "'dlrow olleH'"
      ]
     },
     "execution_count": 38,
     "metadata": {},
     "output_type": "execute_result"
    }
   ],
   "source": [
    "s[::-1]"
   ]
  },
  {
   "cell_type": "markdown",
   "id": "0c6ac658-f5a8-49a8-9b07-dadb43f6bd5b",
   "metadata": {},
   "source": [
    "# ФУНКЦИИ СТРОК"
   ]
  },
  {
   "cell_type": "code",
   "execution_count": 40,
   "id": "68a43e6d-1d0e-4c75-94af-f8859eff085f",
   "metadata": {
    "tags": []
   },
   "outputs": [],
   "source": [
    "# print('Filipp', sep=' ', end=',')\n",
    "s = 'фигня'"
   ]
  },
  {
   "cell_type": "code",
   "execution_count": 41,
   "id": "a5ffe398-9986-4811-8dfd-62fc55bde4fa",
   "metadata": {
    "tags": []
   },
   "outputs": [
    {
     "data": {
      "text/plain": [
       "5"
      ]
     },
     "execution_count": 41,
     "metadata": {},
     "output_type": "execute_result"
    }
   ],
   "source": [
    "len(s)"
   ]
  },
  {
   "cell_type": "code",
   "execution_count": 42,
   "id": "91cd091a-da9d-4a96-8da7-b8f0abb1eee5",
   "metadata": {
    "tags": []
   },
   "outputs": [
    {
     "data": {
      "text/plain": [
       "int"
      ]
     },
     "execution_count": 42,
     "metadata": {},
     "output_type": "execute_result"
    }
   ],
   "source": [
    "type(len(s))"
   ]
  },
  {
   "cell_type": "markdown",
   "id": "5042ee26-cb1f-48e8-b744-c1d4d01489ad",
   "metadata": {},
   "source": [
    "# len это длинна"
   ]
  },
  {
   "cell_type": "markdown",
   "id": "1fb9a73e-b2f9-4ff7-9710-6ffe16bdb58d",
   "metadata": {},
   "source": [
    "# строки"
   ]
  },
  {
   "cell_type": "code",
   "execution_count": 43,
   "id": "a1c4bdff-6f7e-4870-870a-62b5b64d08a0",
   "metadata": {
    "tags": []
   },
   "outputs": [],
   "source": [
    "len_str = len(s)"
   ]
  },
  {
   "cell_type": "code",
   "execution_count": 44,
   "id": "1a735cac-0924-4dc2-90bb-cf0e3074e67f",
   "metadata": {
    "tags": []
   },
   "outputs": [
    {
     "data": {
      "text/plain": [
       "25"
      ]
     },
     "execution_count": 44,
     "metadata": {},
     "output_type": "execute_result"
    }
   ],
   "source": [
    "len_str * 5"
   ]
  },
  {
   "cell_type": "code",
   "execution_count": 45,
   "id": "25800b51-6476-4d5d-b7e4-efdbd20a8886",
   "metadata": {
    "tags": []
   },
   "outputs": [
    {
     "data": {
      "text/plain": [
       "5.0"
      ]
     },
     "execution_count": 45,
     "metadata": {},
     "output_type": "execute_result"
    }
   ],
   "source": [
    "float(len_str)"
   ]
  },
  {
   "cell_type": "code",
   "execution_count": 46,
   "id": "05a842b9-d97f-48cb-9f65-bfbff6a3cc44",
   "metadata": {
    "tags": []
   },
   "outputs": [
    {
     "data": {
      "text/plain": [
       "'5'"
      ]
     },
     "execution_count": 46,
     "metadata": {},
     "output_type": "execute_result"
    }
   ],
   "source": [
    "str(len_str)"
   ]
  },
  {
   "cell_type": "markdown",
   "id": "5ecd84fd-aa9f-4ebd-be59-47630af45057",
   "metadata": {
    "jp-MarkdownHeadingCollapsed": true,
    "tags": []
   },
   "source": [
    "# методы"
   ]
  },
  {
   "cell_type": "markdown",
   "id": "84796df7-f594-49d7-8974-8d95d690dccc",
   "metadata": {
    "tags": []
   },
   "source": [
    "# строк"
   ]
  },
  {
   "cell_type": "code",
   "execution_count": 47,
   "id": "6ad995cf-601b-4fcc-ac45-75d405d46ae5",
   "metadata": {
    "tags": []
   },
   "outputs": [],
   "source": [
    "s = 'yhgdiuwrhyf834t8y3u9t8ugijeiepjeobijbiooeoonnnnnnonebnjggijbo'"
   ]
  },
  {
   "cell_type": "code",
   "execution_count": 48,
   "id": "101e9eb6-08b7-43c9-bdd8-4710cea59691",
   "metadata": {
    "tags": []
   },
   "outputs": [
    {
     "data": {
      "text/plain": [
       "5"
      ]
     },
     "execution_count": 48,
     "metadata": {},
     "output_type": "execute_result"
    }
   ],
   "source": [
    "s.count('j')"
   ]
  },
  {
   "cell_type": "code",
   "execution_count": 49,
   "id": "90897d44-43e1-480e-af80-761f14809969",
   "metadata": {
    "tags": []
   },
   "outputs": [],
   "source": [
    "res = s.count('j')"
   ]
  },
  {
   "cell_type": "code",
   "execution_count": 50,
   "id": "f0f01cc9-b4f8-46ce-8632-f48bccd88a88",
   "metadata": {
    "tags": []
   },
   "outputs": [
    {
     "data": {
      "text/plain": [
       "50"
      ]
     },
     "execution_count": 50,
     "metadata": {},
     "output_type": "execute_result"
    }
   ],
   "source": [
    "res * 10"
   ]
  },
  {
   "cell_type": "code",
   "execution_count": 51,
   "id": "1600b3f4-5b1a-44a0-a15e-45280fd3c375",
   "metadata": {
    "tags": []
   },
   "outputs": [
    {
     "data": {
      "text/plain": [
       "0"
      ]
     },
     "execution_count": 51,
     "metadata": {},
     "output_type": "execute_result"
    }
   ],
   "source": [
    "s.count(',')"
   ]
  },
  {
   "cell_type": "code",
   "execution_count": 52,
   "id": "fc208dfd-300c-4068-b21c-7259f382ab21",
   "metadata": {
    "tags": []
   },
   "outputs": [
    {
     "data": {
      "text/plain": [
       "8"
      ]
     },
     "execution_count": 52,
     "metadata": {},
     "output_type": "execute_result"
    }
   ],
   "source": [
    "s.count('n')"
   ]
  },
  {
   "cell_type": "code",
   "execution_count": 53,
   "id": "f2ae984c-06c8-40c4-8766-a4b05bf436da",
   "metadata": {
    "tags": []
   },
   "outputs": [
    {
     "data": {
      "text/plain": [
       "'YHGDIUWRHYF834T8Y3U9T8UGIJEIEPJEOBIJBIOOEOONNNNNNONEBNJGGIJBO'"
      ]
     },
     "execution_count": 53,
     "metadata": {},
     "output_type": "execute_result"
    }
   ],
   "source": [
    "s.upper()"
   ]
  },
  {
   "cell_type": "code",
   "execution_count": 54,
   "id": "d43a6f34-274d-496e-a05b-2e79c395c431",
   "metadata": {
    "tags": []
   },
   "outputs": [],
   "source": [
    "s = s.lower()"
   ]
  },
  {
   "cell_type": "code",
   "execution_count": 56,
   "id": "832cbf5f-a54d-43cd-93d0-25fc42f94f8f",
   "metadata": {
    "tags": []
   },
   "outputs": [
    {
     "data": {
      "text/plain": [
       "'Yhgdiuwrhyf834T8Y3U9T8Ugijeiepjeobijbiooeoonnnnnnonebnjggijbo'"
      ]
     },
     "execution_count": 56,
     "metadata": {},
     "output_type": "execute_result"
    }
   ],
   "source": [
    "s.title()"
   ]
  },
  {
   "cell_type": "code",
   "execution_count": 58,
   "id": "a41c69c5-e1f6-4813-b9ed-273231dceab5",
   "metadata": {
    "tags": []
   },
   "outputs": [
    {
     "data": {
      "text/plain": [
       "6"
      ]
     },
     "execution_count": 58,
     "metadata": {},
     "output_type": "execute_result"
    }
   ],
   "source": [
    "s.find('w')"
   ]
  },
  {
   "cell_type": "code",
   "execution_count": 59,
   "id": "b0e724b5-52d6-492f-a9d1-68b65baa3194",
   "metadata": {
    "tags": []
   },
   "outputs": [
    {
     "data": {
      "text/plain": [
       "26"
      ]
     },
     "execution_count": 59,
     "metadata": {},
     "output_type": "execute_result"
    }
   ],
   "source": [
    "s.find('e')"
   ]
  },
  {
   "cell_type": "code",
   "execution_count": 60,
   "id": "5d19d787-351a-45a8-bf09-41fe1d0ccb84",
   "metadata": {
    "tags": []
   },
   "outputs": [
    {
     "data": {
      "text/plain": [
       "False"
      ]
     },
     "execution_count": 60,
     "metadata": {},
     "output_type": "execute_result"
    }
   ],
   "source": [
    "s.isalpha()"
   ]
  },
  {
   "cell_type": "code",
   "execution_count": 61,
   "id": "d47b21b4-6700-4311-ad04-628133d95019",
   "metadata": {
    "tags": []
   },
   "outputs": [],
   "source": [
    "alpha_str = 'trdtyftygyugiuhiijjugytftedsresdjoijiug'"
   ]
  },
  {
   "cell_type": "code",
   "execution_count": 62,
   "id": "bd177a5c-c2e1-44a1-aadf-c2cc6712f9a2",
   "metadata": {
    "tags": []
   },
   "outputs": [
    {
     "data": {
      "text/plain": [
       "True"
      ]
     },
     "execution_count": 62,
     "metadata": {},
     "output_type": "execute_result"
    }
   ],
   "source": [
    "alpha_str.isalpha()"
   ]
  },
  {
   "cell_type": "code",
   "execution_count": 63,
   "id": "93c86564-d9c1-447e-b27f-1edcffcd6ec6",
   "metadata": {
    "tags": []
   },
   "outputs": [],
   "source": [
    "num_str = '12345678909876543234567'"
   ]
  },
  {
   "cell_type": "code",
   "execution_count": 64,
   "id": "d188839b-d9a6-4353-a6d9-db1d929b1f1b",
   "metadata": {
    "tags": []
   },
   "outputs": [
    {
     "data": {
      "text/plain": [
       "True"
      ]
     },
     "execution_count": 64,
     "metadata": {},
     "output_type": "execute_result"
    }
   ],
   "source": [
    "num_str.isdigit()"
   ]
  },
  {
   "cell_type": "code",
   "execution_count": 67,
   "id": "165994c4-f4c2-49e4-a50b-94b68de18662",
   "metadata": {
    "tags": []
   },
   "outputs": [],
   "source": [
    "s = 'qwerr.2342245,.,#### gy78u8i9o0t6'"
   ]
  },
  {
   "cell_type": "code",
   "execution_count": 68,
   "id": "9c1e28af-08e7-493e-99d4-991df7500f56",
   "metadata": {
    "tags": []
   },
   "outputs": [
    {
     "data": {
      "text/plain": [
       "['qwerr.2342245,.,####', 'gy78u8i9o0t6']"
      ]
     },
     "execution_count": 68,
     "metadata": {},
     "output_type": "execute_result"
    }
   ],
   "source": [
    "s.split()"
   ]
  },
  {
   "cell_type": "code",
   "execution_count": 69,
   "id": "5b43c97d-469a-4129-a54a-414c053af1a0",
   "metadata": {
    "tags": []
   },
   "outputs": [
    {
     "data": {
      "text/plain": [
       "['qwerr', '2342245,', ',#### gy78u8i9o0t6']"
      ]
     },
     "execution_count": 69,
     "metadata": {},
     "output_type": "execute_result"
    }
   ],
   "source": [
    "s.split('.')"
   ]
  },
  {
   "cell_type": "code",
   "execution_count": 70,
   "id": "50e6bd87-3365-4d2c-96bc-262db6657546",
   "metadata": {
    "tags": []
   },
   "outputs": [
    {
     "data": {
      "text/plain": [
       "list"
      ]
     },
     "execution_count": 70,
     "metadata": {},
     "output_type": "execute_result"
    }
   ],
   "source": [
    "type(s.split('.'))"
   ]
  },
  {
   "cell_type": "markdown",
   "id": "29f6aa01-f536-4c28-ab32-5c97e53520ed",
   "metadata": {},
   "source": [
    "# списки"
   ]
  },
  {
   "cell_type": "code",
   "execution_count": 71,
   "id": "21a50d93-9510-403f-9349-7c8988dbafe7",
   "metadata": {
    "tags": []
   },
   "outputs": [],
   "source": [
    "l = []"
   ]
  },
  {
   "cell_type": "code",
   "execution_count": 72,
   "id": "d4701385-5024-4c4f-b173-2c6ffee41754",
   "metadata": {
    "tags": []
   },
   "outputs": [
    {
     "data": {
      "text/plain": [
       "[]"
      ]
     },
     "execution_count": 72,
     "metadata": {},
     "output_type": "execute_result"
    }
   ],
   "source": [
    "l"
   ]
  },
  {
   "cell_type": "code",
   "execution_count": 73,
   "id": "97fa0600-acc5-46bf-bccc-7d729fd432c5",
   "metadata": {
    "tags": []
   },
   "outputs": [
    {
     "data": {
      "text/plain": [
       "list"
      ]
     },
     "execution_count": 73,
     "metadata": {},
     "output_type": "execute_result"
    }
   ],
   "source": [
    "type(l)"
   ]
  },
  {
   "cell_type": "code",
   "execution_count": 74,
   "id": "dd9cf74a-dd10-40a4-89f9-b8546db90092",
   "metadata": {
    "tags": []
   },
   "outputs": [],
   "source": [
    "l2 = list()"
   ]
  },
  {
   "cell_type": "code",
   "execution_count": 75,
   "id": "5f9e5e84-f32e-496d-9568-ba1654d242ae",
   "metadata": {
    "tags": []
   },
   "outputs": [
    {
     "data": {
      "text/plain": [
       "list"
      ]
     },
     "execution_count": 75,
     "metadata": {},
     "output_type": "execute_result"
    }
   ],
   "source": [
    "type(l2)"
   ]
  },
  {
   "cell_type": "code",
   "execution_count": 78,
   "id": "7189e4f2-05e0-4e0d-b4bc-aa9da07c7d3b",
   "metadata": {
    "tags": []
   },
   "outputs": [
    {
     "data": {
      "text/plain": [
       "[0, 1, 1, 2, 3, 5, 8, 13]"
      ]
     },
     "execution_count": 78,
     "metadata": {},
     "output_type": "execute_result"
    }
   ],
   "source": [
    "l_fib = [0, 1, 1, 2, 3, 5, 8, 13]\n",
    "l_fib"
   ]
  },
  {
   "cell_type": "code",
   "execution_count": 79,
   "id": "aa9b0929-4cc0-4744-817e-64e24e7ba733",
   "metadata": {
    "tags": []
   },
   "outputs": [
    {
     "data": {
      "text/plain": [
       "[0.1, 0.2, 0.3]"
      ]
     },
     "execution_count": 79,
     "metadata": {},
     "output_type": "execute_result"
    }
   ],
   "source": [
    "l_float = [0.1, 0.2, 0.3]\n",
    "l_float"
   ]
  },
  {
   "cell_type": "code",
   "execution_count": 80,
   "id": "9643db16-e9bc-4a3d-904a-407e9931aa89",
   "metadata": {
    "tags": []
   },
   "outputs": [
    {
     "data": {
      "text/plain": [
       "['фигня', 'херня', 'жопа']"
      ]
     },
     "execution_count": 80,
     "metadata": {},
     "output_type": "execute_result"
    }
   ],
   "source": [
    "l_str = ['фигня', 'херня', 'жопа']\n",
    "l_str"
   ]
  },
  {
   "cell_type": "code",
   "execution_count": 81,
   "id": "8769bca1-3a7d-4c0f-8046-af2e7b7bc968",
   "metadata": {
    "tags": []
   },
   "outputs": [
    {
     "data": {
      "text/plain": [
       "[True, False, True, False]"
      ]
     },
     "execution_count": 81,
     "metadata": {},
     "output_type": "execute_result"
    }
   ],
   "source": [
    "l_bool = [True, False, True, False]\n",
    "l_bool"
   ]
  },
  {
   "cell_type": "code",
   "execution_count": 82,
   "id": "a4130173-9e87-43bc-9c71-529fe8375bde",
   "metadata": {
    "tags": []
   },
   "outputs": [
    {
     "name": "stdout",
     "output_type": "stream",
     "text": [
      "привет мир\n",
      "как дела\n",
      "'Вася сказал!'- 'привет Маша'\n"
     ]
    }
   ],
   "source": [
    "st1 = 'привет мир'\n",
    "st2 = 'как дела'\n",
    "print(st1)\n",
    "print(st2)\n",
    "\n",
    "st3 = \"'Вася сказал!'- 'привет Маша'\"\n",
    "print(st3)"
   ]
  },
  {
   "cell_type": "code",
   "execution_count": 83,
   "id": "61e951d6-6860-4033-8e80-6ccf063d87af",
   "metadata": {
    "tags": []
   },
   "outputs": [
    {
     "name": "stdin",
     "output_type": "stream",
     "text": [
      "Введите число 1000:  1000\n"
     ]
    },
    {
     "name": "stdout",
     "output_type": "stream",
     "text": [
      "Итоговое значение: 233168\n"
     ]
    }
   ],
   "source": [
    "t1 = int(input('Введите число 1000: '))\n",
    "t1 -= 1         # t1 = t1 - 1\n",
    "t2 = 0\n",
    "while t1 != 0:\n",
    "    if (t1 % 3 == 0) or (t1 % 5 == 0):\n",
    "        t2 += t1        # t2 = t2 + t1\n",
    "    t1 -= 1             # t1 = t1 -1\n",
    "print('Итоговое значение:', t2)\n",
    "\n",
    "# проверяем на примере 10, должна получиться сумма 23"
   ]
  },
  {
   "cell_type": "code",
   "execution_count": 84,
   "id": "0cc85674-cec4-453a-801d-d36d2fd280b3",
   "metadata": {
    "tags": []
   },
   "outputs": [
    {
     "data": {
      "text/plain": [
       "[42, True, 'хрень', 3.5]"
      ]
     },
     "execution_count": 84,
     "metadata": {},
     "output_type": "execute_result"
    }
   ],
   "source": [
    "l_mix = [42, True, 'хрень', 3.50]\n",
    "l_mix"
   ]
  },
  {
   "cell_type": "code",
   "execution_count": 86,
   "id": "a765e83e-4cbf-440c-a70e-c7621c13ea98",
   "metadata": {
    "tags": []
   },
   "outputs": [
    {
     "data": {
      "text/plain": [
       "'хрень'"
      ]
     },
     "execution_count": 86,
     "metadata": {},
     "output_type": "execute_result"
    }
   ],
   "source": [
    "l_mix[2]"
   ]
  },
  {
   "cell_type": "code",
   "execution_count": 87,
   "id": "67346d52-6c20-4dfb-a3fe-5b144eb6701c",
   "metadata": {
    "tags": []
   },
   "outputs": [
    {
     "data": {
      "text/plain": [
       "3.5"
      ]
     },
     "execution_count": 87,
     "metadata": {},
     "output_type": "execute_result"
    }
   ],
   "source": [
    "l_mix[3]"
   ]
  },
  {
   "cell_type": "code",
   "execution_count": 89,
   "id": "5743a373-0026-4d47-b789-a10ae34b1f08",
   "metadata": {
    "tags": []
   },
   "outputs": [
    {
     "data": {
      "text/plain": [
       "3.5"
      ]
     },
     "execution_count": 89,
     "metadata": {},
     "output_type": "execute_result"
    }
   ],
   "source": [
    "l_mix[-1]"
   ]
  },
  {
   "cell_type": "code",
   "execution_count": 90,
   "id": "1413807d-6bc6-424c-9ccf-c28d9fda5e99",
   "metadata": {
    "tags": []
   },
   "outputs": [
    {
     "data": {
      "text/plain": [
       "True"
      ]
     },
     "execution_count": 90,
     "metadata": {},
     "output_type": "execute_result"
    }
   ],
   "source": [
    "l_mix[1]"
   ]
  },
  {
   "cell_type": "code",
   "execution_count": 91,
   "id": "24fedfeb-e63d-4ec1-b1e7-64d9b2f0baff",
   "metadata": {
    "tags": []
   },
   "outputs": [
    {
     "data": {
      "text/plain": [
       "42"
      ]
     },
     "execution_count": 91,
     "metadata": {},
     "output_type": "execute_result"
    }
   ],
   "source": [
    "l_mix[0]"
   ]
  },
  {
   "cell_type": "code",
   "execution_count": 92,
   "id": "47c7f3d6-cb6c-492a-a81d-f6315856bfa6",
   "metadata": {
    "tags": []
   },
   "outputs": [
    {
     "data": {
      "text/plain": [
       "'хрень'"
      ]
     },
     "execution_count": 92,
     "metadata": {},
     "output_type": "execute_result"
    }
   ],
   "source": [
    "l_mix[-2]"
   ]
  },
  {
   "cell_type": "code",
   "execution_count": 93,
   "id": "bf0f8bf4-350b-4abe-837b-f81e86e8cee3",
   "metadata": {
    "tags": []
   },
   "outputs": [
    {
     "data": {
      "text/plain": [
       "True"
      ]
     },
     "execution_count": 93,
     "metadata": {},
     "output_type": "execute_result"
    }
   ],
   "source": [
    "l_mix[-3]"
   ]
  },
  {
   "cell_type": "code",
   "execution_count": 94,
   "id": "1d8560c9-aa1a-48d1-93e9-07a2a2d4f4ce",
   "metadata": {
    "tags": []
   },
   "outputs": [
    {
     "data": {
      "text/plain": [
       "[42, True, 'хрень', 3.5]"
      ]
     },
     "execution_count": 94,
     "metadata": {},
     "output_type": "execute_result"
    }
   ],
   "source": [
    "l_mix[0:]"
   ]
  },
  {
   "cell_type": "code",
   "execution_count": 95,
   "id": "4144151f-e56c-49ef-a27f-f16c734cdced",
   "metadata": {
    "tags": []
   },
   "outputs": [
    {
     "data": {
      "text/plain": [
       "[42, True, 'хрень', 3.5]"
      ]
     },
     "execution_count": 95,
     "metadata": {},
     "output_type": "execute_result"
    }
   ],
   "source": [
    "l_mix[:]"
   ]
  },
  {
   "cell_type": "code",
   "execution_count": 2,
   "id": "837d6b27-504a-4150-93bd-5707e9556f66",
   "metadata": {
    "tags": []
   },
   "outputs": [
    {
     "name": "stdout",
     "output_type": "stream",
     "text": [
      "Этот текст выводим\n"
     ]
    }
   ],
   "source": [
    "my_message = \"Этот текст выводим\"\n",
    "print(my_message)"
   ]
  },
  {
   "cell_type": "code",
   "execution_count": 3,
   "id": "b27a8b21-70fc-41b5-ab46-7c1404deacd7",
   "metadata": {
    "tags": []
   },
   "outputs": [
    {
     "name": "stdout",
     "output_type": "stream",
     "text": [
      "Привет меня зовут Иван\n"
     ]
    }
   ],
   "source": [
    "print(\"Привет\" , \"меня зовут\" , \"Иван\")"
   ]
  },
  {
   "cell_type": "code",
   "execution_count": 4,
   "id": "f8ea5c6d-a0d8-4296-aa83-7fdf5cd600da",
   "metadata": {
    "tags": []
   },
   "outputs": [
    {
     "name": "stdout",
     "output_type": "stream",
     "text": [
      "15\n",
      "21 120\n",
      "65536\n",
      "12.333333333333334\n",
      "12\n",
      "1\n"
     ]
    }
   ],
   "source": [
    "print(5 + 10)\n",
    "print(3 * 7, (17 - 2) * 8)\n",
    "print(2 ** 16)  # две звёздочки означают возведение в степень\n",
    "print(37 / 3)  # один слэш — это деление с ответом-дробью\n",
    "print(37 // 3)  # два слэша считают частное от деления нацело\n",
    "                # это как операция div в других языках\n",
    "print(37 % 3) "
   ]
  },
  {
   "cell_type": "code",
   "execution_count": 5,
   "id": "8b360df5-413f-45a8-a634-b58e18dd4911",
   "metadata": {
    "tags": []
   },
   "outputs": [
    {
     "name": "stdout",
     "output_type": "stream",
     "text": [
      "Как вас зовут?\n"
     ]
    },
    {
     "name": "stdin",
     "output_type": "stream",
     "text": [
      " fefewfff\n"
     ]
    },
    {
     "name": "stdout",
     "output_type": "stream",
     "text": [
      "Здравствуйте, fefewfff!\n"
     ]
    }
   ],
   "source": [
    "print('Как вас зовут?')\n",
    "name = input()  # считываем строку и кладём её в переменную name\n",
    "print('Здравствуйте, ' + name + '!')"
   ]
  },
  {
   "cell_type": "code",
   "execution_count": 6,
   "id": "46621a1d-0c0f-4b29-8d56-ab21b371eab3",
   "metadata": {
    "tags": []
   },
   "outputs": [
    {
     "name": "stdin",
     "output_type": "stream",
     "text": [
      " 4\n",
      " 6\n"
     ]
    },
    {
     "name": "stdout",
     "output_type": "stream",
     "text": [
      "46\n"
     ]
    }
   ],
   "source": [
    "a = input()\n",
    "b = input()\n",
    "s = a + b\n",
    "print(s)"
   ]
  },
  {
   "cell_type": "code",
   "execution_count": null,
   "id": "65f81a53-7a41-45c1-9997-6d36f734462c",
   "metadata": {},
   "outputs": [],
   "source": []
  }
 ],
 "metadata": {
  "kernelspec": {
   "display_name": "Python 3 (ipykernel)",
   "language": "python",
   "name": "python3"
  },
  "language_info": {
   "codemirror_mode": {
    "name": "ipython",
    "version": 3
   },
   "file_extension": ".py",
   "mimetype": "text/x-python",
   "name": "python",
   "nbconvert_exporter": "python",
   "pygments_lexer": "ipython3",
   "version": "3.11.5"
  }
 },
 "nbformat": 4,
 "nbformat_minor": 5
}
