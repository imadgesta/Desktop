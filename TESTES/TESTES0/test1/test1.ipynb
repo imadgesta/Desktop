{
 "cells": [
  {
   "cell_type": "markdown",
   "id": "8d61048b-d446-4507-83ae-f49a0b9e633f",
   "metadata": {
    "tags": []
   },
   "source": [
    "# Header 1"
   ]
  },
  {
   "cell_type": "markdown",
   "id": "2e7bc08a-a12a-4774-b628-d1891e6cb807",
   "metadata": {
    "tags": []
   },
   "source": [
    "# Header 1.1"
   ]
  },
  {
   "cell_type": "markdown",
   "id": "3166de37-3cb6-4489-a77a-7fcdf2d24530",
   "metadata": {
    "tags": []
   },
   "source": [
    "## Header 2"
   ]
  },
  {
   "cell_type": "markdown",
   "id": "3bd1c88d-05f9-4416-8c20-93def7144493",
   "metadata": {},
   "source": [
    "**test**"
   ]
  },
  {
   "cell_type": "markdown",
   "id": "4d1ff5cb-8be5-48be-9b1f-b08645c7cd0a",
   "metadata": {},
   "source": [
    "*test*"
   ]
  },
  {
   "cell_type": "markdown",
   "id": "ec22328c-d136-4b44-914e-c7a8baf5939e",
   "metadata": {},
   "source": [
    "~test~"
   ]
  },
  {
   "cell_type": "markdown",
   "id": "b589f1c3-8aa4-420c-a767-7747fc52e1e0",
   "metadata": {
    "tags": []
   },
   "source": [
    "### Header 3"
   ]
  },
  {
   "cell_type": "markdown",
   "id": "67ab2855-f21a-4655-9e1a-efb8647ebcba",
   "metadata": {},
   "source": [
    "#### Header 4\n"
   ]
  },
  {
   "cell_type": "markdown",
   "id": "75fb1de0-1d00-42d2-8e2d-bc0c48bc6fff",
   "metadata": {},
   "source": [
    "- яблоко\n",
    "- ананас\n",
    "- персик"
   ]
  },
  {
   "cell_type": "markdown",
   "id": "0ab94f5e-81cc-4258-b8c1-f568398a1e98",
   "metadata": {},
   "source": [
    "1. milk\n",
    "2. onion\n",
    "3. lemon"
   ]
  },
  {
   "cell_type": "code",
   "execution_count": 2,
   "id": "2a3aa94d-3ec2-4752-b0d6-420b4df4f7e6",
   "metadata": {
    "tags": []
   },
   "outputs": [],
   "source": [
    "# коментарии"
   ]
  },
  {
   "cell_type": "markdown",
   "id": "b12c5cda-e1ca-4e47-9d28-a9b28163aaf8",
   "metadata": {},
   "source": [
    "string<br>string"
   ]
  },
  {
   "cell_type": "code",
   "execution_count": 3,
   "id": "e06c34b1-a53d-47bd-8a2c-55719e5bd4c5",
   "metadata": {
    "tags": []
   },
   "outputs": [],
   "source": [
    "# comment\n"
   ]
  },
  {
   "cell_type": "code",
   "execution_count": 4,
   "id": "d94eebe5-cb94-4eb0-9716-94896a19f359",
   "metadata": {
    "tags": []
   },
   "outputs": [
    {
     "data": {
      "text/plain": [
       "27"
      ]
     },
     "execution_count": 4,
     "metadata": {},
     "output_type": "execute_result"
    }
   ],
   "source": [
    "3 ** 3"
   ]
  },
  {
   "cell_type": "code",
   "execution_count": 5,
   "id": "7b28b14b-7276-4020-8707-667d716bd034",
   "metadata": {
    "tags": []
   },
   "outputs": [
    {
     "data": {
      "text/plain": [
       "3.0"
      ]
     },
     "execution_count": 5,
     "metadata": {},
     "output_type": "execute_result"
    }
   ],
   "source": [
    "27 ** (1/3)"
   ]
  },
  {
   "cell_type": "code",
   "execution_count": 6,
   "id": "13e348cb-588b-4529-bce2-708518881785",
   "metadata": {
    "tags": []
   },
   "outputs": [
    {
     "data": {
      "text/plain": [
       "2.080083823051904"
      ]
     },
     "execution_count": 6,
     "metadata": {},
     "output_type": "execute_result"
    }
   ],
   "source": [
    "9 ** (1/3)"
   ]
  },
  {
   "cell_type": "code",
   "execution_count": 7,
   "id": "a23faef2-01b7-4889-afe4-947d82080bee",
   "metadata": {
    "tags": []
   },
   "outputs": [
    {
     "data": {
      "text/plain": [
       "3125"
      ]
     },
     "execution_count": 7,
     "metadata": {},
     "output_type": "execute_result"
    }
   ],
   "source": [
    "5 ** 5"
   ]
  },
  {
   "cell_type": "code",
   "execution_count": 8,
   "id": "24ba2330-eba5-4dec-9f06-60927b69bfdb",
   "metadata": {
    "tags": []
   },
   "outputs": [
    {
     "data": {
      "text/plain": [
       "5.000000000000001"
      ]
     },
     "execution_count": 8,
     "metadata": {},
     "output_type": "execute_result"
    }
   ],
   "source": [
    "3125 ** (1/5)"
   ]
  },
  {
   "cell_type": "code",
   "execution_count": 9,
   "id": "5b88a553-45bb-45bc-9247-ffd863c6dcc9",
   "metadata": {
    "tags": []
   },
   "outputs": [
    {
     "data": {
      "text/plain": [
       "5"
      ]
     },
     "execution_count": 9,
     "metadata": {},
     "output_type": "execute_result"
    }
   ],
   "source": [
    "round(5.000000000000001)"
   ]
  },
  {
   "cell_type": "code",
   "execution_count": 12,
   "id": "f019fc44-d941-4d0e-b1c5-8eb5d75604b2",
   "metadata": {
    "tags": []
   },
   "outputs": [],
   "source": [
    "from math import ceil, floor"
   ]
  },
  {
   "cell_type": "markdown",
   "id": "dcf2acb3-f89c-4eb6-8b30-6288062cd7c3",
   "metadata": {},
   "source": [
    "# функция округления вниз"
   ]
  },
  {
   "cell_type": "code",
   "execution_count": 13,
   "id": "f47150a6-40af-4469-99e7-8e4d2dc96dda",
   "metadata": {
    "tags": []
   },
   "outputs": [
    {
     "data": {
      "text/plain": [
       "5"
      ]
     },
     "execution_count": 13,
     "metadata": {},
     "output_type": "execute_result"
    }
   ],
   "source": [
    "floor(5.6)"
   ]
  },
  {
   "cell_type": "markdown",
   "id": "0008196a-407f-44b0-966c-9f3836b94e86",
   "metadata": {},
   "source": [
    "# функция округления вверх"
   ]
  },
  {
   "cell_type": "code",
   "execution_count": 14,
   "id": "ad738a42-bb39-4eed-8073-59903bf9f319",
   "metadata": {
    "tags": []
   },
   "outputs": [
    {
     "data": {
      "text/plain": [
       "6"
      ]
     },
     "execution_count": 14,
     "metadata": {},
     "output_type": "execute_result"
    }
   ],
   "source": [
    "ceil(5.6)"
   ]
  },
  {
   "cell_type": "code",
   "execution_count": 15,
   "id": "2bb6507b-8352-4811-88ba-3bbb2d84e068",
   "metadata": {
    "tags": []
   },
   "outputs": [],
   "source": [
    "from math import *"
   ]
  },
  {
   "cell_type": "code",
   "execution_count": 16,
   "id": "092067cc-84e8-4dae-95c3-fa3e81eb4aa1",
   "metadata": {
    "tags": []
   },
   "outputs": [
    {
     "data": {
      "text/plain": [
       "5"
      ]
     },
     "execution_count": 16,
     "metadata": {},
     "output_type": "execute_result"
    }
   ],
   "source": [
    "int(5.79877077088800)"
   ]
  },
  {
   "cell_type": "code",
   "execution_count": 17,
   "id": "ff1a3fce-a0b5-4b27-ba7b-2120233002e8",
   "metadata": {
    "tags": []
   },
   "outputs": [
    {
     "data": {
      "text/plain": [
       "5.0"
      ]
     },
     "execution_count": 17,
     "metadata": {},
     "output_type": "execute_result"
    }
   ],
   "source": [
    "float(5)"
   ]
  },
  {
   "cell_type": "code",
   "execution_count": 18,
   "id": "cb525650-fa9f-432c-a13e-4dd4f4999bae",
   "metadata": {
    "tags": []
   },
   "outputs": [
    {
     "data": {
      "text/plain": [
       "7.888609052210118e-31"
      ]
     },
     "execution_count": 18,
     "metadata": {},
     "output_type": "execute_result"
    }
   ],
   "source": [
    "0.5 ** 100"
   ]
  },
  {
   "cell_type": "code",
   "execution_count": null,
   "id": "69283c0a-af22-4ef9-b990-db81bd7d458c",
   "metadata": {},
   "outputs": [],
   "source": []
  }
 ],
 "metadata": {
  "kernelspec": {
   "display_name": "Python 3 (ipykernel)",
   "language": "python",
   "name": "python3"
  },
  "language_info": {
   "codemirror_mode": {
    "name": "ipython",
    "version": 3
   },
   "file_extension": ".py",
   "mimetype": "text/x-python",
   "name": "python",
   "nbconvert_exporter": "python",
   "pygments_lexer": "ipython3",
   "version": "3.11.5"
  }
 },
 "nbformat": 4,
 "nbformat_minor": 5
}
