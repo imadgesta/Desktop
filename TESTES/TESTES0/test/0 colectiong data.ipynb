{
 "cells": [
  {
   "cell_type": "code",
   "execution_count": null,
   "id": "0782de83-599e-4fb0-90b0-a31d92cec8dd",
   "metadata": {},
   "outputs": [],
   "source": []
  },
  {
   "cell_type": "code",
   "execution_count": null,
   "id": "e4de9a75-cb76-4c72-9f31-105ce4b1e9dd",
   "metadata": {},
   "outputs": [],
   "source": []
  },
  {
   "cell_type": "code",
   "execution_count": 23,
   "id": "f37134b3-9d2c-4486-beb7-582739112e7e",
   "metadata": {
    "tags": []
   },
   "outputs": [
    {
     "name": "stdout",
     "output_type": "stream",
     "text": [
      "aa///bb///OOd e f\n"
     ]
    }
   ],
   "source": [
    "print('aa', 'bb', 'OO', sep=\"///\", end=\"\")\n",
    "print('d', 'e', 'f')"
   ]
  },
  {
   "cell_type": "markdown",
   "id": "108fa54b-5cae-48f9-8d18-f8aba0c0cd80",
   "metadata": {},
   "source": [
    "# параметр sep"
   ]
  },
  {
   "cell_type": "code",
   "execution_count": 4,
   "id": "064ef137-1f1e-4b0f-aed4-652930a1d6c0",
   "metadata": {
    "tags": []
   },
   "outputs": [
    {
     "name": "stdout",
     "output_type": "stream",
     "text": [
      "a b c\n",
      "d e f\n"
     ]
    }
   ],
   "source": [
    "print('a', 'b', 'c')\n",
    "print('d', 'e', 'f')"
   ]
  },
  {
   "cell_type": "code",
   "execution_count": 6,
   "id": "0f4d9c95-b621-46bc-8677-50a51b475db9",
   "metadata": {
    "tags": []
   },
   "outputs": [
    {
     "name": "stdout",
     "output_type": "stream",
     "text": [
      "a*b*c\n",
      "d**e**f\n"
     ]
    }
   ],
   "source": [
    "print('a', 'b', 'c', sep='*')\n",
    "print('d', 'e', 'f', sep='**')"
   ]
  },
  {
   "cell_type": "code",
   "execution_count": null,
   "id": "c698247f-8de1-4191-bd7d-80e5e4cd6c39",
   "metadata": {},
   "outputs": [],
   "source": [
    "# sep =  separator, разделитель"
   ]
  },
  {
   "cell_type": "markdown",
   "id": "45f5054f-421b-43e7-99b0-022e5134a43a",
   "metadata": {},
   "source": [
    "# параметр end"
   ]
  },
  {
   "cell_type": "code",
   "execution_count": 7,
   "id": "ff70617c-30e9-4b20-8806-0975c57a203b",
   "metadata": {
    "tags": []
   },
   "outputs": [
    {
     "name": "stdout",
     "output_type": "stream",
     "text": [
      "a b c*d e f**"
     ]
    }
   ],
   "source": [
    "print('a', 'b', 'c', end='*')\n",
    "print('d', 'e', 'f', end='**')"
   ]
  },
  {
   "cell_type": "code",
   "execution_count": 8,
   "id": "1dca5f5f-3cc5-4b6b-85e2-f409598457ad",
   "metadata": {
    "tags": []
   },
   "outputs": [
    {
     "name": "stdout",
     "output_type": "stream",
     "text": [
      "a b c@##d e f@@@###"
     ]
    }
   ],
   "source": [
    "print('a', 'b', 'c', end='@##')\n",
    "print('d', 'e', 'f', end='@@@###')"
   ]
  },
  {
   "cell_type": "code",
   "execution_count": 9,
   "id": "d0b7f638-2913-460e-9b1d-f7b194f0c719",
   "metadata": {
    "tags": []
   },
   "outputs": [],
   "source": [
    "# end =  end, конец"
   ]
  },
  {
   "cell_type": "code",
   "execution_count": null,
   "id": "46dd3c51-99ee-4515-b5e2-47ec8202be71",
   "metadata": {},
   "outputs": [],
   "source": [
    "# по завершении первой печати вставлена строка @##\n",
    "# по завершении второй печати вставлена строка @@###"
   ]
  },
  {
   "cell_type": "code",
   "execution_count": null,
   "id": "9d9cba9f-f80d-4542-9658-836a8bb29d6b",
   "metadata": {},
   "outputs": [],
   "source": [
    "sep = ' '   # пробел\n",
    "end = '\\n'  # перевод строки"
   ]
  },
  {
   "cell_type": "code",
   "execution_count": 10,
   "id": "ea4dd7a7-88e2-4acb-ae94-460dae17f5a3",
   "metadata": {
    "tags": []
   },
   "outputs": [
    {
     "name": "stdout",
     "output_type": "stream",
     "text": [
      "abc"
     ]
    }
   ],
   "source": [
    "print('a', 'b', 'c', sep='', end='')"
   ]
  },
  {
   "cell_type": "code",
   "execution_count": 12,
   "id": "8a30fb50-0874-479d-adcb-869c1dd02214",
   "metadata": {
    "tags": []
   },
   "outputs": [
    {
     "name": "stdout",
     "output_type": "stream",
     "text": [
      "a!!!b!!!c$$$"
     ]
    }
   ],
   "source": [
    "print('a', 'b', 'c', sep='!!!', end='$$$')"
   ]
  },
  {
   "cell_type": "code",
   "execution_count": 13,
   "id": "08b76089-fad2-4395-b69e-9af751526292",
   "metadata": {
    "tags": []
   },
   "outputs": [
    {
     "name": "stdout",
     "output_type": "stream",
     "text": [
      "A!!!B!!!C$$$"
     ]
    }
   ],
   "source": [
    "print('A', 'B', 'C', sep='!!!', end='$$$')"
   ]
  },
  {
   "cell_type": "code",
   "execution_count": 14,
   "id": "8ae63993-57a8-494e-891b-4b0f6357915b",
   "metadata": {
    "tags": []
   },
   "outputs": [
    {
     "name": "stdout",
     "output_type": "stream",
     "text": [
      "31---12---2019Дата"
     ]
    }
   ],
   "source": [
    "print('31', '12', '2019', sep='---', end='Дата')"
   ]
  },
  {
   "cell_type": "code",
   "execution_count": 15,
   "id": "e362173b-ffb2-4e5d-af39-80fe0173ff7a",
   "metadata": {
    "tags": []
   },
   "outputs": [
    {
     "name": "stdout",
     "output_type": "stream",
     "text": [
      "Mars**Jupiter?"
     ]
    }
   ],
   "source": [
    "print('Mars', 'Jupiter', sep='**', end='?')"
   ]
  },
  {
   "cell_type": "code",
   "execution_count": 16,
   "id": "c1246989-f231-4ee0-bcc7-66b7d999e9f2",
   "metadata": {
    "tags": []
   },
   "outputs": [
    {
     "name": "stdout",
     "output_type": "stream",
     "text": [
      "Mars      Jupiter?"
     ]
    }
   ],
   "source": [
    "print('Mars', 'Jupiter', sep='      ', end='?')"
   ]
  },
  {
   "cell_type": "code",
   "execution_count": 17,
   "id": "d68f7d29-323c-4b43-9e0d-666b11de25ae",
   "metadata": {
    "tags": []
   },
   "outputs": [
    {
     "name": "stdout",
     "output_type": "stream",
     "text": [
      "Mars   Jupiter   ?   "
     ]
    }
   ],
   "source": [
    "print('Mars', 'Jupiter', sep='   ', end='   ?   ')"
   ]
  },
  {
   "cell_type": "code",
   "execution_count": 18,
   "id": "323c4add-5196-46a1-aeae-47a0ef7a6da9",
   "metadata": {
    "tags": []
   },
   "outputs": [
    {
     "name": "stdout",
     "output_type": "stream",
     "text": [
      "Mars,   Jupiter?   "
     ]
    }
   ],
   "source": [
    "print('Mars', 'Jupiter', sep=',   ', end='?   ')"
   ]
  },
  {
   "cell_type": "code",
   "execution_count": 19,
   "id": "ea978ffb-51f4-4033-8467-8bf270f0b4ae",
   "metadata": {
    "tags": []
   },
   "outputs": [
    {
     "name": "stdout",
     "output_type": "stream",
     "text": [
      "Mars  ,  Jupiter  ?  "
     ]
    }
   ],
   "source": [
    "print('Mars', 'Jupiter', sep='  ,  ', end='  ?  ')"
   ]
  },
  {
   "cell_type": "code",
   "execution_count": 21,
   "id": "d1d4c931-71d5-451a-91a9-004fafc65ecb",
   "metadata": {
    "tags": []
   },
   "outputs": [
    {
     "name": "stdout",
     "output_type": "stream",
     "text": [
      "*\n",
      "Раз\n",
      "Два\n",
      "Три\n"
     ]
    }
   ],
   "source": [
    "print(\"*\")\n",
    "print('Раз')\n",
    "print('Два')\n",
    "print('Три')"
   ]
  },
  {
   "cell_type": "markdown",
   "id": "cfa1595c-604a-428d-b42c-ee453577cc22",
   "metadata": {},
   "source": [
    "# Компьютерная программа"
   ]
  },
  {
   "cell_type": "code",
   "execution_count": null,
   "id": "63c4c1c9-5d2b-4a38-bc53-c406fda11ff8",
   "metadata": {},
   "outputs": [],
   "source": [
    "Компьютерная программа – это список инструкций для компьютера. \n",
    "Инструкции могут быть абсолютно произвольными:\n",
    "считать информацию с клавиатуры\n",
    "произвести арифметические вычисления (+, -, *, /)\n",
    "вывести информацию на экран\n"
   ]
  },
  {
   "cell_type": "markdown",
   "id": "6052859d-2849-46c7-86b8-8c02e1955aa3",
   "metadata": {
    "tags": []
   },
   "source": [
    "# Язык программирования"
   ]
  },
  {
   "cell_type": "code",
   "execution_count": null,
   "id": "d5e12e65-0daa-4810-86a4-8f9cd7d8f9c1",
   "metadata": {},
   "outputs": [],
   "source": [
    "Язык программирования – набор определенных правил, \n",
    "согласно которым компьютер может понимать инструкции \n",
    "и выполнять их. \n",
    "Текст программы называется программным кодом.\n",
    "Python\n",
    "C/C++\n",
    "C#\n",
    "Java\n",
    "PHP\n",
    "Ruby "
   ]
  },
  {
   "cell_type": "markdown",
   "id": "0a57cae6-3494-41cb-916f-ae276a39e9ff",
   "metadata": {
    "tags": []
   },
   "source": [
    "# Компилируемые"
   ]
  },
  {
   "cell_type": "code",
   "execution_count": null,
   "id": "d8b4aa69-aa7c-4920-9d3a-4b7557413229",
   "metadata": {},
   "outputs": [],
   "source": [
    "# Если программа написана на компилируемом языке, \n",
    "то перед выполнением ее нужно проверить на наличие синтаксических ошибок \n",
    "и уже после этого перевести в понятную для компьютера форму – машинный код"
   ]
  },
  {
   "cell_type": "markdown",
   "id": "b0060f27-4748-4c43-acbe-5c55eda8a163",
   "metadata": {},
   "source": [
    "# Интерпретируемые"
   ]
  },
  {
   "cell_type": "code",
   "execution_count": null,
   "id": "6f6faf96-c29b-48e0-a540-310c8a8ba059",
   "metadata": {},
   "outputs": [],
   "source": [
    "# Если программа написана на интерпретируемом языке, \n",
    "она не переводится целиком в машинный код, \n",
    "а специальная программа, \n",
    "которая называется интерпретатором – идет по коду, \n",
    "анализирует его и выполняет каждую отдельную команду"
   ]
  },
  {
   "cell_type": "markdown",
   "id": "aa188d30-208b-46c6-821e-4d53524cedb3",
   "metadata": {},
   "source": [
    "# Преимущества и недостатки Python"
   ]
  },
  {
   "cell_type": "code",
   "execution_count": null,
   "id": "409a23ad-4b3e-4018-8876-0121d09b3a31",
   "metadata": {},
   "outputs": [],
   "source": [
    "# Язык Python:\n",
    "интерпретируемый\n",
    "платформо-независимый\n",
    "простой язык\n",
    "встраиваемый скриптовый язык\n",
    "динамическая типизация\n",
    "имеет огромную библиотеку классов на любой вкус\n",
    "# Недостатки\n",
    "Основным недостатком языка Python является \n",
    "его низкая скорость выполнения"
   ]
  },
  {
   "cell_type": "markdown",
   "id": "95980c78-7793-4291-a249-e0818a9bc095",
   "metadata": {},
   "source": [
    "# Задачи решаемые с помощью Python"
   ]
  },
  {
   "cell_type": "code",
   "execution_count": null,
   "id": "ffb9861e-bc24-4b41-967a-d730b6427e70",
   "metadata": {},
   "outputs": [],
   "source": [
    "# Python подходит для:\n",
    "                        системного программирования\n",
    "                        графических приложений\n",
    "                        веб приложений\n",
    "                        веб-сценариев\n",
    "                        интеграции компонентов\n",
    "                        приложений баз данных\n",
    "                        приложений анализа данных\n",
    "# Python не подходит для:\n",
    "                        низкоуровневых приложений\n",
    "                        высокопроизводительных приложений\n",
    "                        создания серьезных игр"
   ]
  },
  {
   "cell_type": "code",
   "execution_count": null,
   "id": "230e2453-4951-406c-a021-7f0f939cbb1f",
   "metadata": {},
   "outputs": [],
   "source": [
    "# Для вывода данных на экран используется команда \n",
    "                                                 print()"
   ]
  },
  {
   "cell_type": "code",
   "execution_count": null,
   "id": "19f4bba1-fad0-4d5f-969b-ead82577061d",
   "metadata": {},
   "outputs": [],
   "source": [
    "# Для считывания данных используется команда \n",
    "                                                 input()"
   ]
  },
  {
   "cell_type": "code",
   "execution_count": 29,
   "id": "d21240cd-82e7-4246-9064-83459c6982d3",
   "metadata": {
    "tags": []
   },
   "outputs": [
    {
     "name": "stdout",
     "output_type": "stream",
     "text": [
      "Как тебя зовут?\n"
     ]
    },
    {
     "name": "stdin",
     "output_type": "stream",
     "text": [
      " Filipp\n"
     ]
    },
    {
     "name": "stdout",
     "output_type": "stream",
     "text": [
      "Привет, Filipp\n"
     ]
    }
   ],
   "source": [
    "print('Как тебя зовут?')\n",
    "name = input()\n",
    "print(\"Привет,\", name)"
   ]
  },
  {
   "cell_type": "code",
   "execution_count": null,
   "id": "94a21a66-00e5-4028-adff-ad27d6b34baa",
   "metadata": {},
   "outputs": [],
   "source": []
  },
  {
   "cell_type": "code",
   "execution_count": 27,
   "id": "123706e0-80a0-49e7-8a8b-ed165bdd477b",
   "metadata": {
    "tags": []
   },
   "outputs": [
    {
     "name": "stdout",
     "output_type": "stream",
     "text": [
      "Как тебя зовут?\n"
     ]
    }
   ],
   "source": [
    "print('Как тебя зовут?')"
   ]
  }
 ],
 "metadata": {
  "kernelspec": {
   "display_name": "Python 3 (ipykernel)",
   "language": "python",
   "name": "python3"
  },
  "language_info": {
   "codemirror_mode": {
    "name": "ipython",
    "version": 3
   },
   "file_extension": ".py",
   "mimetype": "text/x-python",
   "name": "python",
   "nbconvert_exporter": "python",
   "pygments_lexer": "ipython3",
   "version": "3.11.5"
  }
 },
 "nbformat": 4,
 "nbformat_minor": 5
}
