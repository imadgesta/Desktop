{
 "cells": [
  {
   "cell_type": "code",
   "execution_count": 1,
   "id": "146318f5-eb5c-4ab1-9b0b-b63754424caa",
   "metadata": {
    "tags": []
   },
   "outputs": [],
   "source": [
    "import pandas as pd   # Импорт библиотеки Pandas\n",
    "import numpy as np    # Импорт библиотеки Numpy"
   ]
  },
  {
   "cell_type": "code",
   "execution_count": 10,
   "id": "2e6cb9cf-1f77-458c-9fae-274af15ef751",
   "metadata": {
    "tags": []
   },
   "outputs": [
    {
     "name": "stdout",
     "output_type": "stream",
     "text": [
      "2.0.3\n"
     ]
    }
   ],
   "source": [
    "import pandas as pd\n",
    "print(pd.__version__)"
   ]
  },
  {
   "cell_type": "code",
   "execution_count": 11,
   "id": "013fda99-b4f7-417f-bfcf-3a992eb14d8e",
   "metadata": {
    "tags": []
   },
   "outputs": [
    {
     "name": "stdout",
     "output_type": "stream",
     "text": [
      "1.24.3\n"
     ]
    }
   ],
   "source": [
    "import pandas as pd\n",
    "print(np.__version__)"
   ]
  },
  {
   "cell_type": "code",
   "execution_count": 12,
   "id": "8a20c9bd-5478-418a-b000-5097cc03a33b",
   "metadata": {
    "tags": []
   },
   "outputs": [
    {
     "data": {
      "text/plain": [
       "Series([], dtype: object)"
      ]
     },
     "execution_count": 12,
     "metadata": {},
     "output_type": "execute_result"
    }
   ],
   "source": [
    "pd.Series()"
   ]
  },
  {
   "cell_type": "code",
   "execution_count": 13,
   "id": "5b25d7fc-f332-4cce-bf79-471814b24f1b",
   "metadata": {
    "tags": []
   },
   "outputs": [
    {
     "data": {
      "text/plain": [
       "0    5.0\n",
       "1    6.0\n",
       "2    9.8\n",
       "3    1.0\n",
       "4    7.0\n",
       "dtype: float64"
      ]
     },
     "execution_count": 13,
     "metadata": {},
     "output_type": "execute_result"
    }
   ],
   "source": [
    "# Series на основе списка.\n",
    "series_from_list = pd.Series([5, 6, 9.8, 1, 7],\n",
    "                            # index-['row_1', 'row_2', 'row_3', 'row_4', 'row_5'],\n",
    "                            # dtype-int,\n",
    "                            # name-'pd_Series'\n",
    "                            )\n",
    "series_from_list"
   ]
  },
  {
   "cell_type": "code",
   "execution_count": null,
   "id": "f773e7ec-0872-4f02-a51d-aed3539170db",
   "metadata": {},
   "outputs": [],
   "source": []
  },
  {
   "cell_type": "code",
   "execution_count": 19,
   "id": "b077a7da-b158-4898-9ac9-85d428a9665e",
   "metadata": {
    "tags": []
   },
   "outputs": [
    {
     "data": {
      "text/plain": [
       "row_1    5.0\n",
       "row_2    6.0\n",
       "row_3    9.8\n",
       "row_4    1.0\n",
       "row_5    7.0\n",
       "dtype: float64"
      ]
     },
     "execution_count": 19,
     "metadata": {},
     "output_type": "execute_result"
    }
   ],
   "source": [
    "# Series на основе списка.\n",
    "series_from_list = pd.Series([5, 6, 9.8, 1, 7],\n",
    "                            index=['row_1', 'row_2', 'row_3', 'row_4', 'row_5'],\n",
    "                            # dtype=int,\n",
    "                            # name='pd_Series'\n",
    "                            )\n",
    "series_from_list"
   ]
  },
  {
   "cell_type": "code",
   "execution_count": 20,
   "id": "4318b767-9328-4275-9255-0314d60a8fad",
   "metadata": {
    "tags": []
   },
   "outputs": [
    {
     "ename": "ValueError",
     "evalue": "Trying to coerce float values to integers",
     "output_type": "error",
     "traceback": [
      "\u001b[1;31m-----------------------------------------------------\u001b[0m",
      "\u001b[1;31mValueError\u001b[0m          Traceback (most recent call last)",
      "Cell \u001b[1;32mIn[20], line 2\u001b[0m\n\u001b[0;32m      1\u001b[0m \u001b[38;5;66;03m# Series на основе списка.\u001b[39;00m\n\u001b[1;32m----> 2\u001b[0m series_from_list \u001b[38;5;241m=\u001b[39m pd\u001b[38;5;241m.\u001b[39mSeries([\u001b[38;5;241m5\u001b[39m, \u001b[38;5;241m6\u001b[39m, \u001b[38;5;241m9.8\u001b[39m, \u001b[38;5;241m1\u001b[39m, \u001b[38;5;241m7\u001b[39m],\n\u001b[0;32m      3\u001b[0m                             index\u001b[38;5;241m=\u001b[39m[\u001b[38;5;124m'\u001b[39m\u001b[38;5;124mrow_1\u001b[39m\u001b[38;5;124m'\u001b[39m, \u001b[38;5;124m'\u001b[39m\u001b[38;5;124mrow_2\u001b[39m\u001b[38;5;124m'\u001b[39m, \u001b[38;5;124m'\u001b[39m\u001b[38;5;124mrow_3\u001b[39m\u001b[38;5;124m'\u001b[39m, \u001b[38;5;124m'\u001b[39m\u001b[38;5;124mrow_4\u001b[39m\u001b[38;5;124m'\u001b[39m, \u001b[38;5;124m'\u001b[39m\u001b[38;5;124mrow_5\u001b[39m\u001b[38;5;124m'\u001b[39m],\n\u001b[0;32m      4\u001b[0m                             dtype\u001b[38;5;241m=\u001b[39m\u001b[38;5;28mint\u001b[39m,\n\u001b[0;32m      5\u001b[0m                             \u001b[38;5;66;03m# name='pd_Series'\u001b[39;00m\n\u001b[0;32m      6\u001b[0m                             )\n\u001b[0;32m      7\u001b[0m series_from_list\n",
      "File \u001b[1;32m~\\anaconda3\\Lib\\site-packages\\pandas\\core\\series.py:509\u001b[0m, in \u001b[0;36mSeries.__init__\u001b[1;34m(self, data, index, dtype, name, copy, fastpath)\u001b[0m\n\u001b[0;32m    507\u001b[0m         data \u001b[38;5;241m=\u001b[39m data\u001b[38;5;241m.\u001b[39mcopy()\n\u001b[0;32m    508\u001b[0m \u001b[38;5;28;01melse\u001b[39;00m:\n\u001b[1;32m--> 509\u001b[0m     data \u001b[38;5;241m=\u001b[39m sanitize_array(data, index, dtype, copy)\n\u001b[0;32m    511\u001b[0m     manager \u001b[38;5;241m=\u001b[39m get_option(\u001b[38;5;124m\"\u001b[39m\u001b[38;5;124mmode.data_manager\u001b[39m\u001b[38;5;124m\"\u001b[39m)\n\u001b[0;32m    512\u001b[0m     \u001b[38;5;28;01mif\u001b[39;00m manager \u001b[38;5;241m==\u001b[39m \u001b[38;5;124m\"\u001b[39m\u001b[38;5;124mblock\u001b[39m\u001b[38;5;124m\"\u001b[39m:\n",
      "File \u001b[1;32m~\\anaconda3\\Lib\\site-packages\\pandas\\core\\construction.py:599\u001b[0m, in \u001b[0;36msanitize_array\u001b[1;34m(data, index, dtype, copy, allow_2d)\u001b[0m\n\u001b[0;32m    596\u001b[0m     subarr \u001b[38;5;241m=\u001b[39m np\u001b[38;5;241m.\u001b[39marray([], dtype\u001b[38;5;241m=\u001b[39mnp\u001b[38;5;241m.\u001b[39mfloat64)\n\u001b[0;32m    598\u001b[0m \u001b[38;5;28;01melif\u001b[39;00m dtype \u001b[38;5;129;01mis\u001b[39;00m \u001b[38;5;129;01mnot\u001b[39;00m \u001b[38;5;28;01mNone\u001b[39;00m:\n\u001b[1;32m--> 599\u001b[0m     subarr \u001b[38;5;241m=\u001b[39m _try_cast(data, dtype, copy)\n\u001b[0;32m    601\u001b[0m \u001b[38;5;28;01melse\u001b[39;00m:\n\u001b[0;32m    602\u001b[0m     subarr \u001b[38;5;241m=\u001b[39m maybe_convert_platform(data)\n",
      "File \u001b[1;32m~\\anaconda3\\Lib\\site-packages\\pandas\\core\\construction.py:763\u001b[0m, in \u001b[0;36m_try_cast\u001b[1;34m(arr, dtype, copy)\u001b[0m\n\u001b[0;32m    758\u001b[0m \u001b[38;5;66;03m# GH#15832: Check if we are requesting a numeric dtype and\u001b[39;00m\n\u001b[0;32m    759\u001b[0m \u001b[38;5;66;03m# that we can convert the data to the requested dtype.\u001b[39;00m\n\u001b[0;32m    760\u001b[0m \u001b[38;5;28;01melif\u001b[39;00m is_integer_dtype(dtype):\n\u001b[0;32m    761\u001b[0m     \u001b[38;5;66;03m# this will raise if we have e.g. floats\u001b[39;00m\n\u001b[1;32m--> 763\u001b[0m     subarr \u001b[38;5;241m=\u001b[39m maybe_cast_to_integer_array(arr, dtype)\n\u001b[0;32m    764\u001b[0m \u001b[38;5;28;01melse\u001b[39;00m:\n\u001b[0;32m    765\u001b[0m     subarr \u001b[38;5;241m=\u001b[39m np\u001b[38;5;241m.\u001b[39marray(arr, dtype\u001b[38;5;241m=\u001b[39mdtype, copy\u001b[38;5;241m=\u001b[39mcopy)\n",
      "File \u001b[1;32m~\\anaconda3\\Lib\\site-packages\\pandas\\core\\dtypes\\cast.py:1688\u001b[0m, in \u001b[0;36mmaybe_cast_to_integer_array\u001b[1;34m(arr, dtype)\u001b[0m\n\u001b[0;32m   1684\u001b[0m     \u001b[38;5;28;01mif\u001b[39;00m \u001b[38;5;129;01mnot\u001b[39;00m np\u001b[38;5;241m.\u001b[39misfinite(arr)\u001b[38;5;241m.\u001b[39mall():\n\u001b[0;32m   1685\u001b[0m         \u001b[38;5;28;01mraise\u001b[39;00m IntCastingNaNError(\n\u001b[0;32m   1686\u001b[0m             \u001b[38;5;124m\"\u001b[39m\u001b[38;5;124mCannot convert non-finite values (NA or inf) to integer\u001b[39m\u001b[38;5;124m\"\u001b[39m\n\u001b[0;32m   1687\u001b[0m         )\n\u001b[1;32m-> 1688\u001b[0m     \u001b[38;5;28;01mraise\u001b[39;00m \u001b[38;5;167;01mValueError\u001b[39;00m(\u001b[38;5;124m\"\u001b[39m\u001b[38;5;124mTrying to coerce float values to integers\u001b[39m\u001b[38;5;124m\"\u001b[39m)\n\u001b[0;32m   1689\u001b[0m \u001b[38;5;28;01mif\u001b[39;00m is_object_dtype(arr\u001b[38;5;241m.\u001b[39mdtype):\n\u001b[0;32m   1690\u001b[0m     \u001b[38;5;28;01mraise\u001b[39;00m \u001b[38;5;167;01mValueError\u001b[39;00m(\u001b[38;5;124m\"\u001b[39m\u001b[38;5;124mTrying to coerce float values to integers\u001b[39m\u001b[38;5;124m\"\u001b[39m)\n",
      "\u001b[1;31mValueError\u001b[0m: Trying to coerce float values to integers"
     ]
    }
   ],
   "source": [
    "# Series на основе списка.\n",
    "series_from_list = pd.Series([5, 6, 9.8, 1, 7],\n",
    "                            index=['row_1', 'row_2', 'row_3', 'row_4', 'row_5'],\n",
    "                            dtype=int,\n",
    "                            # name='pd_Series'\n",
    "                            )\n",
    "series_from_list"
   ]
  },
  {
   "cell_type": "code",
   "execution_count": 21,
   "id": "92243c3d-b73d-42d6-bd52-7e75f61a102c",
   "metadata": {
    "tags": []
   },
   "outputs": [
    {
     "data": {
      "text/plain": [
       "row_1      5\n",
       "row_2      6\n",
       "row_3    9.8\n",
       "row_4      1\n",
       "row_5      7\n",
       "dtype: string"
      ]
     },
     "execution_count": 21,
     "metadata": {},
     "output_type": "execute_result"
    }
   ],
   "source": [
    "# Series на основе списка.\n",
    "series_from_list = pd.Series([5, 6, 9.8, 1, 7],\n",
    "                            index=['row_1', 'row_2', 'row_3', 'row_4', 'row_5'],\n",
    "                            dtype='string',\n",
    "                            # name='pd_Series'\n",
    "                            )\n",
    "series_from_list"
   ]
  },
  {
   "cell_type": "code",
   "execution_count": 22,
   "id": "28edaf91-2892-4391-986a-2e4d2ab20b32",
   "metadata": {
    "tags": []
   },
   "outputs": [
    {
     "data": {
      "text/plain": [
       "row_1      5\n",
       "row_2      6\n",
       "row_3    9.8\n",
       "row_4      1\n",
       "row_5      7\n",
       "Name: pd_Series, dtype: string"
      ]
     },
     "execution_count": 22,
     "metadata": {},
     "output_type": "execute_result"
    }
   ],
   "source": [
    "# Series на основе списка.\n",
    "series_from_list = pd.Series([5, 6, 9.8, 1, 7],\n",
    "                            index=['row_1', 'row_2', 'row_3', 'row_4', 'row_5'],\n",
    "                            dtype='string',\n",
    "                            name='pd_Series'\n",
    "                            )\n",
    "series_from_list"
   ]
  },
  {
   "cell_type": "markdown",
   "id": "f01aae97-8e4f-472c-81cf-1c81d463e726",
   "metadata": {},
   "source": [
    "# Массив данных в виде словаря"
   ]
  },
  {
   "cell_type": "code",
   "execution_count": 23,
   "id": "03d66a09-d75c-4360-919b-6c597fe389e0",
   "metadata": {
    "tags": []
   },
   "outputs": [],
   "source": [
    "# Массив данных в виде словаря.\n",
    "dict_array = {'row_1': 2,\n",
    "             'row_2': 3,\n",
    "             'row_3': 4,\n",
    "             'row_4': 5,\n",
    "             'row_5':6}"
   ]
  },
  {
   "cell_type": "code",
   "execution_count": 24,
   "id": "436e2ae9-7ec6-4ad2-bc65-633b44aed0b6",
   "metadata": {
    "tags": []
   },
   "outputs": [
    {
     "data": {
      "text/plain": [
       "row_1    2\n",
       "row_2    3\n",
       "row_3    4\n",
       "row_4    5\n",
       "row_5    6\n",
       "dtype: int64"
      ]
     },
     "execution_count": 24,
     "metadata": {},
     "output_type": "execute_result"
    }
   ],
   "source": [
    "# Series на основе словаря.\n",
    "series_from_dict = pd.Series( dict_array,\n",
    "                            # index=['row_3', 'row_4', 'row_100'],\n",
    "                            # dtype=\"string\",\n",
    "                            # name='pd_Series'\n",
    "                            )\n",
    "series_from_dict"
   ]
  },
  {
   "cell_type": "code",
   "execution_count": 25,
   "id": "4a96359d-8153-4960-a1fc-14563a1b151c",
   "metadata": {
    "tags": []
   },
   "outputs": [
    {
     "data": {
      "text/plain": [
       "row_3      4.0\n",
       "row_4      5.0\n",
       "row_100    NaN\n",
       "dtype: float64"
      ]
     },
     "execution_count": 25,
     "metadata": {},
     "output_type": "execute_result"
    }
   ],
   "source": [
    "# Series на основе словаря.\n",
    "series_from_dict = pd.Series( dict_array,\n",
    "                            index=['row_3', 'row_4', 'row_100'],\n",
    "                            # dtype=\"string\",\n",
    "                            # name='pd_Series'\n",
    "                            )\n",
    "series_from_dict"
   ]
  },
  {
   "cell_type": "code",
   "execution_count": 26,
   "id": "ed8bf18b-789e-4902-82e5-f7505979ddf7",
   "metadata": {
    "tags": []
   },
   "outputs": [
    {
     "data": {
      "text/plain": [
       "row_3      4.0\n",
       "row_4      5.0\n",
       "row_100    NaN\n",
       "dtype: float64"
      ]
     },
     "execution_count": 26,
     "metadata": {},
     "output_type": "execute_result"
    }
   ],
   "source": [
    "# Series на основе словаря.\n",
    "series_from_dict = pd.Series( dict_array,\n",
    "                            index=['row_3', 'row_4', 'row_100'],\n",
    "                            dtype=\"int\",\n",
    "                            # name='pd_Series'\n",
    "                            )\n",
    "series_from_dict"
   ]
  },
  {
   "cell_type": "code",
   "execution_count": 27,
   "id": "4c488f74-7f12-475a-8055-0caa54d12e18",
   "metadata": {
    "tags": []
   },
   "outputs": [
    {
     "data": {
      "text/plain": [
       "row_3      4.0\n",
       "row_4      5.0\n",
       "row_100    NaN\n",
       "Name: pd_Series, dtype: float64"
      ]
     },
     "execution_count": 27,
     "metadata": {},
     "output_type": "execute_result"
    }
   ],
   "source": [
    "# Series на основе словаря.\n",
    "series_from_dict = pd.Series( dict_array,\n",
    "                            index=['row_3', 'row_4', 'row_100'],\n",
    "                            dtype=\"int\",\n",
    "                            name='pd_Series'\n",
    "                            )\n",
    "series_from_dict"
   ]
  },
  {
   "cell_type": "markdown",
   "id": "f02c14cb-4cd0-4037-b295-72769a790940",
   "metadata": {},
   "source": [
    "# Массив данных в виде массива Numpy"
   ]
  },
  {
   "cell_type": "code",
   "execution_count": 28,
   "id": "cfd324eb-ccc9-4005-9018-ac09b07a962f",
   "metadata": {
    "tags": []
   },
   "outputs": [],
   "source": [
    "np_array = np.array([5, 6, 6, 8, 7])"
   ]
  },
  {
   "cell_type": "code",
   "execution_count": 29,
   "id": "7df692d8-75ee-487c-ac0e-847aa3941f67",
   "metadata": {
    "tags": []
   },
   "outputs": [
    {
     "data": {
      "text/plain": [
       "0    5\n",
       "1    6\n",
       "2    6\n",
       "3    8\n",
       "4    7\n",
       "dtype: int32"
      ]
     },
     "execution_count": 29,
     "metadata": {},
     "output_type": "execute_result"
    }
   ],
   "source": [
    "# Series на основе массива Numpy.\n",
    "series_from_nparray = pd.Series(np_array,\n",
    "                               copy=False\n",
    "                               )\n",
    "series_from_nparray"
   ]
  },
  {
   "cell_type": "code",
   "execution_count": 30,
   "id": "d43d8586-c8d7-4b04-a445-8f69b5bd69a9",
   "metadata": {
    "tags": []
   },
   "outputs": [
    {
     "data": {
      "text/plain": [
       "0      5\n",
       "1      6\n",
       "2      6\n",
       "3    111\n",
       "4      7\n",
       "dtype: int32"
      ]
     },
     "execution_count": 30,
     "metadata": {},
     "output_type": "execute_result"
    }
   ],
   "source": [
    "# Изменение одного из элементов.\n",
    "series_from_nparray.iloc[3] = 111\n",
    "\n",
    "series_from_nparray"
   ]
  },
  {
   "cell_type": "code",
   "execution_count": 31,
   "id": "90ed1a53-5f1d-4cc8-a2f8-83f625da8ce2",
   "metadata": {
    "tags": []
   },
   "outputs": [
    {
     "data": {
      "text/plain": [
       "array([  5,   6,   6, 111,   7])"
      ]
     },
     "execution_count": 31,
     "metadata": {},
     "output_type": "execute_result"
    }
   ],
   "source": [
    "np_array"
   ]
  },
  {
   "cell_type": "code",
   "execution_count": 32,
   "id": "f85310ed-49e4-4bb0-8658-6be3c3513293",
   "metadata": {
    "tags": []
   },
   "outputs": [],
   "source": [
    "np_array = np.array([5, 6, 6, 8, 7])"
   ]
  },
  {
   "cell_type": "code",
   "execution_count": 33,
   "id": "9cad34c3-2b53-41c9-97d8-c164a9b481d1",
   "metadata": {
    "tags": []
   },
   "outputs": [
    {
     "data": {
      "text/plain": [
       "0    5\n",
       "1    6\n",
       "2    6\n",
       "3    8\n",
       "4    7\n",
       "dtype: int32"
      ]
     },
     "execution_count": 33,
     "metadata": {},
     "output_type": "execute_result"
    }
   ],
   "source": [
    "# Series на основе массива Numpy.\n",
    "series_from_nparray = pd.Series(np_array,\n",
    "                               copy=True\n",
    "                               )\n",
    "series_from_nparray"
   ]
  },
  {
   "cell_type": "markdown",
   "id": "0897157a-faa5-44ea-b7c4-1f1a3af73445",
   "metadata": {},
   "source": [
    "# Series на основе другой Series."
   ]
  },
  {
   "cell_type": "code",
   "execution_count": null,
   "id": "541c84d1-38a8-49e3-b14c-9af608e7a92a",
   "metadata": {},
   "outputs": [],
   "source": []
  }
 ],
 "metadata": {
  "kernelspec": {
   "display_name": "Python 3 (ipykernel)",
   "language": "python",
   "name": "python3"
  },
  "language_info": {
   "codemirror_mode": {
    "name": "ipython",
    "version": 3
   },
   "file_extension": ".py",
   "mimetype": "text/x-python",
   "name": "python",
   "nbconvert_exporter": "python",
   "pygments_lexer": "ipython3",
   "version": "3.11.5"
  }
 },
 "nbformat": 4,
 "nbformat_minor": 5
}
