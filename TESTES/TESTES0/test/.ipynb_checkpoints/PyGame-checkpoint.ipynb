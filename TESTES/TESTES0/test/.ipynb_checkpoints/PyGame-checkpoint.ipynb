{
 "cells": [
  {
   "cell_type": "code",
   "execution_count": 1,
   "id": "0b77378b-3e32-45ce-979e-aed22e5eb2a5",
   "metadata": {},
   "outputs": [
    {
     "name": "stdout",
     "output_type": "stream",
     "text": [
      "pygame 2.5.2 (SDL 2.28.3, Python 3.11.5)\n",
      "Hello from the pygame community. https://www.pygame.org/contribute.html\n"
     ]
    }
   ],
   "source": [
    "# Pygame шаблон - скелет для нового проекта Pygame\n",
    "import pygame\n",
    "import random\n",
    "\n",
    "WIDTH = 360  # ширина игрового окна\n",
    "HEIGHT = 480 # высота игрового окна\n",
    "FPS = 30 # частота кадров в секунду"
   ]
  },
  {
   "cell_type": "code",
   "execution_count": 2,
   "id": "2fb63906-f9e8-4516-809f-53050bc7ed5b",
   "metadata": {},
   "outputs": [],
   "source": [
    "# создаем игру и окно\n",
    "pygame.init()\n",
    "pygame.mixer.init()  # для звука\n",
    "screen = pygame.display.set_mode((WIDTH, HEIGHT))\n",
    "pygame.display.set_caption(\"My Game\")\n",
    "clock = pygame.time.Clock()"
   ]
  },
  {
   "cell_type": "code",
   "execution_count": 1,
   "id": "2ade3109-468b-4cc3-9126-352137dd423d",
   "metadata": {},
   "outputs": [
    {
     "ename": "SyntaxError",
     "evalue": "incomplete input (551605281.py, line 6)",
     "output_type": "error",
     "traceback": [
      "\u001b[1;36m  Cell \u001b[1;32mIn[1], line 6\u001b[1;36m\u001b[0m\n\u001b[1;33m    # Визуализация (сборка)\u001b[0m\n\u001b[1;37m                           ^\u001b[0m\n\u001b[1;31mSyntaxError\u001b[0m\u001b[1;31m:\u001b[0m incomplete input\n"
     ]
    }
   ],
   "source": [
    "# Цикл игры\n",
    "running = True\n",
    "while running:\n",
    "    # Ввод процесса (события)\n",
    "    # Обновление\n",
    "    # Визуализация (сборка)"
   ]
  },
  {
   "cell_type": "code",
   "execution_count": 2,
   "id": "198f82a7-72e2-413b-94d2-7a455f19fc4b",
   "metadata": {},
   "outputs": [
    {
     "name": "stdout",
     "output_type": "stream",
     "text": [
      "pygame 2.5.2 (SDL 2.28.3, Python 3.11.5)\n",
      "Hello from the pygame community. https://www.pygame.org/contribute.html\n"
     ]
    }
   ],
   "source": [
    "import pygame\n",
    " \n",
    "pygame.init()\n",
    "screen = pygame.display.set_mode((600, 300))\n",
    "done = False\n",
    " \n",
    "while not done:\n",
    "        for event in pygame.event.get():\n",
    "                if event.type == pygame.QUIT:\n",
    "                        done = True\n",
    "        \n",
    "        pygame.display.flip()"
   ]
  },
  {
   "cell_type": "code",
   "execution_count": 4,
   "id": "54d0aff2-6331-4bfd-82cf-c98732feb2c2",
   "metadata": {},
   "outputs": [
    {
     "data": {
      "text/plain": [
       "<rect(30, 30, 60, 60)>"
      ]
     },
     "execution_count": 4,
     "metadata": {},
     "output_type": "execute_result"
    }
   ],
   "source": [
    "# Add this somewhere after the event pumping and before the display.flip() \n",
    "pygame.draw.rect(screen, (0, 128, 255), pygame.Rect(30, 30, 60, 60))"
   ]
  },
  {
   "cell_type": "code",
   "execution_count": 5,
   "id": "bb833075-06ee-4c8f-88b8-d42b93190dee",
   "metadata": {},
   "outputs": [],
   "source": [
    "is_blue = True"
   ]
  },
  {
   "cell_type": "code",
   "execution_count": 6,
   "id": "667a16ef-4ce2-45b7-8826-103cd01a9082",
   "metadata": {},
   "outputs": [
    {
     "data": {
      "text/plain": [
       "<rect(30, 30, 60, 60)>"
      ]
     },
     "execution_count": 6,
     "metadata": {},
     "output_type": "execute_result"
    }
   ],
   "source": [
    "if is_blue: \n",
    "    color = (0, 128, 255)\n",
    "else: \n",
    "    color = (255, 100, 0)\n",
    "pygame.draw.rect(screen, color, pygame.Rect(30, 30, 60, 60))"
   ]
  },
  {
   "cell_type": "code",
   "execution_count": 7,
   "id": "14404e31-521f-4582-b569-29df1218a2ca",
   "metadata": {},
   "outputs": [],
   "source": [
    "if event.type == pygame.KEYDOWN and event.key == pygame.K_SPACE:\n",
    "    is_blue = not is_blue"
   ]
  },
  {
   "cell_type": "code",
   "execution_count": 4,
   "id": "01c30529-b3a4-4c92-b862-d01d9029335d",
   "metadata": {},
   "outputs": [],
   "source": [
    "import pygame\n",
    " \n",
    "pygame.init()\n",
    "screen = pygame.display.set_mode((600, 300))\n",
    "done = False\n",
    "is_blue = True\n",
    "x = 30\n",
    "y = 30\n",
    " \n",
    "while not done:\n",
    "        for event in pygame.event.get():\n",
    "                if event.type == pygame.QUIT:\n",
    "                        done = True\n",
    "                if event.type == pygame.KEYDOWN and event.key == pygame.K_SPACE:\n",
    "                        is_blue = not is_blue\n",
    "        \n",
    "        pressed = pygame.key.get_pressed()\n",
    "        if pressed[pygame.K_UP]: y -= 3\n",
    "        if pressed[pygame.K_DOWN]: y += 3\n",
    "        if pressed[pygame.K_LEFT]: x -= 3\n",
    "        if pressed[pygame.K_RIGHT]: x += 3\n",
    "        \n",
    "        if is_blue: color = (0, 128, 255)\n",
    "        else: color = (255, 100, 0)\n",
    "        pygame.draw.rect(screen, color, pygame.Rect(x, y, 60, 60))\n",
    "        \n",
    "        pygame.display.flip()"
   ]
  },
  {
   "cell_type": "code",
   "execution_count": 1,
   "id": "54ef6e5b-4afe-40b8-a5ef-d4a83fb740c0",
   "metadata": {},
   "outputs": [
    {
     "name": "stdout",
     "output_type": "stream",
     "text": [
      "pygame 2.5.2 (SDL 2.28.3, Python 3.11.5)\n",
      "Hello from the pygame community. https://www.pygame.org/contribute.html\n"
     ]
    }
   ],
   "source": [
    "import pygame"
   ]
  },
  {
   "cell_type": "code",
   "execution_count": 30,
   "id": "3084207e-ff6e-4805-bfe8-177c43830333",
   "metadata": {},
   "outputs": [],
   "source": [
    "import pygame\n",
    "\n",
    "pygame.init()\n",
    "screen = pygame.display.set_mode((600, 600)) # flags=pygame.NOFRAME\n",
    "pygame.display.set_caption('Pygame IT GAME')\n",
    "icon = pygame.image.load('1337497_game_go_play_pikachu_pokemon_icon.png')\n",
    "pygame.display.set_icon(icon)\n",
    "\n",
    "running = True\n",
    "while running:\n",
    "\n",
    "    # screen.fill((0, 237, 255))\n",
    "\n",
    "    pygame.display.update()\n",
    "    \n",
    "    for event in pygame.event.get():\n",
    "        if event.type == pygame.QUIT:\n",
    "            running = False\n",
    "            pygame.quit()\n",
    "        elif event.type == pygame.KEYDOWN:\n",
    "            if event.key == pygame.K_i:\n",
    "                screen.fill((0, 255, 131))"
   ]
  },
  {
   "cell_type": "code",
   "execution_count": null,
   "id": "a89d0e43-ba44-4715-90f9-10041e62fc50",
   "metadata": {},
   "outputs": [],
   "source": []
  }
 ],
 "metadata": {
  "kernelspec": {
   "display_name": "Python 3 (ipykernel)",
   "language": "python",
   "name": "python3"
  },
  "language_info": {
   "codemirror_mode": {
    "name": "ipython",
    "version": 3
   },
   "file_extension": ".py",
   "mimetype": "text/x-python",
   "name": "python",
   "nbconvert_exporter": "python",
   "pygments_lexer": "ipython3",
   "version": "3.11.5"
  }
 },
 "nbformat": 4,
 "nbformat_minor": 5
}
