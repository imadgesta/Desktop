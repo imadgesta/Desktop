{
 "cells": [
  {
   "cell_type": "markdown",
   "id": "e19dfa91-47e4-4867-abf6-67a13c5fac66",
   "metadata": {},
   "source": [
    "# распаковка с помощью *"
   ]
  },
  {
   "cell_type": "code",
   "execution_count": 16,
   "id": "4fe5a83e-fb36-42d1-b1cf-6a3d5333de35",
   "metadata": {
    "tags": []
   },
   "outputs": [
    {
     "name": "stdout",
     "output_type": "stream",
     "text": [
      "[1, 2, 3, 4, 5, 6, 7]\n"
     ]
    }
   ],
   "source": [
    "dict = {\n",
    "    1: \"Ahsoka\",\n",
    "    2: \"Andor\",\n",
    "    3: \"Bad Batch\",\n",
    "    4: \"Rogue Squadron\",\n",
    "    5: \"Lando\",\n",
    "    6: \"The rangers of new republic\",\n",
    "    7: \"The Acolyte\"\n",
    "}\n",
    "\n",
    "keys = [*dict]\n",
    "print(keys)"
   ]
  },
  {
   "cell_type": "markdown",
   "id": "f0522e76-dd6e-4d97-817b-e867a16cc9cd",
   "metadata": {},
   "source": [
    "# цикл for и метод list.append()"
   ]
  },
  {
   "cell_type": "code",
   "execution_count": 15,
   "id": "1de70eb3-6d4f-484d-bf83-c391f9a34c1a",
   "metadata": {
    "tags": []
   },
   "outputs": [
    {
     "name": "stdout",
     "output_type": "stream",
     "text": [
      "[1, 2, 3, 4, 5, 6, 7]\n"
     ]
    }
   ],
   "source": [
    "dict = {\n",
    "    1: \"Ahsoka\",\n",
    "    2: \"Andor\",\n",
    "    3: \"Bad Batch\",\n",
    "    4: \"Rogue Squadron\",\n",
    "    5: \"Lando\",\n",
    "    6: \"The rangers of new republic\",\n",
    "    7: \"The Acolyte\"\n",
    "}\n",
    "\n",
    "list = []\n",
    "for key in dict.keys():\n",
    "    list.append(key)\n",
    "print(list)"
   ]
  },
  {
   "cell_type": "markdown",
   "id": "81da97c4-5968-4699-9f6c-e9bee824e0bb",
   "metadata": {},
   "source": [
    "# метод dict.keys()"
   ]
  },
  {
   "cell_type": "code",
   "execution_count": 13,
   "id": "42bd9241-c6b2-48e8-acbd-dbfc1c49744d",
   "metadata": {
    "tags": []
   },
   "outputs": [
    {
     "name": "stdout",
     "output_type": "stream",
     "text": [
      "dict_keys([1, 2, 3, 4, 5, 6, 7])\n",
      "<class 'dict_keys'>\n"
     ]
    }
   ],
   "source": [
    "dict = {\n",
    "    1: \"Ahsoka\",\n",
    "    2: \"Andor\",\n",
    "    3: \"Bad Batch\",\n",
    "    4: \"Rogue Squadron\",\n",
    "    5: \"Lando\",\n",
    "    6: \"The rangers of new republic\",\n",
    "    7: \"The Acolyte\"\n",
    "}\n",
    "\n",
    "keys = dict.keys()\n",
    "print(keys)\n",
    "print(type(keys))"
   ]
  },
  {
   "cell_type": "markdown",
   "id": "04d5c0be-516a-4a8e-8945-e9b530a946fe",
   "metadata": {},
   "source": [
    "# метод list()"
   ]
  },
  {
   "cell_type": "code",
   "execution_count": 14,
   "id": "844fff2b-c096-46c8-b0cc-d480bdadf2a3",
   "metadata": {
    "tags": []
   },
   "outputs": [
    {
     "name": "stdout",
     "output_type": "stream",
     "text": [
      "dict_keys([1, 2, 3, 4, 5, 6, 7])\n",
      "<class 'dict_keys'>\n",
      "[1, 2, 3, 4, 5, 6, 7]\n"
     ]
    }
   ],
   "source": [
    "dict = {\n",
    "    1: \"Ahsoka\",\n",
    "    2: \"Andor\",\n",
    "    3: \"Bad Batch\",\n",
    "    4: \"Rogue Squadron\",\n",
    "    5: \"Lando\",\n",
    "    6: \"The rangers of new republic\",\n",
    "    7: \"The Acolyte\"\n",
    "}\n",
    "\n",
    "keys = dict.keys()\n",
    "print(keys)\n",
    "print(type(keys))\n",
    "\n",
    "list = list(keys)\n",
    "print(list)"
   ]
  },
  {
   "cell_type": "code",
   "execution_count": null,
   "id": "a5a3eb9e-467d-437c-87b0-242a61909a9f",
   "metadata": {},
   "outputs": [],
   "source": [
    "# Чтобы распечатать ключи словаря в Python, \n",
    "#                   вы можете использовать метод dict.keys(), \n",
    "#                   чтобы получить все ключи, \n",
    "#                 а затем использовать функцию print() для печати этих ключей.\n"
   ]
  },
  {
   "cell_type": "code",
   "execution_count": 8,
   "id": "51f600da-bc9b-4990-8b8b-5cf838dc9d7e",
   "metadata": {
    "tags": []
   },
   "outputs": [
    {
     "name": "stdout",
     "output_type": "stream",
     "text": [
      "dict_keys(['streaming', 'show', 'ratings', 'genre'])\n"
     ]
    }
   ],
   "source": [
    "dict = {\n",
    "  'streaming': 'Netflix',\n",
    "  'show': 'Shadow and Bone',\n",
    "  'ratings': 'Good',\n",
    "  'genre': 'Fantasy '\n",
    "}\n",
    "\n",
    "print(dict.keys())"
   ]
  },
  {
   "cell_type": "markdown",
   "id": "f1e47b1a-7f4b-4d26-946e-17abea4a9b97",
   "metadata": {},
   "source": [
    "# метод dict.items()"
   ]
  },
  {
   "cell_type": "code",
   "execution_count": null,
   "id": "8a70c3fb-c592-43e8-a9ac-35d5ed16ccf9",
   "metadata": {},
   "outputs": [],
   "source": [
    "# Метод словаря items() используется для получения всех ключей \n",
    "#                                  и связанных с ними значений. \n",
    "#                  Мы можем использовать метод items() в цикле for \n",
    "#                            и распечатать ключи и значения словаря.\n"
   ]
  },
  {
   "cell_type": "code",
   "execution_count": 9,
   "id": "76bcce51-3068-4fba-b68b-3f0bfc6486fe",
   "metadata": {
    "tags": []
   },
   "outputs": [
    {
     "name": "stdout",
     "output_type": "stream",
     "text": [
      "streaming\n",
      "show\n",
      "ratings\n",
      "genre\n"
     ]
    }
   ],
   "source": [
    "dict = {\n",
    "  'streaming': 'Netflix',\n",
    "  'show': 'Shadow and Bone',\n",
    "  'ratings': 'Good',\n",
    "  'genre': 'Fantasy '\n",
    "}\n",
    "\n",
    "for key, value in dict.items():\n",
    "  print(key)"
   ]
  },
  {
   "cell_type": "markdown",
   "id": "ce8b5a45-6ae2-45c3-85ca-fafaab3a66a0",
   "metadata": {},
   "source": [
    "# с помощью понимания списка"
   ]
  },
  {
   "cell_type": "code",
   "execution_count": 11,
   "id": "aae10d8c-1ae5-4f26-bfe1-bab92f2a29ad",
   "metadata": {
    "tags": []
   },
   "outputs": [
    {
     "name": "stdout",
     "output_type": "stream",
     "text": [
      "Novel\n",
      "year\n",
      "author\n",
      "character\n"
     ]
    },
    {
     "data": {
      "text/plain": [
       "[None, None, None, None]"
      ]
     },
     "execution_count": 11,
     "metadata": {},
     "output_type": "execute_result"
    }
   ],
   "source": [
    "dict = {\n",
    "  'Novel': 'Dune',\n",
    "  'year': 1965,\n",
    "  'author': 'Frank Herbert',\n",
    "  'character': 'Paul Atreides'\n",
    "}\n",
    "\n",
    "[print(keys) for keys in dict]"
   ]
  },
  {
   "cell_type": "markdown",
   "id": "1235c591-c17b-4472-8bc6-6de8a3c4add1",
   "metadata": {},
   "source": [
    "# модуль itemgetter"
   ]
  },
  {
   "cell_type": "code",
   "execution_count": 12,
   "id": "c0367a38-4c31-4d8f-8ce5-2603666f92f8",
   "metadata": {
    "tags": []
   },
   "outputs": [
    {
     "name": "stdout",
     "output_type": "stream",
     "text": [
      "['Novel', 'year', 'author', 'character']\n"
     ]
    }
   ],
   "source": [
    "from operator import itemgetter\n",
    "\n",
    "\n",
    "def HeyList(dictionary):\n",
    "  return list(map(itemgetter(0), dictionary.items()))\n",
    "\n",
    "\n",
    "dict = {\n",
    "  'Novel': 'Dune',\n",
    "  'year': 1965,\n",
    "  'author': 'Frank Herbert',\n",
    "  'character': 'Paul Atreides'\n",
    "}\n",
    "\n",
    "print(HeyList(dict))"
   ]
  },
  {
   "cell_type": "code",
   "execution_count": null,
   "id": "41c733d5-2a15-4898-8766-71d7b3db22c8",
   "metadata": {},
   "outputs": [],
   "source": []
  }
 ],
 "metadata": {
  "kernelspec": {
   "display_name": "Python 3 (ipykernel)",
   "language": "python",
   "name": "python3"
  },
  "language_info": {
   "codemirror_mode": {
    "name": "ipython",
    "version": 3
   },
   "file_extension": ".py",
   "mimetype": "text/x-python",
   "name": "python",
   "nbconvert_exporter": "python",
   "pygments_lexer": "ipython3",
   "version": "3.11.5"
  }
 },
 "nbformat": 4,
 "nbformat_minor": 5
}
