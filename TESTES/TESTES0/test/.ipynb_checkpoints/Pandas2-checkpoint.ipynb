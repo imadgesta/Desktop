{
 "cells": [
  {
   "cell_type": "markdown",
   "id": "635c67cc-0c3d-4446-b5d3-57879db9b370",
   "metadata": {
    "jp-MarkdownHeadingCollapsed": true,
    "tags": []
   },
   "source": [
    "# преобразование столбца Pandas в список"
   ]
  },
  {
   "cell_type": "code",
   "execution_count": 3,
   "id": "958b1a55-4c06-4cb8-8b3c-e1d9b81f0051",
   "metadata": {
    "tags": []
   },
   "outputs": [
    {
     "name": "stdout",
     "output_type": "stream",
     "text": [
      "Column A as list: [1, 2, 3]\n"
     ]
    }
   ],
   "source": [
    "import pandas as pd\n",
    "\n",
    "# create a sample dataframe\n",
    "data = {'A': [1, 2, 3], 'B': [4, 5, 6], 'C': [7, 8, 9]}\n",
    "df = pd.DataFrame(data)\n",
    "\n",
    "# Convert a column to a list\n",
    "column_A_list = df['A'].tolist()\n",
    "print(\"Column A as list:\", column_A_list)"
   ]
  },
  {
   "cell_type": "markdown",
   "id": "4d2856aa-2f93-4602-a44a-631c318fd94b",
   "metadata": {
    "jp-MarkdownHeadingCollapsed": true,
    "tags": []
   },
   "source": [
    "# DataFrame во вложенный список"
   ]
  },
  {
   "cell_type": "code",
   "execution_count": 4,
   "id": "8176ee8f-cd32-47a4-a531-28e28c14114a",
   "metadata": {
    "tags": []
   },
   "outputs": [
    {
     "name": "stdout",
     "output_type": "stream",
     "text": [
      "Nested list: [[1, 4, 7], [2, 5, 8], [3, 6, 9]]\n"
     ]
    }
   ],
   "source": [
    "import pandas as pd\n",
    "\n",
    "# create a sample dataframe\n",
    "data = {'A': [1, 2, 3], 'B': [4, 5, 6], 'C': [7, 8, 9]}\n",
    "df = pd.DataFrame(data)\n",
    "\n",
    "# Convert a column to a list\n",
    "nested_list = df.values.tolist()\n",
    "print(\"Nested list:\", nested_list)"
   ]
  },
  {
   "cell_type": "markdown",
   "id": "ef695ef6-3b02-4b64-99a8-b5e226b7dd77",
   "metadata": {
    "jp-MarkdownHeadingCollapsed": true,
    "tags": []
   },
   "source": [
    "# столбец индекса Pandas в список"
   ]
  },
  {
   "cell_type": "code",
   "execution_count": 5,
   "id": "888c1f1c-1f5d-4a5c-a8e5-57128df9953b",
   "metadata": {
    "tags": []
   },
   "outputs": [
    {
     "name": "stdout",
     "output_type": "stream",
     "text": [
      "Index column as list: ['row1', 'row2', 'row3']\n"
     ]
    }
   ],
   "source": [
    "import pandas as pd\n",
    "\n",
    "# create a sample dataframe\n",
    "data = {'A': [1, 2, 3], 'B': [4, 5, 6], 'C': [7, 8, 9]}\n",
    "index_values = ['row1', 'row2', 'row3']\n",
    "df = pd.DataFrame(data, index=index_values)\n",
    "\n",
    "# Convert index column to a list\n",
    "index_list = df.index.tolist()\n",
    "print(\"Index column as list:\", index_list)"
   ]
  },
  {
   "cell_type": "markdown",
   "id": "b817e1e5-c415-4429-b6b1-b386c3a8a310",
   "metadata": {
    "jp-MarkdownHeadingCollapsed": true,
    "tags": []
   },
   "source": [
    "# преобразование DataFrame в список, содержащий все столбцы строк и имена столбцов"
   ]
  },
  {
   "cell_type": "code",
   "execution_count": 6,
   "id": "1ca0ec7e-0745-479a-9094-2fbf76e967da",
   "metadata": {
    "tags": []
   },
   "outputs": [
    {
     "name": "stdout",
     "output_type": "stream",
     "text": [
      "[['Name', 'Points'], ['Eleven', 11], ['KL', 21], ['SM', 18], ['KB', 19]]\n"
     ]
    }
   ],
   "source": [
    "import pandas as pd\n",
    "\n",
    "data = {'Name': ['Eleven', 'KL', 'SM', 'KB'],\n",
    "        'Points': [11, 21, 18, 19]}\n",
    "\n",
    "df = pd.DataFrame(data) \n",
    " \n",
    "# Converting dataframe to list\n",
    "li = [df.columns.values.tolist()] + df.values.tolist()\n",
    " \n",
    "# Printing list\n",
    "print(li)"
   ]
  },
  {
   "cell_type": "markdown",
   "id": "c73ce3be-4877-42c2-8c37-c91a9932e6bb",
   "metadata": {
    "jp-MarkdownHeadingCollapsed": true,
    "tags": []
   },
   "source": [
    "# Синтаксис"
   ]
  },
  {
   "cell_type": "code",
   "execution_count": null,
   "id": "5bf6df07-d116-4d31-b243-1887bdac9a85",
   "metadata": {
    "tags": []
   },
   "outputs": [],
   "source": [
    "DataFrame.set_index(keys, drop=True, append=False, \n",
    "                    inplace=False, verify_integrity=False)"
   ]
  },
  {
   "cell_type": "code",
   "execution_count": null,
   "id": "8c1f8ba2-bf51-4176-9498-b3bfee41d47b",
   "metadata": {},
   "outputs": [],
   "source": [
    "# keys: имя столбца или список имен столбцов.\n",
    "# drop: логическое значение попадает в столбец, используемый для индекса, если оно истинно.\n",
    "# append: добавляет столбец к существующему столбцу индекса, если оно истинно.\n",
    "# inplace: вносит изменения в DataFrame, если это True.\n",
    "# verify_integrity: проверяет новый столбец индекса на наличие дубликатов, если оно истинно."
   ]
  },
  {
   "cell_type": "markdown",
   "id": "b6588d8f-2fa1-41f0-9de4-ab4345245170",
   "metadata": {
    "jp-MarkdownHeadingCollapsed": true,
    "tags": []
   },
   "source": [
    "# как использовать метод Pandas DataFrame set_index()"
   ]
  },
  {
   "cell_type": "code",
   "execution_count": 7,
   "id": "49196bd0-d3fb-4109-83fb-f05604116737",
   "metadata": {
    "tags": []
   },
   "outputs": [
    {
     "name": "stdout",
     "output_type": "stream",
     "text": [
      "Original DataFrame:\n",
      "    ID     Name  Age\n",
      "0  101   Krunal   25\n",
      "1  102    Ankit   30\n",
      "2  103  Rushabh   35\n",
      "\n",
      "DataFrame after setting the 'ID' column as the index:\n",
      "        Name  Age\n",
      "ID               \n",
      "101   Krunal   25\n",
      "102    Ankit   30\n",
      "103  Rushabh   35\n"
     ]
    }
   ],
   "source": [
    "import pandas as pd\n",
    "\n",
    "# Create a sample DataFrame\n",
    "data = {'ID': [101, 102, 103], \n",
    "        'Name': ['Krunal', 'Ankit', 'Rushabh'], \n",
    "        'Age': [25, 30, 35]}\n",
    "df = pd.DataFrame(data)\n",
    "\n",
    "print(\"Original DataFrame:\")\n",
    "print(df)\n",
    "\n",
    "# Set the 'ID' column as the index\n",
    "df_indexed = df.set_index('ID')\n",
    "\n",
    "print(\"\\nDataFrame after setting the 'ID' column as the index:\")\n",
    "print(df_indexed)"
   ]
  },
  {
   "cell_type": "markdown",
   "id": "6b598afc-f023-4036-81ec-d6d9cc096f80",
   "metadata": {
    "jp-MarkdownHeadingCollapsed": true,
    "tags": []
   },
   "source": [
    "# как установить несколько столбцов в качестве индекса"
   ]
  },
  {
   "cell_type": "code",
   "execution_count": 8,
   "id": "a133ee12-7efc-4399-8238-b124db0c46cb",
   "metadata": {
    "tags": []
   },
   "outputs": [
    {
     "name": "stdout",
     "output_type": "stream",
     "text": [
      "Original DataFrame:\n",
      "    ID     Name  Age\n",
      "0  101    Alice   25\n",
      "1  102      Bob   30\n",
      "2  103  Charlie   35\n",
      "\n",
      "DataFrame after setting the 'ID' and 'Name' columns as the index:\n",
      "             Age\n",
      "ID  Name        \n",
      "101 Alice     25\n",
      "102 Bob       30\n",
      "103 Charlie   35\n"
     ]
    }
   ],
   "source": [
    "import pandas as pd\n",
    "\n",
    "# Create a sample DataFrame\n",
    "data = {'ID': [101, 102, 103], \n",
    "        'Name': ['Alice', 'Bob', 'Charlie'], \n",
    "        'Age': [25, 30, 35]}\n",
    "df = pd.DataFrame(data)\n",
    "\n",
    "print(\"Original DataFrame:\")\n",
    "print(df)\n",
    "\n",
    "# Set the 'ID' and 'Name' columns as the index\n",
    "df_multi_indexed = df.set_index(['ID', 'Name'])\n",
    "\n",
    "print(\"\\nDataFrame after setting the 'ID' and 'Name' columns as the index:\")\n",
    "print(df_multi_indexed)"
   ]
  },
  {
   "cell_type": "markdown",
   "id": "0014e495-5ac1-4641-9983-18e8c21e2119",
   "metadata": {
    "jp-MarkdownHeadingCollapsed": true,
    "tags": []
   },
   "source": [
    "# установка одного столбца с плавающей запятой в качестве индекса в Pandas DataFrame"
   ]
  },
  {
   "cell_type": "code",
   "execution_count": 9,
   "id": "3bdac435-669a-48e6-b414-693795c871a4",
   "metadata": {
    "tags": []
   },
   "outputs": [
    {
     "name": "stdout",
     "output_type": "stream",
     "text": [
      "     B  C\n",
      "A        \n",
      "1.1  a  5\n",
      "2.2  b  6\n",
      "3.3  c  7\n",
      "4.4  d  8\n"
     ]
    }
   ],
   "source": [
    "import pandas as pd\n",
    "\n",
    "df = pd.DataFrame({\n",
    "  'A': [1.1, 2.2, 3.3, 4.4],\n",
    "  'B': ['a', 'b', 'c', 'd'],\n",
    "  'C': [5, 6, 7, 8]\n",
    "})\n",
    "\n",
    "# Set column 'A' as the index\n",
    "df.set_index('A', inplace=True)\n",
    "print(df)"
   ]
  },
  {
   "cell_type": "markdown",
   "id": "985fd480-8531-43b5-b603-e9f4c8370444",
   "metadata": {
    "jp-MarkdownHeadingCollapsed": true,
    "tags": []
   },
   "source": [
    "# установка трех столбцов в качестве MultiIndex в Pandas DataFrame"
   ]
  },
  {
   "cell_type": "code",
   "execution_count": null,
   "id": "dbc48948-c998-4013-bce7-c4b0746b1cd1",
   "metadata": {},
   "outputs": [],
   "source": []
  },
  {
   "cell_type": "code",
   "execution_count": 10,
   "id": "21730718-1e32-4e43-9b05-a8d71b99acdd",
   "metadata": {
    "tags": []
   },
   "outputs": [
    {
     "name": "stdout",
     "output_type": "stream",
     "text": [
      "           D\n",
      "A  B  C     \n",
      "A0 B0 C0  D0\n",
      "A1 B1 C1  D1\n",
      "A2 B2 C2  D2\n",
      "A3 B3 C3  D3\n"
     ]
    }
   ],
   "source": [
    "import pandas as pd\n",
    "\n",
    "# Suppose we have the following DataFrame\n",
    "df = pd.DataFrame({\n",
    "  'A': ['A0', 'A1', 'A2', 'A3'],\n",
    "  'B': ['B0', 'B1', 'B2', 'B3'],\n",
    "  'C': ['C0', 'C1', 'C2', 'C3'],\n",
    "  'D': ['D0', 'D1', 'D2', 'D3']\n",
    "})\n",
    "\n",
    "# Set columns 'A', 'B' and 'C' as the index\n",
    "df.set_index(['A', 'B', 'C'], inplace=True)\n",
    "print(df)"
   ]
  },
  {
   "cell_type": "code",
   "execution_count": null,
   "id": "690624a6-3584-4b52-87a7-159787fe49ea",
   "metadata": {},
   "outputs": [],
   "source": []
  }
 ],
 "metadata": {
  "kernelspec": {
   "display_name": "Python 3 (ipykernel)",
   "language": "python",
   "name": "python3"
  },
  "language_info": {
   "codemirror_mode": {
    "name": "ipython",
    "version": 3
   },
   "file_extension": ".py",
   "mimetype": "text/x-python",
   "name": "python",
   "nbconvert_exporter": "python",
   "pygments_lexer": "ipython3",
   "version": "3.11.5"
  }
 },
 "nbformat": 4,
 "nbformat_minor": 5
}
