{
 "cells": [
  {
   "cell_type": "code",
   "execution_count": 1,
   "id": "95711ea1-2e46-4f52-943b-f09d4c01bb5d",
   "metadata": {
    "tags": []
   },
   "outputs": [
    {
     "data": {
      "text/plain": [
       "<function __main__.<lambda>(arguments)>"
      ]
     },
     "execution_count": 1,
     "metadata": {},
     "output_type": "execute_result"
    }
   ],
   "source": [
    "lambda arguments: expression"
   ]
  },
  {
   "cell_type": "code",
   "execution_count": null,
   "id": "3758448f-3573-4ec5-a802-2a2572df4cb9",
   "metadata": {},
   "outputs": [],
   "source": [
    "# Лямбда-функции могут иметь любое количество параметров, \n",
    "#        но только одно выражение. \n",
    "#        Это выражение оценивается и возвращается. \n",
    "# лямбда-функции можно использовать везде, \n",
    "#        где требуются функциональные объекты.\n"
   ]
  },
  {
   "cell_type": "code",
   "execution_count": 2,
   "id": "3734b072-606d-49b0-a588-71199a45177d",
   "metadata": {
    "tags": []
   },
   "outputs": [
    {
     "name": "stdout",
     "output_type": "stream",
     "text": [
      "1331\n"
     ]
    }
   ],
   "source": [
    "cube = lambda x: x * x * x\n",
    "print(cube(11))"
   ]
  },
  {
   "cell_type": "markdown",
   "id": "a8e20496-71e4-4118-9699-e4d9b15afbcd",
   "metadata": {},
   "source": [
    "# if-else в лямбда-функции"
   ]
  },
  {
   "cell_type": "code",
   "execution_count": null,
   "id": "b59d3763-7e52-4347-9462-433f75c038e0",
   "metadata": {},
   "outputs": [],
   "source": [
    "lambda <arguments> : <Return Value if condition is True> \n",
    "       if <condition> \n",
    "    else <Return Value if condition is False>"
   ]
  },
  {
   "cell_type": "code",
   "execution_count": null,
   "id": "2af8920d-bc9c-4ab1-aea2-29cf869146ba",
   "metadata": {},
   "outputs": [],
   "source": [
    "# Например, давайте создадим лямбда-функцию, чтобы проверить, \n",
    "#           находится ли заданное значение в диапазоне от 11 до 22.\n"
   ]
  },
  {
   "cell_type": "code",
   "execution_count": 4,
   "id": "cbd9f1c6-bd52-4f47-a19c-e10d2138a8ff",
   "metadata": {
    "tags": []
   },
   "outputs": [
    {
     "name": "stdout",
     "output_type": "stream",
     "text": [
      "True\n",
      "False\n",
      "True\n"
     ]
    }
   ],
   "source": [
    "verify = lambda x: True if(x > 11 and x < 22) else False\n",
    "print(verify(15))\n",
    "print(verify(22))\n",
    "print(verify(21))"
   ]
  },
  {
   "cell_type": "code",
   "execution_count": 5,
   "id": "29c2b2ac-9c53-4bcb-b75d-55993e62de56",
   "metadata": {
    "tags": []
   },
   "outputs": [
    {
     "name": "stdout",
     "output_type": "stream",
     "text": [
      "True\n",
      "False\n",
      "True\n",
      "False\n",
      "False\n"
     ]
    }
   ],
   "source": [
    "verify = lambda x: True if(x > 11 and x < 22) else False\n",
    "print(verify(15))\n",
    "print(verify(22))\n",
    "print(verify(21))\n",
    "print(verify(100))\n",
    "print(verify(205))"
   ]
  },
  {
   "cell_type": "markdown",
   "id": "f8c47a77-8971-4cde-9765-036107142c1d",
   "metadata": {},
   "source": [
    "# Условная лямбда-функция Python без if-else"
   ]
  },
  {
   "cell_type": "code",
   "execution_count": null,
   "id": "ba308c72-6a67-4b62-85df-410d8e5c6f3f",
   "metadata": {},
   "outputs": [],
   "source": [
    "# Мы можем избежать использования ключевых слов if & else \n",
    "#                   и при этом добиться тех же результатов. \n",
    "#          Например, давайте изменим созданную выше лямбда-функцию, \n",
    "#                    удалив ключевые слова if-else."
   ]
  },
  {
   "cell_type": "code",
   "execution_count": 6,
   "id": "89666a7a-6389-4000-bd29-118d8feb4ad7",
   "metadata": {
    "tags": []
   },
   "outputs": [
    {
     "name": "stdout",
     "output_type": "stream",
     "text": [
      "True\n",
      "False\n",
      "True\n"
     ]
    }
   ],
   "source": [
    "verify = lambda x : x > 11 and x < 22\n",
    "print(verify(15))\n",
    "print(verify(22))\n",
    "print(verify(21))"
   ]
  },
  {
   "cell_type": "markdown",
   "id": "01000cd2-832a-4530-afb4-eca52ecb4d87",
   "metadata": {},
   "source": [
    "# Функция filter() с условной лямбда-функцией"
   ]
  },
  {
   "cell_type": "code",
   "execution_count": 7,
   "id": "af021e42-1305-4f65-acd9-45607ef6f9da",
   "metadata": {
    "tags": []
   },
   "outputs": [
    {
     "name": "stdout",
     "output_type": "stream",
     "text": [
      "[21, 19]\n"
     ]
    }
   ],
   "source": [
    "listA = [11, 30, 21, 19, 10, 29, 46]\n",
    "\n",
    "listOutput = list(filter(lambda x: x > 11 and x < 22, listA))\n",
    "print(listOutput)"
   ]
  },
  {
   "cell_type": "code",
   "execution_count": null,
   "id": "aeeacfad-0b02-4979-9d4d-e293d30f9720",
   "metadata": {},
   "outputs": [],
   "source": [
    "# Он использует переданную лямбда-функцию для фильтрации элементов и, \n",
    "#                        в конце концов, возвращает список элементов, \n",
    "#                                находящихся в диапазоне от 11 до 22.\n"
   ]
  },
  {
   "cell_type": "markdown",
   "id": "6ef80545-92e7-4daf-9454-39fe90feeaef",
   "metadata": {},
   "source": [
    "# Использование if, elif и else в лямбда-функциях"
   ]
  },
  {
   "cell_type": "code",
   "execution_count": null,
   "id": "5e53e591-c874-4e0d-8d62-1e383031a43a",
   "metadata": {},
   "outputs": [],
   "source": [
    "lambda <args> : <return Value> \n",
    "if <condition >\n",
    "( <return value > if <condition> else <return value>)"
   ]
  },
  {
   "cell_type": "code",
   "execution_count": null,
   "id": "a7e0133d-2c20-4d53-93fe-f18ca908f154",
   "metadata": {},
   "outputs": [],
   "source": [
    "# Создайте лямбда-функцию, которая принимает число и возвращает новое число на основе этой логики,\n",
    "\n",
    "# Если заданное значение меньше 11, то вернуть, умножив его на 2.\n",
    "# В противном случае, если оно находится в диапазоне от 11 до 22, вернитесь, умножив его на 3.\n",
    "# Else возвращает то же самое неизмененное значение.\n"
   ]
  },
  {
   "cell_type": "code",
   "execution_count": 8,
   "id": "b6dc16c0-4593-4d56-a1e7-99e19294623f",
   "metadata": {
    "tags": []
   },
   "outputs": [
    {
     "name": "stdout",
     "output_type": "stream",
     "text": [
      "10\n",
      "24\n"
     ]
    }
   ],
   "source": [
    "converter = lambda x : x*2 if x < 11 else(x*3 if x < 22 else x)\n",
    "print(converter(5))\n",
    "print(converter(24))"
   ]
  },
  {
   "cell_type": "markdown",
   "id": "74e63218-d6c3-482f-81f0-c711d75af279",
   "metadata": {},
   "source": [
    "#### Что такое лямбда-функции в Python\n",
    "Узнайте о лямбда-функциях в Python, их синтаксисе, применении и ограничениях для создания простых анонимных функций.\n",
    "\n",
    "Лямбда-функции в Python являются анонимными функциями, которые могут быть определены с помощью ключевого слова lambda. Они обычно используются для создания коротких и простых функций, которые выполняют небольшую задачу. В отличие от обычных функций, определенных с помощью def, лямбда-функции не имеют имени и не требуют определения функции.\n",
    "\n",
    "Синтаксис лямбда-функций\n",
    "Синтаксис лямбда функций в Python выглядит следующим образом:"
   ]
  },
  {
   "cell_type": "code",
   "execution_count": null,
   "id": "f0d2d68c-cba4-46a9-9452-bcbe59206c85",
   "metadata": {},
   "outputs": [],
   "source": []
  }
 ],
 "metadata": {
  "kernelspec": {
   "display_name": "Python 3 (ipykernel)",
   "language": "python",
   "name": "python3"
  },
  "language_info": {
   "codemirror_mode": {
    "name": "ipython",
    "version": 3
   },
   "file_extension": ".py",
   "mimetype": "text/x-python",
   "name": "python",
   "nbconvert_exporter": "python",
   "pygments_lexer": "ipython3",
   "version": "3.11.5"
  }
 },
 "nbformat": 4,
 "nbformat_minor": 5
}
