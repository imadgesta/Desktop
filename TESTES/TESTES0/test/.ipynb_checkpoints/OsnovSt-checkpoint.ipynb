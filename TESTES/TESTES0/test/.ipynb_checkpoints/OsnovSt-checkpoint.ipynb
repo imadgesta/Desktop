{
 "cells": [
  {
   "cell_type": "code",
   "execution_count": 5,
   "id": "57cd12db-0136-4277-9a6b-458812e25000",
   "metadata": {
    "tags": []
   },
   "outputs": [
    {
     "name": "stdout",
     "output_type": "stream",
     "text": [
      "181.875\n",
      "179.5\n",
      "181.875\n",
      "182.609375\n",
      "182.609375\n",
      "208.69642857142858\n",
      "208.69642857142858\n",
      "13.513303630126869\n",
      "13.513303630126869\n"
     ]
    }
   ],
   "source": [
    "import statistics\n",
    "import math\n",
    "\n",
    "h = [165, 205, 175, 184, 194, 172, 167, 193]\n",
    "\n",
    "# Среднее\n",
    "h_avg = statistics.mean(h)\n",
    "\n",
    "# Дисперсия генеральной совокупности\n",
    "def find_general_variance(x):\n",
    "    variance = 0\n",
    "    for i in x:\n",
    "        variance += (i - h_avg) ** 2\n",
    "    return variance / len(x)\n",
    "\n",
    "# Дисперсия выборки\n",
    "def find_sample_variance(x):\n",
    "    variance = 0\n",
    "    for i in x:\n",
    "        variance += (i - h_avg) ** 2\n",
    "    return variance / (len(x) -1)\n",
    "\n",
    "# Среднее значение\n",
    "print(statistics.mean(h))\n",
    "print(statistics.median(h))\n",
    "print(statistics.fmean(h))\n",
    "\n",
    "# Дисперсия генеральной совокупности\n",
    "print(find_general_variance(h))\n",
    "print(statistics.pvariance(h))\n",
    "#\n",
    "# # Дисперсия выборки\n",
    "print(find_sample_variance(h))\n",
    "print(statistics.variance(h))\n",
    "\n",
    "# Стандартное отклонение от генеральной совокупности\n",
    "print(math.sqrt(find_general_variance(h)))\n",
    "print(statistics.pstdev(h))"
   ]
  },
  {
   "cell_type": "code",
   "execution_count": null,
   "id": "54a03552-4f11-4ec8-8fd0-e88ca3613405",
   "metadata": {},
   "outputs": [],
   "source": []
  }
 ],
 "metadata": {
  "kernelspec": {
   "display_name": "Python 3 (ipykernel)",
   "language": "python",
   "name": "python3"
  },
  "language_info": {
   "codemirror_mode": {
    "name": "ipython",
    "version": 3
   },
   "file_extension": ".py",
   "mimetype": "text/x-python",
   "name": "python",
   "nbconvert_exporter": "python",
   "pygments_lexer": "ipython3",
   "version": "3.11.5"
  }
 },
 "nbformat": 4,
 "nbformat_minor": 5
}
