{
 "cells": [
  {
   "cell_type": "markdown",
   "id": "0e1bf4e8-ee40-4b8f-bbd8-95ec69ddbd1f",
   "metadata": {},
   "source": [
    "# Алгоритмы"
   ]
  },
  {
   "cell_type": "code",
   "execution_count": null,
   "id": "67c90a0d-1cf3-427c-9f75-4c96cd6299d4",
   "metadata": {},
   "outputs": [],
   "source": []
  },
  {
   "cell_type": "code",
   "execution_count": 1,
   "id": "9f545246-61d2-496d-9d25-b18fe2e1a8ac",
   "metadata": {
    "tags": []
   },
   "outputs": [],
   "source": [
    "a = 2\n",
    "b = 5\n",
    "tmp = a  # tmp временная\n",
    "a = b\n",
    "b = tmp  # обмен двух переменных через третюю"
   ]
  },
  {
   "cell_type": "code",
   "execution_count": 2,
   "id": "05dfef68-6408-426e-8001-7e7a56da4a7c",
   "metadata": {
    "tags": []
   },
   "outputs": [],
   "source": [
    "# обмен через две дополнительные переменные\n",
    "a = 2\n",
    "b = 5\n",
    "tmp1 = b\n",
    "tmp2 = a\n",
    "a = tmp1\n",
    "b = tmp2"
   ]
  },
  {
   "cell_type": "code",
   "execution_count": 3,
   "id": "fde4f653-bf22-4008-b8d1-3d1dbaaecd8e",
   "metadata": {
    "tags": []
   },
   "outputs": [],
   "source": [
    "# каскадное присваивание\n",
    "x = y = z = 0"
   ]
  },
  {
   "cell_type": "code",
   "execution_count": 4,
   "id": "dd216a6d-0506-40b0-a744-ba500d191272",
   "metadata": {
    "tags": []
   },
   "outputs": [],
   "source": [
    "# множественное присваивание\n",
    "x,y,z = 1,2,3    # картеж переменных и картеж значений"
   ]
  },
  {
   "cell_type": "code",
   "execution_count": 5,
   "id": "0dfeb5bb-b556-4e84-933c-f6848f9150b1",
   "metadata": {
    "tags": []
   },
   "outputs": [],
   "source": [
    "tmp1,tmp2 = b,a\n",
    "a,b = tmp1,tmp2\n",
    "a,b = b,a"
   ]
  },
  {
   "cell_type": "markdown",
   "id": "03c7a096-1080-48a4-bd80-b4ce2261535c",
   "metadata": {},
   "source": [
    "# Арифметические операции"
   ]
  },
  {
   "cell_type": "code",
   "execution_count": 7,
   "id": "42615ca2-4951-4c68-8ad6-cd81940c1409",
   "metadata": {
    "tags": []
   },
   "outputs": [
    {
     "data": {
      "text/plain": [
       "1.7320508075688772"
      ]
     },
     "execution_count": 7,
     "metadata": {},
     "output_type": "execute_result"
    }
   ],
   "source": [
    "x ** y  # возведение в степень\n",
    "3 ** 0.5 # квадратный корень из трёх"
   ]
  },
  {
   "cell_type": "code",
   "execution_count": 8,
   "id": "db0f7bae-28e2-4ee1-8553-d440fbdce393",
   "metadata": {
    "tags": []
   },
   "outputs": [],
   "source": [
    "# унарный минус"
   ]
  },
  {
   "cell_type": "code",
   "execution_count": 9,
   "id": "6f48ed14-9f51-47c1-b5a2-4bf1e1e59f49",
   "metadata": {
    "tags": []
   },
   "outputs": [
    {
     "data": {
      "text/plain": [
       "True"
      ]
     },
     "execution_count": 9,
     "metadata": {},
     "output_type": "execute_result"
    }
   ],
   "source": [
    "-x == -x"
   ]
  },
  {
   "cell_type": "code",
   "execution_count": 10,
   "id": "534dbf46-ff0b-45a0-9f14-d48fc94468d4",
   "metadata": {
    "tags": []
   },
   "outputs": [],
   "source": [
    "# умножение и деление"
   ]
  },
  {
   "cell_type": "code",
   "execution_count": 11,
   "id": "4f857fe6-22b1-4f6e-9026-3076cb908e14",
   "metadata": {
    "tags": []
   },
   "outputs": [
    {
     "data": {
      "text/plain": [
       "2"
      ]
     },
     "execution_count": 11,
     "metadata": {},
     "output_type": "execute_result"
    }
   ],
   "source": [
    "x * y"
   ]
  },
  {
   "cell_type": "code",
   "execution_count": 12,
   "id": "27392e35-b7f6-4565-82fa-8ca4fe78824b",
   "metadata": {
    "tags": []
   },
   "outputs": [
    {
     "data": {
      "text/plain": [
       "0.6666666666666666"
      ]
     },
     "execution_count": 12,
     "metadata": {},
     "output_type": "execute_result"
    }
   ],
   "source": [
    "x / y\n",
    "2 / 3"
   ]
  },
  {
   "cell_type": "code",
   "execution_count": 13,
   "id": "8ae21782-dccd-4f77-91ee-2f441bd17967",
   "metadata": {
    "tags": []
   },
   "outputs": [
    {
     "name": "stdout",
     "output_type": "stream",
     "text": [
      "<class 'float'>\n"
     ]
    }
   ],
   "source": [
    "print(type(0.666666666666666))"
   ]
  },
  {
   "cell_type": "code",
   "execution_count": 14,
   "id": "b3f5898a-007d-4a74-87d7-895f5dfad5fd",
   "metadata": {
    "tags": []
   },
   "outputs": [
    {
     "data": {
      "text/plain": [
       "3"
      ]
     },
     "execution_count": 14,
     "metadata": {},
     "output_type": "execute_result"
    }
   ],
   "source": [
    "16 // 5  # отбрасывание остатка"
   ]
  },
  {
   "cell_type": "code",
   "execution_count": null,
   "id": "94760425-4eb8-4c22-b809-f9f405ae7233",
   "metadata": {},
   "outputs": [],
   "source": [
    "x % y # y это остаток"
   ]
  },
  {
   "cell_type": "code",
   "execution_count": null,
   "id": "ceaf40e6-9866-4ad7-9d55-b7e258ca5025",
   "metadata": {},
   "outputs": [],
   "source": [
    "x - y = x - y\n",
    "x + y = x + y"
   ]
  },
  {
   "cell_type": "markdown",
   "id": "1062af97-1d38-4b2f-8ae3-e0addd05143d",
   "metadata": {},
   "source": [
    "# управляющие операции"
   ]
  },
  {
   "cell_type": "markdown",
   "id": "91dce43f-bde9-4728-96bb-d743a658b3d0",
   "metadata": {},
   "source": [
    "# циклы и ветвления"
   ]
  },
  {
   "cell_type": "code",
   "execution_count": null,
   "id": "45f847ab-4448-4c53-82b7-872474c54717",
   "metadata": {},
   "outputs": [],
   "source": [
    "# while - цикл с предусловием"
   ]
  },
  {
   "cell_type": "code",
   "execution_count": null,
   "id": "b020eb52-dd8c-4b4f-be34-429baddd7be9",
   "metadata": {},
   "outputs": [],
   "source": [
    "до\n",
    "while УСЛОВИЕ    # ЗАГОЛОВОК\n",
    "    ОПЕРАТОР 1\n",
    "    if что-то\n",
    "       break\n",
    "    ОПЕРАТОР 2\n",
    "    ........\n",
    "    ОПЕРАТОР n  # отступ обязателен, он выделяет ТЕЛО ЦИКЛА\n",
    "\n",
    "# ИТЕРАЦИЯ - однократное выполнение ТЕЛА ЦИКЛА - ход выполнения\n",
    "\n",
    "else:\n",
    "    после всех\n",
    "    ИТЕРАЦИЙ\n",
    "после"
   ]
  },
  {
   "cell_type": "code",
   "execution_count": null,
   "id": "7ad4c0a8-36e9-485e-83c0-055f03c95839",
   "metadata": {},
   "outputs": [],
   "source": [
    "# ВЛОЖЕННЫЕ ЦИКЛЫ"
   ]
  },
  {
   "cell_type": "code",
   "execution_count": null,
   "id": "a8b75fdf-5725-406d-b85f-1b0ecf62049e",
   "metadata": {},
   "outputs": [],
   "source": [
    "# ОПЕРАТОР ПРИСВАИВАНИЯ\n",
    "X = X + 1 # ТОЖЕ САМОЕ   X += 1\n",
    "X = X - 10  -----        X -= 10"
   ]
  },
  {
   "cell_type": "code",
   "execution_count": 4,
   "id": "a1361c4f-344e-4490-919e-64ceca0f3f61",
   "metadata": {
    "tags": []
   },
   "outputs": [],
   "source": [
    "def do_twice(func):\n",
    "    def wrapper_do_twice(*args, **kwargs):\n",
    "        func(*args, **kwargs)\n",
    "        func(*args, **kwargs)\n",
    "    return wrapper_do_twice"
   ]
  },
  {
   "cell_type": "code",
   "execution_count": 1,
   "id": "a08caf16-e341-4119-bbe7-5685a3bf0c7b",
   "metadata": {
    "tags": []
   },
   "outputs": [
    {
     "ename": "IndentationError",
     "evalue": "expected an indented block after 'if' statement on line 1 (3282169472.py, line 2)",
     "output_type": "error",
     "traceback": [
      "\u001b[1;36m  Cell \u001b[1;32mIn[1], line 2\u001b[1;36m\u001b[0m\n\u001b[1;33m    print(\"Пять больше двух!\")\u001b[0m\n\u001b[1;37m    ^\u001b[0m\n\u001b[1;31mIndentationError\u001b[0m\u001b[1;31m:\u001b[0m expected an indented block after 'if' statement on line 1\n"
     ]
    }
   ],
   "source": [
    "if 5 > 2:  \n",
    "print(\"Пять больше двух!\")"
   ]
  },
  {
   "cell_type": "code",
   "execution_count": 6,
   "id": "a9fdbd90-10f0-4e21-b40b-0d43aae2bf4a",
   "metadata": {
    "tags": []
   },
   "outputs": [
    {
     "name": "stdout",
     "output_type": "stream",
     "text": [
      "Пять больше двух!\n"
     ]
    }
   ],
   "source": [
    "if 5 > 2:  \n",
    "    print(\"Пять больше двух!\")"
   ]
  },
  {
   "cell_type": "code",
   "execution_count": 7,
   "id": "194962a8-68e7-4c6d-97c3-d77e94ef9509",
   "metadata": {
    "tags": []
   },
   "outputs": [
    {
     "name": "stdout",
     "output_type": "stream",
     "text": [
      "5\n",
      "Саша\n"
     ]
    }
   ],
   "source": [
    "x = 5  \n",
    "y = \"Саша\"  \n",
    "print(x)  \n",
    "print(y)"
   ]
  },
  {
   "cell_type": "code",
   "execution_count": 4,
   "id": "998fac6f-76ee-4bbe-9a6c-91f6e324105f",
   "metadata": {},
   "outputs": [
    {
     "name": "stdout",
     "output_type": "stream",
     "text": [
      "0    a\n",
      "1    b\n",
      "2    c\n",
      "3    d\n",
      "dtype: object\n"
     ]
    }
   ],
   "source": [
    "import pandas as pd\n",
    "import numpy as np\n",
    "data = np.array(['a','b','c','d'])\n",
    "seri = pd.Series(data)\n",
    "print(seri)"
   ]
  },
  {
   "cell_type": "code",
   "execution_count": null,
   "id": "c8326ee9-d2bb-445e-82f6-9f1d38673d78",
   "metadata": {},
   "outputs": [],
   "source": []
  }
 ],
 "metadata": {
  "kernelspec": {
   "display_name": "Python 3 (ipykernel)",
   "language": "python",
   "name": "python3"
  },
  "language_info": {
   "codemirror_mode": {
    "name": "ipython",
    "version": 3
   },
   "file_extension": ".py",
   "mimetype": "text/x-python",
   "name": "python",
   "nbconvert_exporter": "python",
   "pygments_lexer": "ipython3",
   "version": "3.11.5"
  }
 },
 "nbformat": 4,
 "nbformat_minor": 5
}
