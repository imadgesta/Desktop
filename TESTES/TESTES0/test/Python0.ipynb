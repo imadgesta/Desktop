{
 "cells": [
  {
   "cell_type": "markdown",
   "id": "9c5e5c34-072b-421f-bd8c-1335fbe49913",
   "metadata": {
    "tags": []
   },
   "source": [
    "# Разница между __str__ и __repr__ "
   ]
  },
  {
   "cell_type": "markdown",
   "id": "c25cec4b-1691-45b1-9a9c-44bbdeafe3a6",
   "metadata": {
    "tags": []
   },
   "source": [
    "#### Часто при работе с объектами в Python возникает потребность в представлении объектов в виде строк. Это может быть полезно для отладки, логирования или\n",
    "\n",
    "Часто при работе с объектами в Python возникает потребность в представлении объектов в виде строк. Это может быть полезно для отладки, логирования или просто для вывода информации о объекте. В Python для этого существуют два специальных метода: __str__ и __repr__.\n",
    "\n",
    "Предположим, что есть класс Cat, который имеет атрибуты name и age. Можно было бы представить объект этого класса в виде строки следующим образом:"
   ]
  },
  {
   "cell_type": "code",
   "execution_count": 1,
   "id": "21fa49ac-d2a1-4856-bc66-13c144c4e343",
   "metadata": {
    "tags": []
   },
   "outputs": [],
   "source": [
    "class Cat:\n",
    "    def __init__(self, name, age):\n",
    "        self.name = name\n",
    "        self.age = age\n",
    " \n",
    "    def __str__(self):\n",
    "        return f'Cat(name={self.name}, age={self.age})'"
   ]
  },
  {
   "cell_type": "markdown",
   "id": "fff89ac1-7c59-484d-91d6-430448aa9817",
   "metadata": {
    "tags": []
   },
   "source": [
    "#### Тогда при попытке преобразовать объект класса Cat в строку, будет получено представление объекта в виде Cat(name=Fluffy, age=5)."
   ]
  },
  {
   "cell_type": "markdown",
   "id": "1679f438-2567-4ca9-bbd1-cf6ac84619f0",
   "metadata": {
    "tags": []
   },
   "source": [
    "#### Однако, что если нужно получить более детальное или иное представление объекта, которое будет удобно использовать для отладки или логирования? Здесь на помощь приходит метод __repr__.\n",
    "\n",
    "Метод __repr__ предназначен для создания «официального» строкового представления объекта, которое может быть использовано для воссоздания объекта при помощи функции eval(). Вернувшись к нашему примеру с классом Cat, можно добавить метод __repr__ следующим образом:"
   ]
  },
  {
   "cell_type": "code",
   "execution_count": 2,
   "id": "f0c7aecf-557a-4d6f-b828-d91d3cf614e2",
   "metadata": {
    "tags": []
   },
   "outputs": [],
   "source": [
    "class Cat:\n",
    "    def __init__(self, name, age):\n",
    "        self.name = name\n",
    "        self.age = age\n",
    " \n",
    "    def __str__(self):\n",
    "        return f'Cat(name={self.name}, age={self.age})'\n",
    " \n",
    "    def __repr__(self):\n",
    "        return f'Cat(name={self.name!r}, age={self.age!r})'"
   ]
  },
  {
   "cell_type": "markdown",
   "id": "502c7b10-c4d9-431a-bcef-3e4f600f83e0",
   "metadata": {},
   "source": [
    "#### Теперь при вызове repr() для объекта класса Cat, будет получено представление объекта в виде Cat(name='Fluffy', age=5), которое может быть использовано для воссоздания объекта.\n",
    "\n",
    "Важно отметить, что если для класса определен только метод __repr__, то он будет использован и при вызове str(). Однако, если определены оба метода, __str__ и __repr__, то при вызове str() будет использован __str__, а при вызове repr() — __repr__.\n",
    "\n",
    "Итак, главное отличие между __str__ и __repr__ в Python заключается в их назначении: __str__ предназначен для создания «приятного» для чтения представления объекта, в то время как __repr__ предназначен для создания «официального» представления, которое может быть использовано для воссоздания объекта."
   ]
  },
  {
   "cell_type": "markdown",
   "id": "49f77c84-16ad-4143-bc2d-6800b2be850b",
   "metadata": {},
   "source": [
    "#### Имя sys.platform – это просто строковая переменная, содержимое которой \n",
    "идентифицирует тип компьютера, на котором выполняется сценарий. Эта пе\u0002ременная находится в стандартном модуле с именем sys, который необходимо \n",
    "загрузить с помощью инструкции import ."
   ]
  },
  {
   "cell_type": "code",
   "execution_count": 29,
   "id": "88c5e95b-59d1-44c2-b16a-5c40bdeb1633",
   "metadata": {
    "tags": []
   },
   "outputs": [
    {
     "name": "stdout",
     "output_type": "stream",
     "text": [
      "win32\n"
     ]
    }
   ],
   "source": [
    "import sys # Загружает библиотечный модуль\n",
    "print(sys.platform)"
   ]
  },
  {
   "cell_type": "code",
   "execution_count": 60,
   "id": "56bb86a9-7bb9-4077-a0f0-e5e09ed157ad",
   "metadata": {
    "tags": []
   },
   "outputs": [
    {
     "name": "stdout",
     "output_type": "stream",
     "text": [
      "0\n",
      "1\n",
      "1\n",
      "2\n",
      "3\n",
      "5\n",
      "8\n"
     ]
    }
   ],
   "source": [
    "# Fibonacci series:\n",
    "# the sum of two elements defines the next\n",
    "a, b = 0, 1\n",
    "while a < 10:\n",
    "    print(a)\n",
    "    a, b = b, a+b"
   ]
  },
  {
   "cell_type": "code",
   "execution_count": 61,
   "id": "6396a635-4482-4749-9ca2-ad5c9c7c7e02",
   "metadata": {
    "tags": []
   },
   "outputs": [
    {
     "name": "stdout",
     "output_type": "stream",
     "text": [
      "15 35 100\n"
     ]
    }
   ],
   "source": [
    "a = 10 + 5\n",
    "b = a + 20\n",
    "c = (a + b) * 2\n",
    "print(a, b, c)"
   ]
  },
  {
   "cell_type": "code",
   "execution_count": 68,
   "id": "881eb6bf-9f19-4b45-b862-a8abcd9639f3",
   "metadata": {
    "tags": []
   },
   "outputs": [],
   "source": [
    "l = list[1, 2, 3]"
   ]
  },
  {
   "cell_type": "code",
   "execution_count": 69,
   "id": "2dcda6d9-6f62-46a4-be68-b5e6d2e696ff",
   "metadata": {
    "tags": []
   },
   "outputs": [
    {
     "data": {
      "text/plain": [
       "list[1, 2, 3]"
      ]
     },
     "execution_count": 69,
     "metadata": {},
     "output_type": "execute_result"
    }
   ],
   "source": [
    "l "
   ]
  },
  {
   "cell_type": "code",
   "execution_count": 70,
   "id": "2c70beb2-74c0-43d6-9261-ae9970cea613",
   "metadata": {
    "tags": []
   },
   "outputs": [
    {
     "ename": "TypeError",
     "evalue": "unbound method list.sort() needs an argument",
     "output_type": "error",
     "traceback": [
      "\u001b[1;31m---------------------------------------------------------------------------\u001b[0m",
      "\u001b[1;31mTypeError\u001b[0m                                 Traceback (most recent call last)",
      "Cell \u001b[1;32mIn[70], line 1\u001b[0m\n\u001b[1;32m----> 1\u001b[0m l\u001b[38;5;241m.\u001b[39msort()\n",
      "\u001b[1;31mTypeError\u001b[0m: unbound method list.sort() needs an argument"
     ]
    }
   ],
   "source": [
    "l.sort()"
   ]
  },
  {
   "cell_type": "code",
   "execution_count": null,
   "id": "7ea38d01-a198-47a2-bb36-d3e341047156",
   "metadata": {},
   "outputs": [],
   "source": []
  }
 ],
 "metadata": {
  "kernelspec": {
   "display_name": "Python 3 (ipykernel)",
   "language": "python",
   "name": "python3"
  },
  "language_info": {
   "codemirror_mode": {
    "name": "ipython",
    "version": 3
   },
   "file_extension": ".py",
   "mimetype": "text/x-python",
   "name": "python",
   "nbconvert_exporter": "python",
   "pygments_lexer": "ipython3",
   "version": "3.11.5"
  }
 },
 "nbformat": 4,
 "nbformat_minor": 5
}
