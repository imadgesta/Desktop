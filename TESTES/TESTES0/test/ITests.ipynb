{
 "cells": [
  {
   "cell_type": "code",
   "execution_count": 41,
   "id": "1abb9260-7fae-4440-aeb2-cf460006b496",
   "metadata": {
    "tags": []
   },
   "outputs": [],
   "source": [
    "l = [0, 1, 2, 3, 4, 5, 6]"
   ]
  },
  {
   "cell_type": "code",
   "execution_count": 42,
   "id": "abb1ee61-6c84-4870-8e1a-8bedab49976f",
   "metadata": {
    "tags": []
   },
   "outputs": [],
   "source": [
    "l2 = ['A, B, C, D, F, G']"
   ]
  },
  {
   "cell_type": "markdown",
   "id": "14f186a7-e8cd-4a11-ae0c-6b6ca35a04c0",
   "metadata": {},
   "source": [
    "# .append"
   ]
  },
  {
   "cell_type": "code",
   "execution_count": 43,
   "id": "2ec5ef7b-9303-4bd1-a80d-d6a2c9f4b429",
   "metadata": {
    "tags": []
   },
   "outputs": [],
   "source": [
    "l.append(l2)"
   ]
  },
  {
   "cell_type": "code",
   "execution_count": 44,
   "id": "5f08d02f-0b87-43fd-89ae-49e37241640f",
   "metadata": {
    "tags": []
   },
   "outputs": [
    {
     "data": {
      "text/plain": [
       "[0, 1, 2, 3, 4, 5, 6, ['A, B, C, D, F, G']]"
      ]
     },
     "execution_count": 44,
     "metadata": {},
     "output_type": "execute_result"
    }
   ],
   "source": [
    "l"
   ]
  },
  {
   "cell_type": "markdown",
   "id": "d5a9761c-cf11-4398-af18-2624e7a62ea0",
   "metadata": {},
   "source": [
    "# .extend"
   ]
  },
  {
   "cell_type": "code",
   "execution_count": 45,
   "id": "47fddc6f-e33b-4639-92e4-e94ba7cdcb1c",
   "metadata": {
    "tags": []
   },
   "outputs": [],
   "source": [
    "l.extend(l2)"
   ]
  },
  {
   "cell_type": "code",
   "execution_count": 46,
   "id": "ffa20eb8-c246-459a-be63-c0c672851726",
   "metadata": {
    "tags": []
   },
   "outputs": [
    {
     "data": {
      "text/plain": [
       "[0, 1, 2, 3, 4, 5, 6, ['A, B, C, D, F, G'], 'A, B, C, D, F, G']"
      ]
     },
     "execution_count": 46,
     "metadata": {},
     "output_type": "execute_result"
    }
   ],
   "source": [
    "l"
   ]
  },
  {
   "cell_type": "markdown",
   "id": "bd057655-430f-45e8-8942-ee1461e6930e",
   "metadata": {},
   "source": [
    "# .insert"
   ]
  },
  {
   "cell_type": "code",
   "execution_count": 32,
   "id": "011622e5-3f4b-4951-904f-6b6855240d31",
   "metadata": {
    "tags": []
   },
   "outputs": [],
   "source": [
    "l.insert(3, \"lalala\")"
   ]
  },
  {
   "cell_type": "code",
   "execution_count": 33,
   "id": "b2b41e6d-0b69-41b8-844b-b8a21e5b047a",
   "metadata": {
    "tags": []
   },
   "outputs": [
    {
     "data": {
      "text/plain": [
       "[0, 1, 2, 'lalala', 3, 4, 5, 6, ['A, B, C, D, F, G'], 'A, B, C, D, F, G']"
      ]
     },
     "execution_count": 33,
     "metadata": {},
     "output_type": "execute_result"
    }
   ],
   "source": [
    "l"
   ]
  },
  {
   "cell_type": "markdown",
   "id": "94e28dfc-fe6b-4714-9392-ce5fc92eee1c",
   "metadata": {},
   "source": [
    "# del[]"
   ]
  },
  {
   "cell_type": "code",
   "execution_count": 35,
   "id": "f55daa6e-0c1d-40f3-b206-5f846b8a0efc",
   "metadata": {
    "tags": []
   },
   "outputs": [],
   "source": [
    "del l[3]"
   ]
  },
  {
   "cell_type": "code",
   "execution_count": 36,
   "id": "384fff1c-56c8-4189-85f6-29789f63650c",
   "metadata": {
    "tags": []
   },
   "outputs": [
    {
     "data": {
      "text/plain": [
       "[0, 1, 2, 3, 4, 5, 6, ['A, B, C, D, F, G'], 'A, B, C, D, F, G']"
      ]
     },
     "execution_count": 36,
     "metadata": {},
     "output_type": "execute_result"
    }
   ],
   "source": [
    "l"
   ]
  },
  {
   "cell_type": "code",
   "execution_count": 37,
   "id": "d45c3697-dea0-4abd-9cbf-5aefdf70f1c0",
   "metadata": {
    "tags": []
   },
   "outputs": [],
   "source": [
    "del l[7]"
   ]
  },
  {
   "cell_type": "code",
   "execution_count": 38,
   "id": "832f3683-6835-4f95-8a10-bafdbaf8a69a",
   "metadata": {
    "tags": []
   },
   "outputs": [
    {
     "data": {
      "text/plain": [
       "[0, 1, 2, 3, 4, 5, 6, 'A, B, C, D, F, G']"
      ]
     },
     "execution_count": 38,
     "metadata": {},
     "output_type": "execute_result"
    }
   ],
   "source": [
    "l"
   ]
  },
  {
   "cell_type": "code",
   "execution_count": 39,
   "id": "3b8b12b1-7e78-4130-a2d7-28391b836c90",
   "metadata": {
    "tags": []
   },
   "outputs": [],
   "source": [
    "del l[7]"
   ]
  },
  {
   "cell_type": "code",
   "execution_count": 40,
   "id": "164a9136-a62d-4780-964f-1a367a39c234",
   "metadata": {
    "tags": []
   },
   "outputs": [
    {
     "data": {
      "text/plain": [
       "[0, 1, 2, 3, 4, 5, 6]"
      ]
     },
     "execution_count": 40,
     "metadata": {},
     "output_type": "execute_result"
    }
   ],
   "source": [
    "l"
   ]
  },
  {
   "cell_type": "markdown",
   "id": "94af7090-f39c-488a-a5e7-edb958199e22",
   "metadata": {},
   "source": [
    "# .remove()"
   ]
  },
  {
   "cell_type": "code",
   "execution_count": 47,
   "id": "b4ed90e7-e1fe-4771-a74a-9c92da3edc83",
   "metadata": {
    "tags": []
   },
   "outputs": [
    {
     "data": {
      "text/plain": [
       "[0, 1, 2, 3, 4, 5, 6, ['A, B, C, D, F, G'], 'A, B, C, D, F, G']"
      ]
     },
     "execution_count": 47,
     "metadata": {},
     "output_type": "execute_result"
    }
   ],
   "source": [
    "l"
   ]
  },
  {
   "cell_type": "code",
   "execution_count": 50,
   "id": "d6f6a5a7-5947-420e-a659-4a206f59150b",
   "metadata": {
    "tags": []
   },
   "outputs": [],
   "source": [
    "l.remove('A, B, C, D, F, G')"
   ]
  },
  {
   "cell_type": "code",
   "execution_count": 51,
   "id": "3bb6aaa0-0438-4a11-844d-9ee597f9ce14",
   "metadata": {
    "tags": []
   },
   "outputs": [
    {
     "data": {
      "text/plain": [
       "[0, 1, 2, 3, 4, 5, 6, ['A, B, C, D, F, G']]"
      ]
     },
     "execution_count": 51,
     "metadata": {},
     "output_type": "execute_result"
    }
   ],
   "source": [
    "l"
   ]
  },
  {
   "cell_type": "code",
   "execution_count": 52,
   "id": "fa8c568a-3f96-473a-bb9f-a3e8a4ba55cd",
   "metadata": {
    "tags": []
   },
   "outputs": [],
   "source": [
    "l.remove(['A, B, C, D, F, G'])"
   ]
  },
  {
   "cell_type": "code",
   "execution_count": 53,
   "id": "2786a253-d13c-40aa-9001-aaa942c3e4bd",
   "metadata": {
    "tags": []
   },
   "outputs": [
    {
     "data": {
      "text/plain": [
       "[0, 1, 2, 3, 4, 5, 6]"
      ]
     },
     "execution_count": 53,
     "metadata": {},
     "output_type": "execute_result"
    }
   ],
   "source": [
    "l"
   ]
  },
  {
   "cell_type": "code",
   "execution_count": 54,
   "id": "4e45fa80-132a-45e0-859e-ea7351559dc4",
   "metadata": {
    "tags": []
   },
   "outputs": [],
   "source": [
    "l.remove(0)"
   ]
  },
  {
   "cell_type": "code",
   "execution_count": 55,
   "id": "a7bdc234-0549-45a1-9171-2719cda8aadf",
   "metadata": {
    "tags": []
   },
   "outputs": [
    {
     "data": {
      "text/plain": [
       "[1, 2, 3, 4, 5, 6]"
      ]
     },
     "execution_count": 55,
     "metadata": {},
     "output_type": "execute_result"
    }
   ],
   "source": [
    "l"
   ]
  },
  {
   "cell_type": "code",
   "execution_count": 56,
   "id": "16d38e07-469e-4264-b084-3e87426c5378",
   "metadata": {
    "tags": []
   },
   "outputs": [],
   "source": [
    "l2 = ['A, B, C, D, F, G']"
   ]
  },
  {
   "cell_type": "code",
   "execution_count": 57,
   "id": "86a127e5-8447-4018-ba4f-c3ded1094f6b",
   "metadata": {
    "tags": []
   },
   "outputs": [
    {
     "data": {
      "text/plain": [
       "[1, 2, 3, 4, 5, 6, 'A, B, C, D, F, G']"
      ]
     },
     "execution_count": 57,
     "metadata": {},
     "output_type": "execute_result"
    }
   ],
   "source": [
    "l + l2"
   ]
  },
  {
   "cell_type": "markdown",
   "id": "4b0a21e4-54e2-4d01-b763-3c51a7d1eb72",
   "metadata": {},
   "source": [
    "# .count() -подсчёт значений в списке"
   ]
  },
  {
   "cell_type": "code",
   "execution_count": 69,
   "id": "91ff9656-43bd-4049-be95-64e01b81f1f3",
   "metadata": {
    "tags": []
   },
   "outputs": [],
   "source": [
    "l = l + l2"
   ]
  },
  {
   "cell_type": "code",
   "execution_count": 70,
   "id": "f7ac6d77-6573-49f3-bd5e-c8eeaa28515b",
   "metadata": {
    "tags": []
   },
   "outputs": [
    {
     "data": {
      "text/plain": [
       "[1, 2, 3, 4, 5, 6, 'A, B, C, D, F, G', 'A, B, C, D, F, G']"
      ]
     },
     "execution_count": 70,
     "metadata": {},
     "output_type": "execute_result"
    }
   ],
   "source": [
    "l"
   ]
  },
  {
   "cell_type": "code",
   "execution_count": 63,
   "id": "3d4f19fa-1f09-44a1-a0e9-cd03c0debfc7",
   "metadata": {
    "tags": []
   },
   "outputs": [
    {
     "data": {
      "text/plain": [
       "1"
      ]
     },
     "execution_count": 63,
     "metadata": {},
     "output_type": "execute_result"
    }
   ],
   "source": [
    "l.count(1)"
   ]
  },
  {
   "cell_type": "code",
   "execution_count": 65,
   "id": "2eab8413-e4ce-4aec-9641-86a5f675c6fd",
   "metadata": {
    "tags": []
   },
   "outputs": [
    {
     "data": {
      "text/plain": [
       "0"
      ]
     },
     "execution_count": 65,
     "metadata": {},
     "output_type": "execute_result"
    }
   ],
   "source": [
    "l.count('A')"
   ]
  },
  {
   "cell_type": "code",
   "execution_count": 66,
   "id": "a9cb3ca3-ed8f-4cf1-a793-ac43f17de474",
   "metadata": {
    "tags": []
   },
   "outputs": [
    {
     "data": {
      "text/plain": [
       "1"
      ]
     },
     "execution_count": 66,
     "metadata": {},
     "output_type": "execute_result"
    }
   ],
   "source": [
    "l.count('A, B, C, D, F, G')"
   ]
  },
  {
   "cell_type": "code",
   "execution_count": 71,
   "id": "a262e6ea-5e14-4f26-b1c0-a130076c2481",
   "metadata": {
    "tags": []
   },
   "outputs": [
    {
     "data": {
      "text/plain": [
       "'A, B, C, D, F, G'"
      ]
     },
     "execution_count": 71,
     "metadata": {},
     "output_type": "execute_result"
    }
   ],
   "source": [
    "l[6]"
   ]
  },
  {
   "cell_type": "code",
   "execution_count": 72,
   "id": "901e53d9-4842-4c6e-9105-408e849f0fb3",
   "metadata": {
    "tags": []
   },
   "outputs": [
    {
     "data": {
      "text/plain": [
       "6"
      ]
     },
     "execution_count": 72,
     "metadata": {},
     "output_type": "execute_result"
    }
   ],
   "source": [
    "l[5]"
   ]
  },
  {
   "cell_type": "code",
   "execution_count": 73,
   "id": "0330f6e9-2c29-464c-8843-4d24e64df14f",
   "metadata": {
    "tags": []
   },
   "outputs": [
    {
     "data": {
      "text/plain": [
       "'A, B, C, D, F, G'"
      ]
     },
     "execution_count": 73,
     "metadata": {},
     "output_type": "execute_result"
    }
   ],
   "source": [
    "l[-1]"
   ]
  },
  {
   "cell_type": "code",
   "execution_count": null,
   "id": "756ce803-2ca6-4da2-a14d-803cc6f81ce0",
   "metadata": {},
   "outputs": [],
   "source": []
  },
  {
   "cell_type": "code",
   "execution_count": null,
   "id": "8efc739b-770e-48b7-b8d9-19b10071a27b",
   "metadata": {},
   "outputs": [],
   "source": []
  },
  {
   "cell_type": "markdown",
   "id": "c0c84a69-32a6-4dc2-8ace-4a6844867587",
   "metadata": {},
   "source": [
    "# numpy.random.randn() в Python"
   ]
  },
  {
   "cell_type": "code",
   "execution_count": 1,
   "id": "d5af84e4-6d54-4ece-8528-8837d384e828",
   "metadata": {
    "tags": []
   },
   "outputs": [],
   "source": [
    "import numpy as np"
   ]
  },
  {
   "cell_type": "code",
   "execution_count": 2,
   "id": "d55a272b-8426-4ef6-b4d2-959a3a28f89c",
   "metadata": {
    "collapsed": true,
    "jupyter": {
     "outputs_hidden": true
    },
    "tags": []
   },
   "outputs": [
    {
     "data": {
      "text/plain": [
       "{0: -0.6734940875943568,\n",
       " 1: -0.1659472802539324,\n",
       " 2: -2.9109678775679257,\n",
       " 3: -0.3693821392469588,\n",
       " 4: 1.4556705409832011,\n",
       " 5: 1.0860794395516031,\n",
       " 6: 1.07704975374296}"
      ]
     },
     "execution_count": 2,
     "metadata": {},
     "output_type": "execute_result"
    }
   ],
   "source": [
    "data = {i : np.random.randn() for i in range(7)}\n",
    "data"
   ]
  },
  {
   "cell_type": "code",
   "execution_count": null,
   "id": "6853053a-c145-48ed-b800-50b33e0e82a0",
   "metadata": {},
   "outputs": [],
   "source": [
    "# numpy.random.randn() создает массив указанных фигур и заполняет их \n",
    "#     случайными заданными значениями в соответствии со стандартным гауссовым \n",
    "#     или нормальным распределением.\n",
    "# np.random.randn() — это метод библиотеки numpy, \n",
    "#        который возвращает образец (или образцы) из «стандартного нормального»\n",
    "#        распределения в Python. \n",
    "#        Он принимает размеры возвращаемого массива в качестве аргумента \n",
    "#         и возвращает либо ndarray, либо, если аргумент не указан, \n",
    "#         возвращает значение с плавающей запятой.\n",
    "# np.random.randn() возвращает все значения в форме с плавающей запятой \n",
    "#                         и в среднем распределении = 0 и дисперсии = 1."
   ]
  },
  {
   "cell_type": "code",
   "execution_count": 3,
   "id": "cf10dd37-2991-453a-982c-10aa0eb79cd0",
   "metadata": {
    "collapsed": true,
    "jupyter": {
     "outputs_hidden": true
    },
    "tags": []
   },
   "outputs": [
    {
     "name": "stdout",
     "output_type": "stream",
     "text": [
      "0.026538972439196732\n"
     ]
    }
   ],
   "source": [
    "## app.py\n",
    "data = np.random.randn()\n",
    "print(data)"
   ]
  },
  {
   "cell_type": "code",
   "execution_count": 4,
   "id": "d616a494-6643-49f4-bd7f-ad0a71c06e9c",
   "metadata": {
    "collapsed": true,
    "jupyter": {
     "outputs_hidden": true
    },
    "tags": []
   },
   "outputs": [
    {
     "data": {
      "text/plain": [
       "array([ 1.01873851,  0.74864456, -1.17699749,  0.2281168 , -0.38242588,\n",
       "       -0.80155777])"
      ]
     },
     "execution_count": 4,
     "metadata": {},
     "output_type": "execute_result"
    }
   ],
   "source": [
    "data = np.random.randn(6)\n",
    "data"
   ]
  },
  {
   "cell_type": "code",
   "execution_count": 9,
   "id": "3a14c6f8-1cb8-41ee-8000-e8706be7b3e3",
   "metadata": {
    "collapsed": true,
    "jupyter": {
     "outputs_hidden": true
    },
    "tags": []
   },
   "outputs": [
    {
     "data": {
      "text/plain": [
       "array([-0.00869795,  0.42186511, -0.71018743, -1.06889905, -1.13776303,\n",
       "        0.87378921,  0.13805272, -0.75606467,  1.79075616, -0.00805362])"
      ]
     },
     "execution_count": 9,
     "metadata": {},
     "output_type": "execute_result"
    }
   ],
   "source": [
    "data = np.random.randn(10)\n",
    "data"
   ]
  },
  {
   "cell_type": "code",
   "execution_count": 10,
   "id": "f659a0dc-14e7-41a0-9725-893e56307564",
   "metadata": {
    "collapsed": true,
    "jupyter": {
     "outputs_hidden": true
    },
    "tags": []
   },
   "outputs": [
    {
     "data": {
      "text/plain": [
       "array([[-1.54678632, -0.29016622],\n",
       "       [-0.0047577 , -1.82727464]])"
      ]
     },
     "execution_count": 10,
     "metadata": {},
     "output_type": "execute_result"
    }
   ],
   "source": [
    "data = np.random.randn(2, 2)\n",
    "data"
   ]
  },
  {
   "cell_type": "code",
   "execution_count": 13,
   "id": "43ca0bc9-3c14-44ff-8ebd-197a39b6c3a1",
   "metadata": {
    "collapsed": true,
    "jupyter": {
     "outputs_hidden": true
    },
    "tags": []
   },
   "outputs": [
    {
     "data": {
      "text/plain": [
       "array([[-0.10449037,  0.41099028,  0.58409525],\n",
       "       [-1.22374282,  1.46778048, -0.25587264],\n",
       "       [-0.68898966, -0.07829202, -0.71188323]])"
      ]
     },
     "execution_count": 13,
     "metadata": {},
     "output_type": "execute_result"
    }
   ],
   "source": [
    "data = np.random.randn(3, 3)\n",
    "data"
   ]
  },
  {
   "cell_type": "code",
   "execution_count": 14,
   "id": "2642fb85-373b-47b3-aca7-cd62dc1ba114",
   "metadata": {
    "collapsed": true,
    "jupyter": {
     "outputs_hidden": true
    },
    "tags": []
   },
   "outputs": [
    {
     "data": {
      "text/plain": [
       "array([[ 1.25829587,  1.18284624, -0.42278809, -0.15226566,  0.52039258],\n",
       "       [ 0.86010939,  1.09227163, -0.14044717, -1.07600682,  1.045813  ],\n",
       "       [ 1.96009433, -1.66221448,  0.56526254, -1.01034622,  1.13170489]])"
      ]
     },
     "execution_count": 14,
     "metadata": {},
     "output_type": "execute_result"
    }
   ],
   "source": [
    "data = np.random.randn(3, 5)\n",
    "data"
   ]
  },
  {
   "cell_type": "code",
   "execution_count": 15,
   "id": "0c8b9606-a312-4190-ad0e-0bab84ed81aa",
   "metadata": {
    "collapsed": true,
    "jupyter": {
     "outputs_hidden": true
    },
    "tags": []
   },
   "outputs": [
    {
     "data": {
      "text/plain": [
       "array([[-0.68694546, -1.59339659,  0.80010312,  0.66362357, -0.30160463],\n",
       "       [ 1.54246202,  0.7753288 , -0.24511617, -1.55750728, -0.93509076],\n",
       "       [-0.12327255, -0.45701984, -0.66333103, -0.0386543 , -0.15175604],\n",
       "       [-0.47639024,  1.1995223 , -0.41118668, -0.01247181, -0.58369471],\n",
       "       [-0.15843884,  0.14250558,  0.65632541,  0.54410209, -0.47489883],\n",
       "       [-0.44172986,  0.7095074 , -0.04636617, -1.02585685, -0.80541663],\n",
       "       [-0.53357352,  0.0126668 , -0.05988623,  0.75341518,  0.13772142],\n",
       "       [-0.91127121,  0.90376836,  0.28835853, -0.02650781, -0.36936718],\n",
       "       [ 1.30079716,  0.7652266 ,  1.00173959, -0.053994  ,  0.02734477],\n",
       "       [-0.3625833 , -0.86723493, -0.11780395, -1.31923124,  0.71226736]])"
      ]
     },
     "execution_count": 15,
     "metadata": {},
     "output_type": "execute_result"
    }
   ],
   "source": [
    "data = np.random.randn(10, 5)\n",
    "data"
   ]
  },
  {
   "cell_type": "code",
   "execution_count": 18,
   "id": "30d801d2-21a9-42e0-9fb2-8b53771a277b",
   "metadata": {
    "collapsed": true,
    "jupyter": {
     "outputs_hidden": true
    },
    "tags": []
   },
   "outputs": [
    {
     "data": {
      "text/plain": [
       "array([[[-1.5971511 , -0.97562231,  0.42257936],\n",
       "        [-0.1309545 , -0.16178452,  1.11482877],\n",
       "        [-0.00503759,  0.76104452, -0.56257499]],\n",
       "\n",
       "       [[-0.55781793,  1.17344264, -1.58235546],\n",
       "        [ 0.25030318,  1.31654919,  0.44442252],\n",
       "        [-1.14544969, -0.86290735, -0.73804847]],\n",
       "\n",
       "       [[-2.40626033, -1.00248622,  1.11826352],\n",
       "        [-1.47229565,  1.02990596,  0.01156015],\n",
       "        [-1.44260361,  1.37747784,  0.45999827]]])"
      ]
     },
     "execution_count": 18,
     "metadata": {},
     "output_type": "execute_result"
    }
   ],
   "source": [
    "data = np.random.randn(3, 3, 3)\n",
    "data"
   ]
  },
  {
   "cell_type": "code",
   "execution_count": 24,
   "id": "c691f648-3c34-4314-87be-b793da323b21",
   "metadata": {
    "tags": []
   },
   "outputs": [],
   "source": [
    "class Cat:\n",
    "    def __init__(self, name, age):\n",
    "        self.name = name\n",
    "        self.age = age\n",
    " \n",
    "    def __str__(self):\n",
    "        return f'Cat(name={self.name}, age={self.age})'"
   ]
  },
  {
   "cell_type": "code",
   "execution_count": 25,
   "id": "ff2d06de-775b-41e9-b667-d09dad71f6ce",
   "metadata": {
    "tags": []
   },
   "outputs": [],
   "source": [
    "class Cat:\n",
    "    def __init__(self, name, age):\n",
    "        self.name = name\n",
    "        self.age = age\n",
    " \n",
    "    def __str__(self):\n",
    "        return f'Cat(name={self.name}, age={self.age})'\n",
    " \n",
    "    def __repr__(self):\n",
    "        return f'Cat(name={self.name!r}, age={self.age!r})'"
   ]
  },
  {
   "cell_type": "code",
   "execution_count": null,
   "id": "6b447438-c60b-48b6-95e6-5de86f2fff91",
   "metadata": {},
   "outputs": [],
   "source": []
  }
 ],
 "metadata": {
  "kernelspec": {
   "display_name": "Python 3 (ipykernel)",
   "language": "python",
   "name": "python3"
  },
  "language_info": {
   "codemirror_mode": {
    "name": "ipython",
    "version": 3
   },
   "file_extension": ".py",
   "mimetype": "text/x-python",
   "name": "python",
   "nbconvert_exporter": "python",
   "pygments_lexer": "ipython3",
   "version": "3.11.5"
  }
 },
 "nbformat": 4,
 "nbformat_minor": 5
}
