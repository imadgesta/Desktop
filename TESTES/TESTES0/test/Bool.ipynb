{
 "cells": [
  {
   "cell_type": "markdown",
   "id": "d215e274-3ae9-4cca-ad5b-ebbddb5d3b4d",
   "metadata": {},
   "source": [
    "#### Магический метод __bool__ определения правдивости объектов"
   ]
  },
  {
   "cell_type": "markdown",
   "id": "94264cfb-a7d7-4fab-990a-dcfb4e0eda65",
   "metadata": {
    "tags": []
   },
   "source": [
    "#### На этом занятии мы поговорим о способах настройки \n",
    "и определения правдивости объектов классов. \n",
    "Что такое правдивость? \n",
    "Это когда к экземпляру явно или неявно применяется функция bool(). \n",
    "С ней мы с вами уже знакомы и применяли к обычным типам данных:"
   ]
  },
  {
   "cell_type": "code",
   "execution_count": 9,
   "id": "f866e52a-60ae-419e-b7c7-b2ad3aefa3c2",
   "metadata": {
    "tags": []
   },
   "outputs": [
    {
     "data": {
      "text/plain": [
       "False"
      ]
     },
     "execution_count": 9,
     "metadata": {},
     "output_type": "execute_result"
    }
   ],
   "source": [
    "bool(123)\n",
    "bool(-1)\n",
    "bool(0)\n",
    "bool(\"python\")\n",
    "bool(\"\")\n",
    "bool([])"
   ]
  },
  {
   "cell_type": "markdown",
   "id": "9fc3ebc0-cf81-4f6f-b235-09140c6ac3cc",
   "metadata": {
    "tags": []
   },
   "source": [
    "#### В стандартном поведении она возвращает True для непустых объектов и False – для пустых. Давайте посмотрим, что она будет выдавать для экземпляров классов. Я возьму класс из предыдущего занятия:"
   ]
  },
  {
   "cell_type": "code",
   "execution_count": 2,
   "id": "f47ab632-493c-463b-af92-25b9dd0ebccf",
   "metadata": {
    "tags": []
   },
   "outputs": [],
   "source": [
    "class Point:\n",
    "    def __init__(self, x, y):\n",
    "        self.x = x\n",
    "        self.y = y"
   ]
  },
  {
   "cell_type": "markdown",
   "id": "02a1552f-28b3-44da-81e9-340461c7fd1f",
   "metadata": {},
   "source": [
    "#### Создадим его объект:"
   ]
  },
  {
   "cell_type": "code",
   "execution_count": 3,
   "id": "1fececd7-ce97-4c1f-99e0-62726b8e9117",
   "metadata": {
    "tags": []
   },
   "outputs": [],
   "source": [
    "p = Point(3, 4)"
   ]
  },
  {
   "cell_type": "code",
   "execution_count": 4,
   "id": "a714a929-e68b-44bb-b5ec-3a1fe2e3ae3e",
   "metadata": {
    "tags": []
   },
   "outputs": [
    {
     "name": "stdout",
     "output_type": "stream",
     "text": [
      "True\n"
     ]
    }
   ],
   "source": [
    "print(bool(p))"
   ]
  },
  {
   "cell_type": "markdown",
   "id": "1ac24e10-2082-4b4f-9dd5-ee237da2e3d3",
   "metadata": {},
   "source": [
    "#### Увидим значение True. В действительности, эта функция всегда возвращает True для любых объектов пользовательского класса. Получается, что смысла в ней особого нет, применительно к экземплярам наших классов? Не совсем. Мы можем переопределить ее поведение либо через магический метод __len__(), либо через метод __bool__():\n",
    "\n",
    "__len__() – вызывается функцией bool(), если не определен магический метод __bool__();\n",
    "__bool__() – вызывается в приоритетном порядке функцией bool().\n",
    "Вначале я пропишу магический метод __len__() в классе Point, следующим образом:"
   ]
  },
  {
   "cell_type": "code",
   "execution_count": 5,
   "id": "9aaf5145-0e7b-4f4d-9ecf-f5a61898cb98",
   "metadata": {
    "tags": []
   },
   "outputs": [],
   "source": [
    "class Point:\n",
    "    def __init__(self, x, y):\n",
    "        self.x = x\n",
    "        self.y = y\n",
    " \n",
    "    def __len__(self):\n",
    "        print(\"__len__\")\n",
    "        return self.x * self.x + self.y * self.y"
   ]
  },
  {
   "cell_type": "markdown",
   "id": "eabf8bbb-0a00-4e21-842d-b445453c22df",
   "metadata": {},
   "source": [
    "#### В этом методе я вычисляю и возвращаю квадрат длины радиус-вектора с координатами (x; y). Запустим программу и видим значение True, а также сообщение «__len__». То есть, действительно был вызван метод __len__() и, так как он вернул не нулевое значение, то функция bool() интерпретировала его как True.\n",
    "\n",
    "Давайте в экземпляре класса пропишем нулевые координаты, чтобы длина вектора была нулевой:"
   ]
  },
  {
   "cell_type": "code",
   "execution_count": 6,
   "id": "c4ae8e8d-2a93-4fa2-b984-185ccdf1c5ab",
   "metadata": {
    "tags": []
   },
   "outputs": [],
   "source": [
    "p = Point(0, 0)"
   ]
  },
  {
   "cell_type": "markdown",
   "id": "7b463635-dbc8-44f0-8c71-18bbcb173547",
   "metadata": {},
   "source": [
    "#### Теперь видим ожидаемое значение False.\n",
    "\n",
    "Конечно, если нам нужно явно описать алгоритм работы функции bool() применительно к нашим экземплярам класса, то следует использовать магический метод __bool__(). Я запишу его в таком виде:"
   ]
  },
  {
   "cell_type": "code",
   "execution_count": 7,
   "id": "413fec17-40b4-415d-ba10-c6204941c768",
   "metadata": {
    "tags": []
   },
   "outputs": [],
   "source": [
    "def __bool__(self):\n",
    "        print(\"__bool__\")\n",
    "        return self.x == self.y"
   ]
  },
  {
   "cell_type": "markdown",
   "id": "e849cbd1-7166-45d9-921c-560d5dea789c",
   "metadata": {
    "tags": []
   },
   "source": [
    "#### Теперь, объект будет считаться правдивым (истинным), если его координаты равны. Запускаем программу и видим, что для нулей отображается значение True. Если же прописать не равные координаты:"
   ]
  },
  {
   "cell_type": "code",
   "execution_count": 8,
   "id": "57c6862a-88d3-47e4-bd6c-3b7fa468c168",
   "metadata": {
    "tags": []
   },
   "outputs": [],
   "source": [
    "p = Point(10, 20)"
   ]
  },
  {
   "cell_type": "markdown",
   "id": "d5ecfde8-a422-4580-b32e-8585b0f322b0",
   "metadata": {},
   "source": [
    "#### то получаем значение False. Конечно, такая реализация магического метода __bool__() – это лишь учебный пример, чтобы вы поняли принцип его работы. В реальности, мы можем в этом методе прописывать любую логику. Единственное условие, чтобы данный метод возвращал булево значение True или False. Указывать в операторе return другие типы данных запрещено.\n",
    "\n",
    "Все это хорошо, но где это используется? Чаще всего в условных конструкциях. Например, если прописать вот такое условие:"
   ]
  },
  {
   "cell_type": "markdown",
   "id": "ffd6b745-b06d-4ec5-b1b7-95244bd76e84",
   "metadata": {},
   "source": [
    "#### Здесь происходит неявный вызов функции bool() при проверке условия. Поэтому в программах, где требуется описать собственные проверки истинности или ложности объектов, то пользуются или магическим методом __len__(), но чаще всего, магическим методом __bool__()."
   ]
  },
  {
   "cell_type": "code",
   "execution_count": null,
   "id": "f86a29a1-29e0-4249-91c4-95c4468ad511",
   "metadata": {},
   "outputs": [],
   "source": []
  }
 ],
 "metadata": {
  "kernelspec": {
   "display_name": "Python 3 (ipykernel)",
   "language": "python",
   "name": "python3"
  },
  "language_info": {
   "codemirror_mode": {
    "name": "ipython",
    "version": 3
   },
   "file_extension": ".py",
   "mimetype": "text/x-python",
   "name": "python",
   "nbconvert_exporter": "python",
   "pygments_lexer": "ipython3",
   "version": "3.11.5"
  }
 },
 "nbformat": 4,
 "nbformat_minor": 5
}
