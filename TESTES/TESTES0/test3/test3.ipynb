{
 "cells": [
  {
   "cell_type": "markdown",
   "id": "1419848b-5703-4871-b933-3ff27356c249",
   "metadata": {},
   "source": [
    "# БУЛЕВЫ ОПЕРАТОРЫ"
   ]
  },
  {
   "cell_type": "markdown",
   "id": "ad4189ad-a4ca-468f-a182-31e0318bdea7",
   "metadata": {},
   "source": [
    "- not\n",
    "- and\n",
    "- or"
   ]
  },
  {
   "cell_type": "code",
   "execution_count": null,
   "id": "b75570df-56c2-4e67-9e94-a1142a1f2733",
   "metadata": {},
   "outputs": [],
   "source": []
  }
 ],
 "metadata": {
  "kernelspec": {
   "display_name": "Python 3 (ipykernel)",
   "language": "python",
   "name": "python3"
  },
  "language_info": {
   "codemirror_mode": {
    "name": "ipython",
    "version": 3
   },
   "file_extension": ".py",
   "mimetype": "text/x-python",
   "name": "python",
   "nbconvert_exporter": "python",
   "pygments_lexer": "ipython3",
   "version": "3.11.5"
  }
 },
 "nbformat": 4,
 "nbformat_minor": 5
}
