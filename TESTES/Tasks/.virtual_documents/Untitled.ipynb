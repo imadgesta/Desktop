def t01():
    a = 14
    b = 10
    c = 0
     
    if a > 5:
         c = a * b
    
    print(c)

# t01()


def t02():
    n = 500
    if n % 2 == 0:
        print('even')  # чётное число
    else:
        print('odd')   # не чётное число

# t02()


def t03():
    f = 'Musk'
    if f == 'Musk':       # условие проверяет фамилию
        print('its Musk')
                           
    
    if len(f) == 5:       # условие проверяет длинну фамилии
        print (True)
    else:
        print(False)
# t03()


def t04():
    color = 3
    if color == '2':
        trafficLight = 'yellow'
    elif color == 3:
        trafficLight = 'green'
    else:
        trafficLight = 'red'
    
    print(trafficLight)

# t04()


def t04():
    color = 23
    
    if color == '2':
        trafficLight = 'yellow'
    elif color == 3:
        trafficLight = 'green'
    elif color == 1:
        trafficLight = 'red'
    else:
        trafficLight = 'blink yellow'
    
    print(trafficLight)

# t04()


# Сложные условия
def t05():
    user = 'Musk'
    password = 'Tuxedo'

    if user == 'Musk' and password == 'Tuxedo':
        print('welcome')
    else:
        print('wrong')

# t05()


def t05():
    user = 'Musk'
    password = 'Tuxedo'
    
    if user == 'Mask' and password == 'Tuxedo':  # ошибка имени
        print('welcome')

    else:
        print('wrong') 
    
# t05()


def t05():
    user = 'Mask'
    password = 'Tuxedo'
    
    if user == 'Musk' or password == 'Tuxedo':  # or - ИЛИ имя ИЛИ пароль
        print('welcome')

    else:
        print('wrong') 
    
# t05()



