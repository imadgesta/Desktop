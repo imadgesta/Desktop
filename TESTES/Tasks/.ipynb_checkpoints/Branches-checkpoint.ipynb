{
 "cells": [
  {
   "cell_type": "code",
   "execution_count": 22,
   "id": "e7bec3a4-5302-444f-a827-6da2410e2dad",
   "metadata": {},
   "outputs": [],
   "source": [
    "def t01():\n",
    "    a = 14\n",
    "    b = 10\n",
    "    c = 0\n",
    "     \n",
    "    if a > 5:\n",
    "         c = a * b\n",
    "    \n",
    "    print(c)\n",
    "\n",
    "# t01()"
   ]
  },
  {
   "cell_type": "code",
   "execution_count": 26,
   "id": "a3e769c5-e81a-4c61-96fc-035c1b6116d2",
   "metadata": {},
   "outputs": [],
   "source": [
    "def t02():\n",
    "    n = 500\n",
    "    if n % 2 == 0:\n",
    "        print('even')  # чётное число\n",
    "    else:\n",
    "        print('odd')   # не чётное число\n",
    "\n",
    "# t02()"
   ]
  },
  {
   "cell_type": "code",
   "execution_count": 33,
   "id": "b1a68800-2cb9-4565-9491-09d5e321d5b3",
   "metadata": {},
   "outputs": [],
   "source": [
    "def t03():\n",
    "    f = 'Musk'\n",
    "    if f == 'Musk':       # условие проверяет фамилию\n",
    "        print('its Musk')\n",
    "                           \n",
    "    \n",
    "    if len(f) == 5:       # условие проверяет длинну фамилии\n",
    "        print (True)\n",
    "    else:\n",
    "        print(False)\n",
    "# t03()"
   ]
  },
  {
   "cell_type": "code",
   "execution_count": 35,
   "id": "aa481b85-1076-43f0-8b6f-af2c18567dc8",
   "metadata": {},
   "outputs": [],
   "source": [
    "def t04():\n",
    "    color = 3\n",
    "    if color == '2':\n",
    "        trafficLight = 'yellow'\n",
    "    elif color == 3:\n",
    "        trafficLight = 'green'\n",
    "    else:\n",
    "        trafficLight = 'red'\n",
    "    \n",
    "    print(trafficLight)\n",
    "\n",
    "# t04()"
   ]
  },
  {
   "cell_type": "code",
   "execution_count": 40,
   "id": "97fe3242-ff68-4312-8c0d-cb1b2bf2835e",
   "metadata": {},
   "outputs": [],
   "source": [
    "def t04():\n",
    "    color = 23\n",
    "    \n",
    "    if color == '2':\n",
    "        trafficLight = 'yellow'\n",
    "    elif color == 3:\n",
    "        trafficLight = 'green'\n",
    "    elif color == 1:\n",
    "        trafficLight = 'red'\n",
    "    else:\n",
    "        trafficLight = 'blink yellow'\n",
    "    \n",
    "    print(trafficLight)\n",
    "\n",
    "# t04()"
   ]
  },
  {
   "cell_type": "code",
   "execution_count": 45,
   "id": "a3ce4f2b-07b3-4359-8dbf-c0e140857930",
   "metadata": {},
   "outputs": [
    {
     "name": "stdout",
     "output_type": "stream",
     "text": [
      "wrong\n"
     ]
    }
   ],
   "source": [
    "# Сложные условия\n",
    "def t05():\n",
    "    user = 'Mask'\n",
    "    password = 'Tuxedo'\n",
    "\n",
    "    if user == 'Musk' and password == 'Tuxedo':\n",
    "        print('welcome')\n",
    "    else:\n",
    "        print('wrong')\n",
    "\n",
    "t05()"
   ]
  },
  {
   "cell_type": "code",
   "execution_count": 47,
   "id": "82b59ba3-56b9-4030-bf88-e509e3bc4619",
   "metadata": {},
   "outputs": [],
   "source": [
    "def t05():\n",
    "    user = 'Mask'\n",
    "    password = 'Tuxedo'\n",
    "\n",
    "    if user == 'Musk' and password == 'Tuxedo':\n",
    "        print('welcome')\n",
    "    \n",
    "\n",
    "t05()"
   ]
  },
  {
   "cell_type": "code",
   "execution_count": null,
   "id": "25c78152-00fb-490a-90b2-57d30553f214",
   "metadata": {},
   "outputs": [],
   "source": []
  }
 ],
 "metadata": {
  "kernelspec": {
   "display_name": "Python 3 (ipykernel)",
   "language": "python",
   "name": "python3"
  },
  "language_info": {
   "codemirror_mode": {
    "name": "ipython",
    "version": 3
   },
   "file_extension": ".py",
   "mimetype": "text/x-python",
   "name": "python",
   "nbconvert_exporter": "python",
   "pygments_lexer": "ipython3",
   "version": "3.11.5"
  }
 },
 "nbformat": 4,
 "nbformat_minor": 5
}
