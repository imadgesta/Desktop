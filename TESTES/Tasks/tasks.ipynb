{
 "cells": [
  {
   "cell_type": "code",
   "execution_count": 3,
   "id": "8422df96-588c-41c4-a369-fb098295adc1",
   "metadata": {
    "tags": []
   },
   "outputs": [],
   "source": [
    "import time"
   ]
  },
  {
   "cell_type": "code",
   "execution_count": 4,
   "id": "311d3d75-d620-47f5-be8a-abbb6a2fbc46",
   "metadata": {
    "collapsed": true,
    "jupyter": {
     "outputs_hidden": true
    },
    "tags": []
   },
   "outputs": [
    {
     "name": "stdout",
     "output_type": "stream",
     "text": [
      "The number is: 0\n",
      "The number is: 1\n",
      "The number is: 2\n",
      "The number is: 3\n",
      "The number is: 4\n",
      "The number is: 5\n",
      "The number is: 6\n",
      "The number is: 7\n",
      "The number is: 8\n",
      "The number is: 9\n",
      "The number is: 10\n",
      "The number is: 11\n",
      "The number is: 12\n",
      "The number is: 13\n",
      "The number is: 14\n",
      "The number is: 15\n",
      "The number is: 16\n",
      "The number is: 17\n",
      "The number is: 18\n",
      "The number is: 19\n",
      "The number is: 20\n",
      "The number is: 21\n",
      "The number is: 22\n",
      "The number is: 23\n",
      "The number is: 24\n",
      "The number is: 25\n",
      "The number is: 26\n",
      "The number is: 27\n",
      "The number is: 28\n",
      "The number is: 29\n",
      "The number is: 30\n",
      "The number is: 31\n",
      "The number is: 32\n",
      "The number is: 33\n",
      "The number is: 34\n",
      "The number is: 35\n",
      "The number is: 36\n",
      "The number is: 37\n",
      "The number is: 38\n",
      "The number is: 39\n",
      "The number is: 40\n",
      "The number is: 41\n",
      "The number is: 42\n",
      "The number is: 43\n",
      "The number is: 44\n",
      "The number is: 45\n",
      "The number is: 46\n",
      "The number is: 47\n",
      "The number is: 48\n",
      "The number is: 49\n",
      "The number is: 50\n",
      "The number is: 51\n",
      "The number is: 52\n",
      "The number is: 53\n",
      "The number is: 54\n",
      "The number is: 55\n",
      "The number is: 56\n",
      "The number is: 57\n",
      "The number is: 58\n",
      "The number is: 59\n",
      "The number is: 60\n",
      "The number is: 61\n",
      "The number is: 62\n",
      "The number is: 63\n",
      "The number is: 64\n",
      "The number is: 65\n",
      "The number is: 66\n",
      "The number is: 67\n",
      "The number is: 68\n",
      "The number is: 69\n",
      "The number is: 70\n",
      "The number is: 71\n",
      "The number is: 72\n",
      "The number is: 73\n",
      "The number is: 74\n",
      "The number is: 75\n",
      "The number is: 76\n",
      "The number is: 77\n",
      "The number is: 78\n",
      "The number is: 79\n",
      "The number is: 80\n",
      "The number is: 81\n",
      "The number is: 82\n",
      "The number is: 83\n",
      "The number is: 84\n",
      "The number is: 85\n",
      "The number is: 86\n",
      "The number is: 87\n",
      "The number is: 88\n",
      "The number is: 89\n",
      "The number is: 90\n",
      "The number is: 91\n",
      "The number is: 92\n",
      "The number is: 93\n",
      "The number is: 94\n",
      "The number is: 95\n",
      "The number is: 96\n",
      "The number is: 97\n",
      "The number is: 98\n",
      "The number is: 99\n"
     ]
    }
   ],
   "source": [
    "for i in range(100):\n",
    "    time.sleep(1)\n",
    "    print('The number is:', i)"
   ]
  },
  {
   "cell_type": "code",
   "execution_count": 3,
   "id": "ea2ca8af-8f58-4eba-add4-f83d8d0b68af",
   "metadata": {
    "tags": []
   },
   "outputs": [],
   "source": [
    "import matplotlib.pyplot as plt"
   ]
  },
  {
   "cell_type": "code",
   "execution_count": 4,
   "id": "b4cc69f0-756c-44a0-8f5b-8867c7092c3d",
   "metadata": {
    "tags": []
   },
   "outputs": [],
   "source": [
    "x = [-2,-1,0,1,2]\n",
    "y = [4,1,0,1,4]"
   ]
  },
  {
   "cell_type": "code",
   "execution_count": 5,
   "id": "5cd775dd-4fb6-41b6-95b4-d887f3bcfbd1",
   "metadata": {
    "scrolled": true,
    "tags": []
   },
   "outputs": [
    {
     "data": {
      "text/plain": [
       "[<matplotlib.lines.Line2D at 0x1efe7f36190>]"
      ]
     },
     "execution_count": 5,
     "metadata": {},
     "output_type": "execute_result"
    },
    {
     "data": {
      "image/png": "[encoded data removed]",
      "text/plain": [
       "<Figure size 640x480 with 1 Axes>"
      ]
     },
     "metadata": {},
     "output_type": "display_data"
    }
   ],
   "source": [
    "plt.plot(x,y)"
   ]
  },
  {
   "cell_type": "code",
   "execution_count": 7,
   "id": "b7d5d283-ae47-4989-a513-6b4c3e77a331",
   "metadata": {
    "collapsed": true,
    "jupyter": {
     "outputs_hidden": true
    },
    "tags": []
   },
   "outputs": [
    {
     "name": "stdout",
     "output_type": "stream",
     "text": [
      "Active code page: 65001\n"
     ]
    }
   ],
   "source": [
    "! chcp 65001"
   ]
  },
  {
   "cell_type": "code",
   "execution_count": 8,
   "id": "4a5225e0-5043-4d9c-9135-543a38700fa7",
   "metadata": {
    "collapsed": true,
    "jupyter": {
     "outputs_hidden": true
    },
    "tags": []
   },
   "outputs": [
    {
     "name": "stdout",
     "output_type": "stream",
     "text": [
      "\n",
      "Pinging www.google.com [64.233.165.103] with 32 bytes of data:\n",
      "Reply from 64.233.165.103: bytes=32 time=47ms TTL=108\n",
      "Reply from 64.233.165.103: bytes=32 time=47ms TTL=108\n",
      "Reply from 64.233.165.103: bytes=32 time=47ms TTL=108\n",
      "Reply from 64.233.165.103: bytes=32 time=47ms TTL=108\n",
      "\n",
      "Ping statistics for 64.233.165.103:\n",
      "    Packets: Sent = 4, Received = 4, Lost = 0 (0% loss),\n",
      "Approximate round trip times in milli-seconds:\n",
      "    Minimum = 47ms, Maximum = 47ms, Average = 47ms\n"
     ]
    }
   ],
   "source": [
    "! ping www.google.com"
   ]
  },
  {
   "cell_type": "code",
   "execution_count": 11,
   "id": "ee42cbc8-d3da-497a-ac0a-df2e876083d1",
   "metadata": {
    "collapsed": true,
    "jupyter": {
     "outputs_hidden": true,
     "source_hidden": true
    },
    "tags": []
   },
   "outputs": [
    {
     "name": "stdout",
     "output_type": "stream",
     "text": [
      "twenty \n"
     ]
    }
   ],
   "source": [
    "str1 = ['one', 'two', 'three', 'four', 'five', 'six', 'seven', 'eight',\n",
    "        'nine', 'ten', 'eleven', 'twelve', 'thirteen', 'fourteen',\n",
    "        'fifteen', 'sixteen', 'seventeen', 'eighteen', 'nineteen', '']\n",
    "str2 = ['twenty', 'thirty', 'forty', 'fifty', 'sixty', 'seventy',\n",
    "        'eighty', 'ninety']\n",
    " \n",
    " \n",
    "def number_in_english(number):\n",
    "    if not number:\n",
    "        return 'zero'\n",
    "    if number // 100 and number % 100:\n",
    "        result = '{} hundred and '.format(str1[number // 100 - 1])\n",
    "    elif number // 100:\n",
    "        result = '{} hundred'.format(str1[number // 100 - 1])\n",
    "    else:\n",
    "        result = ''\n",
    "    if number % 100 <= 19:\n",
    "        result += str1[number % 100 - 1]\n",
    "    else:\n",
    "        result = result + str2[number % 100 // 10 - 2] + ' ' + str1[number % 10 - 1]\n",
    "    return result\n",
    "print(number_in_english(20).lower())"
   ]
  },
  {
   "cell_type": "code",
   "execution_count": 16,
   "id": "1fb1a523-fc15-4fd7-989e-90ae4469dd0c",
   "metadata": {
    "collapsed": true,
    "jupyter": {
     "outputs_hidden": true,
     "source_hidden": true
    },
    "tags": []
   },
   "outputs": [
    {
     "name": "stdin",
     "output_type": "stream",
     "text": [
      "n =  40\n"
     ]
    },
    {
     "name": "stdout",
     "output_type": "stream",
     "text": [
      "forty\n"
     ]
    }
   ],
   "source": [
    "n = int(input('n = '))\n",
    "if not n:\n",
    "    print('zero')\n",
    "else:\n",
    "    ONE_NINE = ('one', 'two', 'three', 'four', 'five', 'six', 'seven', 'eight', 'nine')\n",
    "    sd, e = divmod(n, 10)\n",
    "    s, d = divmod(sd, 10)\n",
    "    res = []\n",
    "    if s:\n",
    "        res.append(ONE_NINE[s-1] + ' hundred')\n",
    "    if d == 1:\n",
    "        res.append(('ten', 'eleven', 'twelve', 'thirteen', 'fourteen', 'fifteen',\n",
    "                    'sixteen', 'seventeen', 'eighteen', 'nineteen')[e])\n",
    "    else:\n",
    "        if d > 1:\n",
    "            res.append(('twenty', 'thirty', 'forty', 'fifty', 'sixty', 'seventy', 'eighty',\n",
    "                        'ninety')[d-2])\n",
    "        if e:\n",
    "            res.append(ONE_NINE[e-1])\n",
    "    print(*res)"
   ]
  },
  {
   "cell_type": "code",
   "execution_count": 34,
   "id": "260575cc-34c3-4a22-9b55-436f837d990c",
   "metadata": {
    "tags": []
   },
   "outputs": [],
   "source": [
    "import decimal"
   ]
  },
  {
   "cell_type": "code",
   "execution_count": 37,
   "id": "b53142a6-736d-4dd0-b951-7ca19d5dba49",
   "metadata": {
    "jupyter": {
     "source_hidden": true
    },
    "tags": []
   },
   "outputs": [
    {
     "name": "stdin",
     "output_type": "stream",
     "text": [
      " 1\n",
      " Томск\n"
     ]
    }
   ],
   "source": [
    "cities  = input().split(', ')\n",
    "letter = input()\n",
    " \n",
    "for i in cities:\n",
    "    if i[0] == letter:\n",
    "        print(i)"
   ]
  },
  {
   "cell_type": "code",
   "execution_count": null,
   "id": "b21185db-ff93-429e-9651-fca5a5c6dc5c",
   "metadata": {
    "jupyter": {
     "source_hidden": true
    },
    "tags": []
   },
   "outputs": [],
   "source": [
    "cities = input('->').strip().split(', ')\n",
    "letter = input('Буква: ')\n",
    "print(*(i for i in cities if i.startswith(letter)))"
   ]
  },
  {
   "cell_type": "code",
   "execution_count": null,
   "id": "023f2615-e637-4dcb-ba16-734bef4867ad",
   "metadata": {
    "jupyter": {
     "source_hidden": true
    },
    "tags": []
   },
   "outputs": [],
   "source": [
    "def converter_to_dollars(rate=75.):\n",
    "    def to_dollars(rub_list_val: list):\n",
    "        return [int(rv / rate) for rv in rub_list_val]\n",
    "    return to_dollars\n",
    " \n",
    " \n",
    "ex_rate_75 = converter_to_dollars()\n",
    "print(*ex_rate_75([1000, 1500, 3000, 10000, 15000]))\n",
    "ex_rate_today = converter_to_dollars(97.39)\n",
    "print(*ex_rate_today([1000, 1500, 3000, 10000, 15000]))"
   ]
  },
  {
   "cell_type": "code",
   "execution_count": 1,
   "id": "6915236b-4d33-47fa-bc22-e0d01aa8e60e",
   "metadata": {},
   "outputs": [],
   "source": [
    "import script"
   ]
  },
  {
   "cell_type": "code",
   "execution_count": 2,
   "id": "cd6d034c-4ceb-476b-8856-13b92b87af0d",
   "metadata": {
    "collapsed": true,
    "jupyter": {
     "outputs_hidden": true,
     "source_hidden": true
    },
    "tags": []
   },
   "outputs": [
    {
     "data": {
      "text/plain": [
       "25"
      ]
     },
     "execution_count": 2,
     "metadata": {},
     "output_type": "execute_result"
    }
   ],
   "source": [
    "script.square(5)"
   ]
  },
  {
   "cell_type": "code",
   "execution_count": null,
   "id": "89a12136-e3ab-4ccb-a239-eaee4d0d4912",
   "metadata": {},
   "outputs": [],
   "source": []
  }
 ],
 "metadata": {
  "kernelspec": {
   "display_name": "Python 3 (ipykernel)",
   "language": "python",
   "name": "python3"
  },
  "language_info": {
   "codemirror_mode": {
    "name": "ipython",
    "version": 3
   },
   "file_extension": ".py",
   "mimetype": "text/x-python",
   "name": "python",
   "nbconvert_exporter": "python",
   "pygments_lexer": "ipython3",
   "version": "3.11.5"
  }
 },
 "nbformat": 4,
 "nbformat_minor": 5
}
