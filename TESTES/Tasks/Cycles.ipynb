{
 "cells": [
  {
   "cell_type": "markdown",
   "id": "6c3ea16c-6b50-4a36-beb7-a2d4291199d2",
   "metadata": {},
   "source": [
    "# while - ПОКА , ДО ТЕХ ПОР"
   ]
  },
  {
   "cell_type": "markdown",
   "id": "70ae7afe-2182-4196-9319-5567e36b3895",
   "metadata": {
    "collapsed": true,
    "jupyter": {
     "outputs_hidden": true
    }
   },
   "source": [
    "i = 0\n",
    "while i < 10:\n",
    "    print(i)\n",
    "    i += 1"
   ]
  },
  {
   "cell_type": "code",
   "execution_count": 1,
   "id": "8349088f-5e70-440b-9d98-75051d1872a6",
   "metadata": {
    "collapsed": true,
    "jupyter": {
     "outputs_hidden": true
    }
   },
   "outputs": [
    {
     "name": "stdout",
     "output_type": "stream",
     "text": [
      "0\n",
      "1\n",
      "2\n",
      "3\n",
      "4\n",
      "5\n",
      "6\n",
      "7\n",
      "8\n",
      "9\n",
      "10\n",
      "11\n"
     ]
    }
   ],
   "source": [
    "i = 0\n",
    "while i <= 11:\n",
    "    print(i)\n",
    "    i += 1"
   ]
  },
  {
   "cell_type": "code",
   "execution_count": 2,
   "id": "aac182fd-3d8c-41f9-aeaa-065cda22b9be",
   "metadata": {
    "collapsed": true,
    "jupyter": {
     "outputs_hidden": true
    },
    "scrolled": true
   },
   "outputs": [
    {
     "name": "stdout",
     "output_type": "stream",
     "text": [
      "144\n",
      "169\n",
      "196\n",
      "225\n",
      "256\n",
      "289\n",
      "324\n",
      "361\n",
      "400\n",
      "441\n",
      "484\n",
      "529\n",
      "576\n",
      "625\n",
      "676\n",
      "729\n",
      "784\n",
      "841\n",
      "900\n",
      "961\n",
      "1024\n",
      "1089\n",
      "1156\n",
      "1225\n",
      "1296\n",
      "1369\n",
      "1444\n",
      "1521\n",
      "1600\n",
      "1681\n",
      "1764\n",
      "1849\n",
      "1936\n",
      "2025\n",
      "2116\n",
      "2209\n",
      "2304\n",
      "2401\n",
      "2500\n",
      "2601\n",
      "2704\n",
      "2809\n",
      "2916\n",
      "3025\n",
      "3136\n",
      "3249\n",
      "3364\n",
      "3481\n",
      "3600\n",
      "3721\n",
      "3844\n",
      "3969\n",
      "4096\n",
      "4225\n",
      "4356\n",
      "4489\n",
      "4624\n",
      "4761\n",
      "4900\n",
      "5041\n",
      "5184\n",
      "5329\n",
      "5476\n",
      "5625\n",
      "5776\n",
      "5929\n",
      "6084\n",
      "6241\n",
      "6400\n",
      "6561\n",
      "6724\n",
      "6889\n",
      "7056\n",
      "7225\n",
      "7396\n",
      "7569\n",
      "7744\n",
      "7921\n",
      "8100\n",
      "8281\n",
      "8464\n",
      "8649\n",
      "8836\n",
      "9025\n",
      "9216\n",
      "9409\n",
      "9604\n",
      "9801\n",
      "10000\n"
     ]
    }
   ],
   "source": [
    "while i <= 100:   # распечатать квадраты всех чисел от 1 до 99\n",
    "    print(i**2)\n",
    "    i += 1"
   ]
  },
  {
   "cell_type": "code",
   "execution_count": 3,
   "id": "8a856849-20f7-48dc-8619-f07c44307615",
   "metadata": {
    "collapsed": true,
    "jupyter": {
     "outputs_hidden": true
    },
    "scrolled": true
   },
   "outputs": [
    {
     "name": "stdout",
     "output_type": "stream",
     "text": [
      "0\n",
      "1\n",
      "1\n",
      "2\n",
      "3\n",
      "5\n",
      "8\n",
      "13\n",
      "21\n",
      "34\n",
      "55\n",
      "89\n",
      "144\n",
      "233\n",
      "377\n",
      "610\n",
      "987\n",
      "1597\n",
      "2584\n",
      "4181\n",
      "6765\n",
      "10946\n"
     ]
    }
   ],
   "source": [
    "# Fibo\n",
    "i1, i2 = 0, 1\n",
    "print(i1)\n",
    "while i1 < 10000:\n",
    "    print(i2)\n",
    "    i1, i2 = i2, i1 + i2"
   ]
  },
  {
   "cell_type": "markdown",
   "id": "a62ca49a-b828-452a-93ab-901eee975dae",
   "metadata": {},
   "source": [
    "# Операторы while"
   ]
  },
  {
   "cell_type": "markdown",
   "id": "2696cfe2-9fad-4d0f-8ff0-57c04cb887eb",
   "metadata": {},
   "source": [
    "## break"
   ]
  },
  {
   "cell_type": "code",
   "execution_count": null,
   "id": "2e98882d-d1e0-4b0c-9954-c2be0abb2308",
   "metadata": {},
   "outputs": [],
   "source": [
    "products = 'Apricot, Pineapple, Orange, Watermelon, Banana, Mutton, Pancake, Wafer, Vermicelli, Ham, Grape, Cherry, Water, Beef, Pea, Pomegranate, Grapefruit,   Mushroom'"
   ]
  },
  {
   "cell_type": "code",
   "execution_count": null,
   "id": "8ec07bb7-17f7-4f53-bac4-7fadab93d8d1",
   "metadata": {},
   "outputs": [],
   "source": [
    "products = products.split(',')"
   ]
  },
  {
   "cell_type": "code",
   "execution_count": null,
   "id": "2b059014-c49e-4a87-b92e-c30a92afcbca",
   "metadata": {},
   "outputs": [],
   "source": [
    "products"
   ]
  },
  {
   "cell_type": "code",
   "execution_count": null,
   "id": "b36d42c7-3c0b-4b73-9c9c-111aeb436549",
   "metadata": {},
   "outputs": [],
   "source": [
    "products = 'Apricot, Pineapple, Orange, Watermelon, Banana, Mutton, Pancake, Wafer, Vermicelli, Ham, Grape, Cherry, Water, Beef, Pea, Pomegranate, Grapefruit,   Mushroom'"
   ]
  },
  {
   "cell_type": "code",
   "execution_count": null,
   "id": "c1362dbd-7936-4972-9bb7-2048699f726f",
   "metadata": {},
   "outputs": [],
   "source": [
    "products = products.replace(' ', '').split(',')"
   ]
  },
  {
   "cell_type": "code",
   "execution_count": 23,
   "id": "a7c9e5c2-0278-4b57-bacc-f548b8bd9654",
   "metadata": {},
   "outputs": [
    {
     "data": {
      "text/plain": [
       "['Apricot',\n",
       " 'Pineapple',\n",
       " 'Orange',\n",
       " 'Watermelon',\n",
       " 'Banana',\n",
       " 'Mutton',\n",
       " 'Pancake',\n",
       " 'Wafer',\n",
       " 'Vermicelli',\n",
       " 'Ham',\n",
       " 'Grape',\n",
       " 'Cherry',\n",
       " 'Water',\n",
       " 'Beef',\n",
       " 'Pea',\n",
       " 'Pomegranate',\n",
       " 'Grapefruit',\n",
       " 'Mushroom']"
      ]
     },
     "execution_count": 23,
     "metadata": {},
     "output_type": "execute_result"
    }
   ],
   "source": [
    "products"
   ]
  },
  {
   "cell_type": "code",
   "execution_count": null,
   "id": "67c932f0-ee77-4b9e-bebd-79461077a6da",
   "metadata": {},
   "outputs": [],
   "source": [
    "i = 0  # номер итерации начиная с  0\n"
   ]
  },
  {
   "cell_type": "code",
   "execution_count": null,
   "id": "d377758a-4a80-430d-a19e-afa63bfa6d50",
   "metadata": {
    "scrolled": true
   },
   "outputs": [],
   "source": [
    "i = 0\n",
    "while i < len(products):\n",
    "    if products[i] == 'Pea':\n",
    "        print(f\"Горох на базе под индексом {products[i]}\")\n",
    "    else:\n",
    "        print(f\"Ребята, это не горох! Это {products[i]}\")\n",
    "    i += 1"
   ]
  },
  {
   "cell_type": "code",
   "execution_count": null,
   "id": "e509d400-279d-48d5-a71c-baa3d371850c",
   "metadata": {
    "editable": true,
    "slideshow": {
     "slide_type": ""
    },
    "tags": []
   },
   "outputs": [],
   "source": []
  }
 ],
 "metadata": {
  "kernelspec": {
   "display_name": "Python 3 (ipykernel)",
   "language": "python",
   "name": "python3"
  },
  "language_info": {
   "codemirror_mode": {
    "name": "ipython",
    "version": 3
   },
   "file_extension": ".py",
   "mimetype": "text/x-python",
   "name": "python",
   "nbconvert_exporter": "python",
   "pygments_lexer": "ipython3",
   "version": "3.11.5"
  }
 },
 "nbformat": 4,
 "nbformat_minor": 5
}
