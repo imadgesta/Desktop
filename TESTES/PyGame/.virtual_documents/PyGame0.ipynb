import pygame
from pygame.locals import *

WINDOW_SIZE = ( 800, 600 )            # размер окна
BACKGROUND = ( 1, 22, 69 )              # цвет окна от 0 до 255

x = 400.0
y = 300.0
radius = 5.0
color = ( 255, 255, 0 )

pygame.init()                          # вкл. библиотеки pygame

window = pygame.display.set_mode(WINDOW_SIZE)

game_over = False                      # игра окончена False
while not game_over:                   # условие завершения цикла

    # события
    for event in pygame.event.get():   # список всех событий
        if event.type == pygame.QUIT:  # событие закрывания окна
            game_over = True           # 

    # расчёт

    window.fill(BACKGROUND)            # очистка окна

    # рисуем
    x_comp = round(x)
    y_comp = round(y)
    radius_comp = round()
    pygame.draw.circle( window, color, (x_comp, y_comp), radius_comp )

    pygame.display.update()            # обмен окон в буфере


pygame.quit()    



