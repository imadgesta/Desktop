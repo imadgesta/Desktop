{
 "cells": [
  {
   "cell_type": "code",
   "execution_count": 1,
   "id": "91f11f54-9e23-4f80-a013-ab6669262c49",
   "metadata": {},
   "outputs": [
    {
     "name": "stdout",
     "output_type": "stream",
     "text": [
      "pygame 2.5.2 (SDL 2.28.3, Python 3.11.5)\n",
      "Hello from the pygame community. https://www.pygame.org/contribute.html\n"
     ]
    },
    {
     "ename": "TypeError",
     "evalue": "round() missing required argument 'number' (pos 1)",
     "output_type": "error",
     "traceback": [
      "\u001b[1;31m---------------------------------------------------------------------------\u001b[0m",
      "\u001b[1;31mTypeError\u001b[0m                                 Traceback (most recent call last)",
      "Cell \u001b[1;32mIn[1], line 30\u001b[0m\n\u001b[0;32m     28\u001b[0m x_comp \u001b[38;5;241m=\u001b[39m \u001b[38;5;28mround\u001b[39m(x)\n\u001b[0;32m     29\u001b[0m y_comp \u001b[38;5;241m=\u001b[39m \u001b[38;5;28mround\u001b[39m(y)\n\u001b[1;32m---> 30\u001b[0m radius_comp \u001b[38;5;241m=\u001b[39m \u001b[38;5;28mround\u001b[39m()\n\u001b[0;32m     31\u001b[0m pygame\u001b[38;5;241m.\u001b[39mdraw\u001b[38;5;241m.\u001b[39mcircle( window, color, (x_comp, y_comp), radius_comp )\n\u001b[0;32m     33\u001b[0m pygame\u001b[38;5;241m.\u001b[39mdisplay\u001b[38;5;241m.\u001b[39mupdate()            \u001b[38;5;66;03m# обмен окон в буфере\u001b[39;00m\n",
      "\u001b[1;31mTypeError\u001b[0m: round() missing required argument 'number' (pos 1)"
     ]
    }
   ],
   "source": [
    "import pygame\n",
    "\n",
    "WINDOW_SIZE = ( 800, 600 )            # размер окна\n",
    "BACKGROUND = ( 1, 22, 69 )              # цвет окна от 0 до 255\n",
    "\n",
    "x = 400.0\n",
    "y = 300.0\n",
    "radius = 5.0\n",
    "color = ( 255, 255, 0 )\n",
    "\n",
    "pygame.init()                          # вкл. библиотеки pygame\n",
    "\n",
    "window = pygame.display.set_mode(WINDOW_SIZE)\n",
    "\n",
    "game_over = False                      # игра окончена False\n",
    "while not game_over:                   # условие завершения цикла\n",
    "\n",
    "    # события\n",
    "    for event in pygame.event.get():   # список всех событий\n",
    "        if event.type == pygame.QUIT:  # событие закрывания окна\n",
    "            game_over = True           # \n",
    "\n",
    "    # расчёт\n",
    "\n",
    "    window.fill(BACKGROUND)            # очистка окна\n",
    "\n",
    "    # рисуем\n",
    "    x_comp = round(x)\n",
    "    y_comp = round(y)\n",
    "    radius_comp = round()\n",
    "    pygame.draw.circle( window, color, (x_comp, y_comp), radius_comp )\n",
    "\n",
    "    pygame.display.update()            # обмен окон в буфере\n",
    "\n",
    "\n",
    "pygame.quit()    "
   ]
  },
  {
   "cell_type": "code",
   "execution_count": null,
   "id": "5fee3010-32e3-433f-9f4d-e7a55e58acc5",
   "metadata": {},
   "outputs": [],
   "source": []
  }
 ],
 "metadata": {
  "kernelspec": {
   "display_name": "Python 3 (ipykernel)",
   "language": "python",
   "name": "python3"
  },
  "language_info": {
   "codemirror_mode": {
    "name": "ipython",
    "version": 3
   },
   "file_extension": ".py",
   "mimetype": "text/x-python",
   "name": "python",
   "nbconvert_exporter": "python",
   "pygments_lexer": "ipython3",
   "version": "3.11.5"
  }
 },
 "nbformat": 4,
 "nbformat_minor": 5
}
