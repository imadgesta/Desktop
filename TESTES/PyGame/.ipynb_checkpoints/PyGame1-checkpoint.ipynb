{
 "cells": [
  {
   "cell_type": "code",
   "execution_count": 1,
   "id": "acd61c21-711d-4ede-a7d9-39b0b8c30037",
   "metadata": {},
   "outputs": [
    {
     "name": "stdout",
     "output_type": "stream",
     "text": [
      "pygame 2.5.2 (SDL 2.28.3, Python 3.11.5)\n",
      "Hello from the pygame community. https://www.pygame.org/contribute.html\n"
     ]
    }
   ],
   "source": [
    "import pygame\n",
    " \n",
    "pygame.init()\n",
    "screen = pygame.display.set_mode((400, 300))\n",
    "done = False\n",
    "is_blue = True\n",
    "x = 30\n",
    "y = 30\n",
    " \n",
    "while not done:\n",
    "        for event in pygame.event.get():\n",
    "                if event.type == pygame.QUIT:\n",
    "                        done = True\n",
    "                if event.type == pygame.KEYDOWN and event.key == pygame.K_SPACE:\n",
    "                        is_blue = not is_blue\n",
    "        \n",
    "        pressed = pygame.key.get_pressed()\n",
    "        if pressed[pygame.K_UP]: y -= 3\n",
    "        if pressed[pygame.K_DOWN]: y += 3\n",
    "        if pressed[pygame.K_LEFT]: x -= 3\n",
    "        if pressed[pygame.K_RIGHT]: x += 3\n",
    "        \n",
    "        if is_blue: color = (0, 128, 255)\n",
    "        else: color = (255, 100, 0)\n",
    "        pygame.draw.rect(screen, color, pygame.Rect(x, y, 60, 60))\n",
    "        \n",
    "        pygame.display.flip()"
   ]
  },
  {
   "cell_type": "code",
   "execution_count": 1,
   "id": "e550cf85-1a82-4f5b-b846-ccd9655697dd",
   "metadata": {},
   "outputs": [
    {
     "name": "stdout",
     "output_type": "stream",
     "text": [
      "pygame 2.5.2 (SDL 2.28.3, Python 3.11.5)\n",
      "Hello from the pygame community. https://www.pygame.org/contribute.html\n"
     ]
    }
   ],
   "source": [
    "import pygame\n",
    " \n",
    "pygame.init()\n",
    "screen = pygame.display.set_mode((400, 300))\n",
    "done = False\n",
    "is_blue = True\n",
    "x = 30\n",
    "y = 30\n",
    " \n",
    "clock = pygame.time.Clock()\n",
    " \n",
    "while not done:\n",
    "        for event in pygame.event.get():\n",
    "                if event.type == pygame.QUIT:\n",
    "                        done = True\n",
    "                if event.type == pygame.KEYDOWN and event.key == pygame.K_SPACE:\n",
    "                        is_blue = not is_blue\n",
    "        \n",
    "        pressed = pygame.key.get_pressed()\n",
    "        if pressed[pygame.K_UP]: y -= 3\n",
    "        if pressed[pygame.K_DOWN]: y += 3\n",
    "        if pressed[pygame.K_LEFT]: x -= 3\n",
    "        if pressed[pygame.K_RIGHT]: x += 3\n",
    "        \n",
    "        screen.fill((0, 0, 0))\n",
    "        if is_blue: color = (0, 128, 255)\n",
    "        else: color = (255, 100, 0)\n",
    "        pygame.draw.rect(screen, color, pygame.Rect(x, y, 60, 60))\n",
    "        \n",
    "        pygame.display.flip()\n",
    "        clock.tick(60)"
   ]
  },
  {
   "cell_type": "code",
   "execution_count": 2,
   "id": "9f03e077-6cf2-4c2b-9af4-3f4a435c1d0b",
   "metadata": {},
   "outputs": [
    {
     "name": "stdin",
     "output_type": "stream",
     "text": [
      " -3\n",
      " 6\n"
     ]
    },
    {
     "name": "stdout",
     "output_type": "stream",
     "text": [
      "2\n"
     ]
    }
   ],
   "source": [
    "x = int(input())\n",
    "y = int(input())\n",
    "\n",
    "if x > 0 and y > 0:\n",
    "    print(1)\n",
    "else:\n",
    "    if x < 0 and y > 0:\n",
    "        print(2)\n",
    "    else:\n",
    "        if x < 0 and y < 0:\n",
    "            print(3)\n",
    "        else:\n",
    "            if x < 0 and y > 0:\n",
    "                print(4)\n",
    "            else:\n",
    "                print('НИКОГДА!')"
   ]
  },
  {
   "cell_type": "code",
   "execution_count": 4,
   "id": "7667e0f6-a79d-4919-bac9-2d2e006378cb",
   "metadata": {},
   "outputs": [
    {
     "name": "stdin",
     "output_type": "stream",
     "text": [
      " -3\n",
      " -6\n"
     ]
    },
    {
     "name": "stdout",
     "output_type": "stream",
     "text": [
      "3\n"
     ]
    }
   ],
   "source": [
    "x = int(input())\n",
    "y = int(input())\n",
    "\n",
    "if x > 0 and y > 0:\n",
    "    print(1)\n",
    "else:\n",
    "    if x < 0 and y > 0:\n",
    "        print(2)\n",
    "    else:\n",
    "        if x < 0 and y < 0:\n",
    "            print(3)\n",
    "        else:\n",
    "            if x < 0 and y > 0:\n",
    "                print(4)\n",
    "            else:\n",
    "                print('НИКОГДА!')"
   ]
  },
  {
   "cell_type": "code",
   "execution_count": 6,
   "id": "7b9e15ff-c8e8-4650-8fd2-1b271f40431c",
   "metadata": {},
   "outputs": [
    {
     "name": "stdin",
     "output_type": "stream",
     "text": [
      " 43\n",
      " -6\n"
     ]
    },
    {
     "name": "stdout",
     "output_type": "stream",
     "text": [
      "4\n"
     ]
    }
   ],
   "source": [
    "x = int(input())\n",
    "y = int(input())\n",
    "\n",
    "if x > 0 and y > 0:\n",
    "    print(1)\n",
    "else:\n",
    "    if x < 0 and y > 0:\n",
    "        print(2)\n",
    "    else:\n",
    "        if x < 0 and y < 0:\n",
    "            print(3)\n",
    "        else:\n",
    "            if x > 0 and y < 0:\n",
    "                print(4)\n",
    "            else:\n",
    "                print('НИКОГДА!')"
   ]
  },
  {
   "cell_type": "code",
   "execution_count": 7,
   "id": "0279d41d-ace1-4f15-ab8a-8bc3612a71b3",
   "metadata": {},
   "outputs": [
    {
     "name": "stdin",
     "output_type": "stream",
     "text": [
      " 0\n",
      " 5\n"
     ]
    },
    {
     "name": "stdout",
     "output_type": "stream",
     "text": [
      "НИКОГДА!\n"
     ]
    }
   ],
   "source": [
    "x = int(input())\n",
    "y = int(input())\n",
    "\n",
    "if x > 0 and y > 0:\n",
    "    print(1)\n",
    "else:\n",
    "    if x < 0 and y > 0:\n",
    "        print(2)\n",
    "    else:\n",
    "        if x < 0 and y < 0:\n",
    "            print(3)\n",
    "        else:\n",
    "            if x > 0 and y < 0:\n",
    "                print(4)\n",
    "            else:\n",
    "                print('НИКОГДА!')"
   ]
  },
  {
   "cell_type": "code",
   "execution_count": null,
   "id": "49c16b24-8922-4a89-a050-4659ec9f609c",
   "metadata": {},
   "outputs": [],
   "source": []
  }
 ],
 "metadata": {
  "kernelspec": {
   "display_name": "Python 3 (ipykernel)",
   "language": "python",
   "name": "python3"
  },
  "language_info": {
   "codemirror_mode": {
    "name": "ipython",
    "version": 3
   },
   "file_extension": ".py",
   "mimetype": "text/x-python",
   "name": "python",
   "nbconvert_exporter": "python",
   "pygments_lexer": "ipython3",
   "version": "3.11.5"
  }
 },
 "nbformat": 4,
 "nbformat_minor": 5
}
